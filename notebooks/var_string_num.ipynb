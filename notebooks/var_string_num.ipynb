{
 "metadata": {
  "name": "var_string_num"
 }, 
 "nbformat": 2, 
 "worksheets": [
  {
   "cells": [
    {
     "cell_type": "markdown", 
     "source": [
      "Variables, Strings, and Numbers", 
      "===", 
      "In this section, you will learn to store information in variables. You will learn about two types of data: strings, which are sets of characters, and numerical data types."
     ]
    }, 
    {
     "cell_type": "markdown", 
     "source": [
      "Contents", 
      "---", 
      "- Variables", 
      "  - Example", 
      "  - Naming rules", 
      "  - NameError", 
      "- Strings", 
      "  - Single and double quotes", 
      "  - Changing case", 
      "  - Combining strings (concatenation)", 
      "  - Stripping whitespace", 
      "- Numbers", 
      "  - Integer operations", 
      "  - Floating-point numbers", 
      "  - Integers in Python 2.7", 
      "- Comments", 
      "- Zen of Python", 
      "- Exercises and Challenges"
     ]
    }, 
    {
     "cell_type": "markdown", 
     "source": [
      "Variables", 
      "===", 
      "A variable holds a value."
     ]
    }, 
    {
     "cell_type": "markdown", 
     "source": [
      "Example", 
      "---"
     ]
    }, 
    {
     "cell_type": "code", 
     "collapsed": false, 
     "input": [
      "message = \"Hello IPython world!\"", 
      "print(message)"
     ], 
     "language": "python", 
     "outputs": [
      {
       "output_type": "stream", 
       "stream": "stdout", 
       "text": [
        "Hello IPython world!"
       ]
      }
     ], 
     "prompt_number": 1
    }, 
    {
     "cell_type": "markdown", 
     "source": [
      "A variable holds a value. You can change the value of a variable at any point."
     ]
    }, 
    {
     "cell_type": "code", 
     "collapsed": false, 
     "input": [
      "message = \"Hello IPython world!\"", 
      "print(message)", 
      "", 
      "message = \"IPython makes teaching so much easier!\"", 
      "print(message)"
     ], 
     "language": "python", 
     "outputs": [
      {
       "output_type": "stream", 
       "stream": "stdout", 
       "text": [
        "Hello IPython world!", 
        "IPython makes teaching so much easier!"
       ]
      }
     ], 
     "prompt_number": 2
    }, 
    {
     "cell_type": "markdown", 
     "source": [
      "Naming rules", 
      "---", 
      "- Variables can only contain letters, numbers, and underscores. Variable names can start with a letter or an underscore, but can not start with a number.", 
      "- Spaces are not allowed in variable names, so we use underscores instead of spaces. For example, use student_name instead of \"student name\".", 
      "- You cannot use [Python keywords](http://docs.python.org/3/reference/lexical_analysis.html#keywords) as variable names.", 
      "- Variable names should be descriptive, without being too long. For example mc_wheels is better than just \"wheels\", and number_of_wheels_on_a_motorycle.", 
      "- Be careful about using the lowercase letter l and the uppercase letter O in places where they could be confused with the numbers 1 and 0."
     ]
    }, 
    {
     "cell_type": "markdown", 
     "source": [
      "NameError", 
      "There is one common error when using variables, that you will almost certainly encounter at some point. Take a look at this code, and see if you can figure out why it causes an error."
     ]
    }, 
    {
     "cell_type": "code", 
     "collapsed": false, 
     "input": [
      "message = \"Thank you for sharing Python with the world, Guido!\"", 
      "print(mesage)"
     ], 
     "language": "python", 
     "outputs": [
      {
       "ename": "NameError", 
       "evalue": "name 'mesage' is not defined", 
       "output_type": "pyerr", 
       "traceback": [
        "\u001b[0;31m---------------------------------------------------------------------------\u001b[0m\n\u001b[0;31mNameError\u001b[0m                                 Traceback (most recent call last)", 
        "\u001b[0;32m/home/ehmatthes/development_resources/project_notes/intro_programming/notebooks/<ipython-input-12-7966723379c3>\u001b[0m in \u001b[0;36m<module>\u001b[0;34m()\u001b[0m\n\u001b[1;32m      1\u001b[0m \u001b[0mmessage\u001b[0m \u001b[0;34m=\u001b[0m \u001b[0;34m\"Thank you for sharing Python with the world, Guido!\"\u001b[0m\u001b[0;34m\u001b[0m\u001b[0m\n\u001b[0;32m----> 2\u001b[0;31m \u001b[0;32mprint\u001b[0m\u001b[0;34m(\u001b[0m\u001b[0mmesage\u001b[0m\u001b[0;34m)\u001b[0m\u001b[0;34m\u001b[0m\u001b[0m\n\u001b[0m", 
        "\u001b[0;31mNameError\u001b[0m: name 'mesage' is not defined"
       ]
      }
     ], 
     "prompt_number": 12
    }, 
    {
     "cell_type": "markdown", 
     "source": [
      "Let's look through this error message. First, we see it is a NameError. Then we see the file that caused the error, and a green arrow shows us what line in that file caused the error. Then we get some more specific feedback, that \"name 'mesage' is not defined\".", 
      "", 
      "You may have already spotted the source of the error. We spelled message two different ways. Python does not care whether we use the variable name \"message\" or \"mesage\". Python only cares that the spellings of our variable names match every time we use them.", 
      "", 
      "This is pretty important, because it allows us to have a variable \"name\" with a single name in it, and then another variable \"names\" with a bunch of names in it.", 
      "", 
      "We can fix NameErrors by making sure all of our variable names are spelled consistently."
     ]
    }, 
    {
     "cell_type": "code", 
     "collapsed": false, 
     "input": [
      "message = \"Thank you for sharing Python with the world, Guido!\"", 
      "print(message)"
     ], 
     "language": "python", 
     "outputs": [
      {
       "output_type": "stream", 
       "stream": "stdout", 
       "text": [
        "Thank you for sharing Python with the world, Guido!"
       ]
      }
     ], 
     "prompt_number": 13
    }, 
    {
     "cell_type": "markdown", 
     "source": [
      "In case you didn't know [Guido](http://en.wikipedia.org/wiki/Guido_van_Rossum) [van Rossum](http://www.python.org/~guido/)created the Python language over 20 years ago, and he is considered Python's [Benevolent Dictator for Life](http://en.wikipedia.org/wiki/Benevolent_Dictator_for_Life). Guido still signs off on all major changes to the core Python language."
     ]
    }, 
    {
     "cell_type": "markdown", 
     "source": [
      "Strings", 
      "===", 
      "Strings are sets of characters. Strings are easier to understand by looking at some examples."
     ]
    }, 
    {
     "cell_type": "markdown", 
     "source": [
      "Single and double quotes", 
      "---", 
      "Strings are contained by either single or double quotes."
     ]
    }, 
    {
     "cell_type": "code", 
     "collapsed": true, 
     "input": [
      "my_string = \"This is a double-quoted string.\"", 
      "my_string = 'This is a single-quoted string.'"
     ], 
     "language": "python", 
     "outputs": []
    }, 
    {
     "cell_type": "markdown", 
     "source": [
      "This lets us make strings that contain quotations."
     ]
    }, 
    {
     "cell_type": "code", 
     "collapsed": true, 
     "input": [
      "quote = \"Linus Torvalds once said, 'Any program is only as good as it is useful.'\""
     ], 
     "language": "python", 
     "outputs": []
    }, 
    {
     "cell_type": "markdown", 
     "source": [
      "Changing case", 
      "---", 
      "You can easily change the case of a string, to present it the way you want it to look."
     ]
    }, 
    {
     "cell_type": "code", 
     "collapsed": false, 
     "input": [
      "first_name = 'eric'", 
      "", 
      "print(first_name)", 
      "print(first_name.title())"
     ], 
     "language": "python", 
     "outputs": [
      {
       "output_type": "stream", 
       "stream": "stdout", 
       "text": [
        "eric", 
        "Eric"
       ]
      }
     ], 
     "prompt_number": 4
    }, 
    {
     "cell_type": "markdown", 
     "source": [
      "It is often good to store data in lower case, and then change the case as you want to for presentation. This catches some TYpos. It also makes sure that 'eric', 'Eric', and 'ERIC' are not considered three different people.", 
      "", 
      "Some of the most common cases are lower, title, and upper."
     ]
    }, 
    {
     "cell_type": "code", 
     "collapsed": false, 
     "input": [
      "first_name = 'eric'", 
      "", 
      "print(first_name)", 
      "print(first_name.title())", 
      "print(first_name.upper())", 
      "", 
      "first_name = 'Eric'", 
      "print(first_name.lower())"
     ], 
     "language": "python", 
     "outputs": [
      {
       "output_type": "stream", 
       "stream": "stdout", 
       "text": [
        "eric", 
        "Eric", 
        "ERIC", 
        "eric"
       ]
      }
     ], 
     "prompt_number": 6
    }, 
    {
     "cell_type": "markdown", 
     "source": [
      "You will see this syntax quite often, where a variable name is followed by a dot and then the name of an action, followed by a set of parentheses. The parentheses may be empty, or they may contain some values.", 
      "", 
      "variable_name.action()", 
      "", 
      "In this example, the word \"action\" is the name of a method. A method is something that can be done to a variable. The methods 'lower', 'title', and 'upper' are all functions that have been written into the Python language, which do something to strings. Later on, you will learn to write your own methods."
     ]
    }, 
    {
     "cell_type": "markdown", 
     "source": [
      "Combining strings (concatenation)", 
      "---", 
      "It is often very useful to be able to combine strings into a message or page element that we want to display. Again, this is easier to understand through an example."
     ]
    }, 
    {
     "cell_type": "code", 
     "collapsed": false, 
     "input": [
      "first_name = 'ada'", 
      "last_name = 'lovelace'", 
      "", 
      "full_name = first_name + ' ' + last_name", 
      "", 
      "print(full_name.title())"
     ], 
     "language": "python", 
     "outputs": [
      {
       "output_type": "stream", 
       "stream": "stdout", 
       "text": [
        "Ada Lovelace"
       ]
      }
     ], 
     "prompt_number": 8
    }, 
    {
     "cell_type": "markdown", 
     "source": [
      "The plus sign combines two strings into one, which is called \"concatenation\". You can use as many plus signs as you want in composing messages. In fact, many web pages are written as giant strings which are put together through a long series of string concatenations."
     ]
    }, 
    {
     "cell_type": "code", 
     "collapsed": false, 
     "input": [
      "first_name = 'ada'", 
      "last_name = 'lovelace'", 
      "full_name = first_name + ' ' + last_name", 
      "", 
      "message = full_name.title() + ' ' + \"was considered the world's first computer programmer.\"", 
      "", 
      "print(message)"
     ], 
     "language": "python", 
     "outputs": [
      {
       "output_type": "stream", 
       "stream": "stdout", 
       "text": [
        "Ada Lovelace was considered the world's first computer programmer."
       ]
      }
     ], 
     "prompt_number": 9
    }, 
    {
     "cell_type": "markdown", 
     "source": [
      "If you don't know who Ada Lovelace is, you might want to go read what [Wikipedia](http://en.wikipedia.org/wiki/Ada_Lovelace) or the [Computer History Museum](http://www.computerhistory.org/babbage/adalovelace/) have to say about her. Her life and her work are also the inspiration for the [Ada Initiative](http://adainitiative.org/faq/about-ada-lovelace/), which supports women who are involved in technical fields."
     ]
    }, 
    {
     "cell_type": "markdown", 
     "source": [
      "Stripping whitespace", 
      "---", 
      "Many times you will allow users to enter text into a box, and then you will read that text and use it. It is really easy for people to include extra whitespace at the beginning or end of their text. Whitespace includes spaces, tabs, and new lines.", 
      "", 
      "It is often a good idea to strip this whitespace from strings before you start working with them. For example, you might want to let people log in, and you probably want to treat 'eric ' as 'eric' when you are trying to see if I exist on your system.", 
      "", 
      "You can strip whitespace from the left side, the right side, or both sides of a string."
     ]
    }, 
    {
     "cell_type": "code", 
     "collapsed": false, 
     "input": [
      "name = ' eric '", 
      "", 
      "print(name.lstrip())", 
      "print(name.rstrip())", 
      "print(name.strip())"
     ], 
     "language": "python", 
     "outputs": [
      {
       "output_type": "stream", 
       "stream": "stdout", 
       "text": [
        "eric ", 
        " eric", 
        "eric"
       ]
      }
     ], 
     "prompt_number": 10
    }, 
    {
     "cell_type": "markdown", 
     "source": [
      "It's hard to see exactly what is happening, so maybe the following will make it a little more clear:"
     ]
    }, 
    {
     "cell_type": "code", 
     "collapsed": false, 
     "input": [
      "name = ' eric '", 
      "", 
      "print('-' + name.lstrip() + '-')", 
      "print('-' + name.rstrip() + '-')", 
      "print('-' + name.strip() + '-')"
     ], 
     "language": "python", 
     "outputs": [
      {
       "output_type": "stream", 
       "stream": "stdout", 
       "text": [
        "-eric -", 
        "- eric-", 
        "-eric-"
       ]
      }
     ], 
     "prompt_number": 11
    }, 
    {
     "cell_type": "markdown", 
     "source": [
      "Exercises and Challenges", 
      "===", 
      "Programming is fun when you get to use it. We are just getting started, so your programs are going to be really simple for now. Don't worry about it, just run through them and see what happens."
     ]
    }, 
    {
     "cell_type": "markdown", 
     "source": [
      "Exercises", 
      "---", 
      "- Write a program that...", 
      "  - stores some version of \"Hello World\" in a variable, and prints it.", 
      "  - stores your first name and last name in separate variables, and then combines them to print out your full name."
     ]
    }, 
    {
     "cell_type": "markdown", 
     "source": [
      "[Introduction to Programming home page](http://nbviewer.ipython.org/urls/raw.github.com/ehmatthes/intro_programming/master/notebooks/intro_programming_index.ipynb#hello_world)"
     ]
    }
   ]
  }
 ]
}