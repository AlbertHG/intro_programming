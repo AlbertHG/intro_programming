{
 "metadata": {
  "name": "syllabus"
 }, 
 "nbformat": 2, 
 "worksheets": [
  {
   "cells": [
    {
     "cell_type": "markdown", 
     "source": [
      "Syllabus", 
      "==="
     ]
    }, 
    {
     "cell_type": "markdown", 
     "source": [
      "Introduction", 
      "---", 
      "- What is programming?", 
      "- What is not programming?", 
      "- what kinds of things can programmers build?"
     ]
    }, 
    {
     "cell_type": "markdown", 
     "source": [
      "Setting up our programming environment", 
      "---", 
      "- Dual-boot school computers to run Ubuntu linux", 
      "- Configure computers to run Python 3.3"
     ]
    }, 
    {
     "cell_type": "markdown", 
     "source": [
      "Python Basics", 
      "---", 
      "- [Hello World](http://nbviewer.ipython.org/urls/raw.github.com/ehmatthes/intro_programming/master/notebooks/hello_world.ipynb)", 
      "- [Variables, strings, and Numbers](http://nbviewer.ipython.org/urls/raw.github.com/ehmatthes/intro_programming/master/notebooks/var_string_num.ipynb)", 
      "- Lists and Tuples", 
      "- If statements", 
      "- Dictionaries", 
      "- Classes", 
      "- Functions", 
      "- Errors (Exceptions)", 
      "- Testing"
     ]
    }, 
    {
     "cell_type": "markdown", 
     "source": [
      "Projects in Python", 
      "---", 
      "- Text-based Adventure Game", 
      "- Video Game", 
      "  - 2-dimensional, straight-line motion game", 
      "- Visualization", 
      "  - see [Data is Beautiful](http://www.reddit.com/r/dataisbeautiful) for examples", 
      "- Simple web application", 
      "  - for example, a blog that you can make posts to"
     ]
    }, 
    {
     "cell_type": "markdown", 
     "source": [
      "[Introduction to Programming home page](http://nbviewer.ipython.org/urls/raw.github.com/ehmatthes/intro_programming/master/notebooks/intro_programming_index.ipynb#hello_world)"
     ]
    }
   ]
  }
 ]
}