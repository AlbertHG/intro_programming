{
 "metadata": {
  "name": "lists_tuples"
 },
 "nbformat": 3,
 "nbformat_minor": 0,
 "worksheets": [
  {
   "cells": [
    {
     "cell_type": "markdown",
     "metadata": {},
     "source": [
      "Lists and Tuples\n",
      "===\n",
      "In this notebook, you will learn to store more than one valuable in a single variable. This by itself is one of the most powerful ideas in programming, and it introduces a number of other central concepts such as loops. If this section ends up making sense to you, you will be able to start writing some interesting programs, and you can be more confident that you will be able to develop overall competence as a programmer."
     ]
    },
    {
     "cell_type": "markdown",
     "metadata": {},
     "source": [
      "[Previous: Variables, Strings, and Numbers](http://nbviewer.ipython.org/urls/raw.github.com/ehmatthes/intro_programming/master/notebooks/var_string_num.ipynb) | \n",
      "[Introduction to Programming home page](http://nbviewer.ipython.org/urls/raw.github.com/ehmatthes/intro_programming/master/notebooks/intro_programming_index.ipynb)"
     ]
    },
    {
     "cell_type": "markdown",
     "metadata": {},
     "source": [
      "Contents\n",
      "===\n",
      "- [Lists](#lists)\n",
      "    - [Introducing Lists](#introducing)\n",
      "        - Example\n",
      "        - Naming and defining a list\n",
      "        - Accessing one item in a list\n",
      "        - [Exercises](#exercises_list_introduction)\n",
      "    - [Lists and Looping](#looping)\n",
      "        - Accessing all elements in a list\n",
      "        - [Exercises](#exercises_list_loop)\n",
      "    - [Common List Operations](#common_operations)\n",
      "        - Modifying elements in a list\n",
      "        - Finding an element in a list\n",
      "        - Testing whether an element is in a list\n",
      "        - Adding items to a list\n",
      "        - [Exercises](#exercises_common_operations)\n",
      "    - [Removing Items from a List](#removing_items)\n",
      "        - Removing items by position\n",
      "        - Removing items by value\n",
      "        - Popping items"
     ]
    },
    {
     "cell_type": "markdown",
     "metadata": {},
     "source": [
      "<a name='lists'></a>Lists\n",
      "==="
     ]
    },
    {
     "cell_type": "markdown",
     "metadata": {},
     "source": [
      "<a name='introducing'></a>Introducing Lists\n",
      "===\n",
      "Example\n",
      "---\n",
      "A list is a collection of items, that is stored in a variable. The items should be related in some way, but there are no restrictions on what can be stored in a list. Here is a simple example of a list, and how we can quickly access each item in the list."
     ]
    },
    {
     "cell_type": "code",
     "collapsed": false,
     "input": [
      "students = ['bernice', 'aaron', 'cody']\n",
      "\n",
      "for student in students:\n",
      "    print(\"Hello, \" + student.title() + \"!\")"
     ],
     "language": "python",
     "metadata": {},
     "outputs": [
      {
       "output_type": "stream",
       "stream": "stdout",
       "text": [
        "Hello, Bernice!\n",
        "Hello, Aaron!\n",
        "Hello, Cody!\n"
       ]
      }
     ],
     "prompt_number": 3
    },
    {
     "cell_type": "markdown",
     "metadata": {},
     "source": [
      "Naming and defining a list\n",
      "---\n",
      "Since lists are collection of objects, it is good practice to give them a plural name. If each item in your list is a car, call the list 'cars'. If each item is a dog, call your list 'dogs'. This gives you a straightforward way to refer to the entire list ('dogs'), and to a single item in the list ('dog').\n",
      "\n",
      "In Python, square brackets designate a list. To define a list, you give the name of the list, the equals sign, and the values you want to include in your list within square brackets."
     ]
    },
    {
     "cell_type": "code",
     "collapsed": false,
     "input": [
      "dogs = ['border collie', 'australian cattle dog', 'labrador retriever']"
     ],
     "language": "python",
     "metadata": {},
     "outputs": []
    },
    {
     "cell_type": "markdown",
     "metadata": {},
     "source": [
      "Accessing one item in a list\n",
      "---\n",
      "Items in a list are identified by their position in the list, starting with zero. This will almost certainly trip you up at some point. Programmers even joke about how often we all make \"off-by-one\" errors, so don't feel bad when you make this kind of error.\n",
      "\n",
      "To access the first element in a list, you give the name of the list, followed by a zero in parentheses."
     ]
    },
    {
     "cell_type": "code",
     "collapsed": false,
     "input": [
      "dogs = ['border collie', 'australian cattle dog', 'labrador retriever']\n",
      "\n",
      "dog = dogs[0]\n",
      "print(dog.title())"
     ],
     "language": "python",
     "metadata": {},
     "outputs": [
      {
       "output_type": "stream",
       "stream": "stdout",
       "text": [
        "Border Collie\n"
       ]
      }
     ],
     "prompt_number": 6
    },
    {
     "cell_type": "markdown",
     "metadata": {},
     "source": [
      "The number in parentheses is called the **index** of the item. Because lists start at zero, the index of an item is always one less than its position in the list. So to get the second item in the list, we need to use an index of 1."
     ]
    },
    {
     "cell_type": "code",
     "collapsed": false,
     "input": [
      "dogs = ['border collie', 'australian cattle dog', 'labrador retriever']\n",
      "\n",
      "dog = dogs[1]\n",
      "print(dog.title())"
     ],
     "language": "python",
     "metadata": {},
     "outputs": [
      {
       "output_type": "stream",
       "stream": "stdout",
       "text": [
        "Australian Cattle Dog\n"
       ]
      }
     ],
     "prompt_number": 7
    },
    {
     "cell_type": "markdown",
     "metadata": {},
     "source": [
      "### Accessing the last item in a list\n",
      "You can probably see that to get the last item in this list, we would use an index of 2. This works, but it would only work because our list has exactly three items. To get the last item in a list, no matter how long the list is, you can use an index of -1."
     ]
    },
    {
     "cell_type": "code",
     "collapsed": false,
     "input": [
      "dogs = ['border collie', 'australian cattle dog', 'labrador retriever']\n",
      "\n",
      "dog = dogs[-1]\n",
      "print(dog.title())"
     ],
     "language": "python",
     "metadata": {},
     "outputs": [
      {
       "output_type": "stream",
       "stream": "stdout",
       "text": [
        "Labrador Retriever\n"
       ]
      }
     ],
     "prompt_number": 8
    },
    {
     "cell_type": "markdown",
     "metadata": {},
     "source": [
      "[top](#top)"
     ]
    },
    {
     "cell_type": "markdown",
     "metadata": {},
     "source": [
      "<a name='exercises_list_introduction'></a>Exercises\n",
      "---\n",
      "#### First List\n",
      "- Store the values 'python', 'c', and 'java' in a list. Print each of these values out, using their position in the list.\n",
      "\n",
      "#### First Neat List\n",
      "- Store the values 'python', 'c', and 'java' in a list. Print a statement about each of these values, using their position in the list.\n",
      "- Your statement could simply be, 'A nice programming language is *value*.'\n",
      "\n",
      "#### Your First List\n",
      "- Think of something you can store in a list. Make a list with three or four items, and then print a message that includes one item from your list. Your sentence could be as simple as, \"One item in my list is a ____.\""
     ]
    },
    {
     "cell_type": "markdown",
     "metadata": {},
     "source": [
      "<a name=#looping></a>Lists and Looping\n",
      "==="
     ]
    },
    {
     "cell_type": "markdown",
     "metadata": {},
     "source": [
      "Accessing all elements in a list\n",
      "---\n",
      "This is one of the most important concepts related to lists. You can have a list with a million items in it, and in three lines of code you can write a sentence for each of those million items. If you want to understand lists, and become a competent programmer, make sure you take the time to understand this section.\n",
      "\n",
      "We use a loop to access all the elements in a list. A loop is a block of code that repeats itself until it runs out of items to work with, or until a certain condition is met. In this case, our loop will run once for every item in our list. With a list that is three items long, our loop will run three times.\n",
      "\n",
      "Let's take a look at how we access all the items in a list, and then try to understand how it works."
     ]
    },
    {
     "cell_type": "code",
     "collapsed": false,
     "input": [
      "dogs = ['border collie', 'australian cattle dog', 'labrador retriever']\n",
      "\n",
      "for dog in dogs:\n",
      "    print(dog)"
     ],
     "language": "python",
     "metadata": {},
     "outputs": [
      {
       "output_type": "stream",
       "stream": "stdout",
       "text": [
        "border collie\n",
        "australian cattle dog\n",
        "labrador retriever\n"
       ]
      }
     ],
     "prompt_number": 15
    },
    {
     "cell_type": "markdown",
     "metadata": {},
     "source": [
      "We have already seen how to create a list, so we are really just trying to understand how the last two lines work. These last two lines make up a loop, and the language here can help us see what is happening:\n",
      "\n",
      "    for dog in dogs:\n",
      "\n",
      "- The keyword \"for\" tells Python to get ready to use a loop.\n",
      "- The variable \"dog\", with no \"s\" on it, is a temporary placeholder variable. This is the variable that Python will place each item in the list into, one at a time.\n",
      "- The first time through the loop, the value of \"dog\" will be 'border collie'.\n",
      "- The second time through the loop, the value of \"dog\" will be 'australian cattle dog'.\n",
      "- The third time through, \"dog\" will be 'labrador retriever'.\n",
      "- After this, there are no more items in the list, and the loop will end.\n",
      "\n",
      "The site <a href=\"http://pythontutor.com/visualize.html#code=dogs+%3D+%5B'border+collie',+'australian+cattle+dog',+'labrador+retriever'%5D%0A%0Afor+dog+in+dogs%3A%0A++++print(dog)&mode=display&cumulative=false&heapPrimitives=false&drawParentPointers=false&textReferences=false&showOnlyOutputs=false&py=3&curInstr=0\">pythontutor.com</a> allows you to run Python code one line at a time. As you run the code, there is also a visualization on the screen that shows you how the variable \"dog\" holds different values as the loop progresses. There is also an arrow that moves around your code, showing you how some lines are run just once, while other lines are run multiple tiimes. If you would like to see this in action, click the Forward button and watch the visualization, and the output as it is printed to the screen. Tools like this are incredibly valuable for seeing what Python is doing with your code.\n",
      "\n",
      "### Doing more with each item\n",
      "\n",
      "We can do whatever we want with the value of \"dog\" inside the loop. In this case, we just print the name of the dog.\n",
      "\n",
      "    print(dog)\n",
      "\n",
      "We are not limited to just printing the word dog. We can do whatever we want with this value, and this action will be carried out for every item in the list. Let's say something about each dog in our list."
     ]
    },
    {
     "cell_type": "code",
     "collapsed": false,
     "input": [
      "dogs = ['border collie', 'australian cattle dog', 'labrador retriever']\n",
      "\n",
      "for dog in dogs:\n",
      "    print('I like ' + dog + 's.')"
     ],
     "language": "python",
     "metadata": {},
     "outputs": [
      {
       "output_type": "stream",
       "stream": "stdout",
       "text": [
        "I like border collies.\n",
        "I like australian cattle dogs.\n",
        "I like labrador retrievers.\n"
       ]
      }
     ],
     "prompt_number": 16
    },
    {
     "cell_type": "markdown",
     "metadata": {},
     "source": [
      "Visualize this on <a href=\"http://pythontutor.com/visualize.html#code=dogs+%3D+%5B'border+collie',+'australian+cattle+dog',+'labrador+retriever'%5D%0A%0Afor+dog+in+dogs%3A%0A++++print('I+like+'+%2B+dog+%2B+'s.')&mode=display&cumulative=false&heapPrimitives=false&drawParentPointers=false&textReferences=false&showOnlyOutputs=false&py=3&curInstr=0\">pythontutor</a>.\n",
      "\n",
      "### Inside and outside the loop\n",
      "\n",
      "Python uses indentation to decide what is inside the loop and what is outside the loop. Code that is inside the loop will be run for every item in the list. Code that is not indented, which comes after the loop, will be run once just like regular code."
     ]
    },
    {
     "cell_type": "code",
     "collapsed": false,
     "input": [
      "dogs = ['border collie', 'australian cattle dog', 'labrador retriever']\n",
      "\n",
      "for dog in dogs:\n",
      "    print('I like ' + dog + 's.')\n",
      "    print('No, I really really like ' + dog +'s!\\n')\n",
      "    \n",
      "print(\"\\nThat's just how I feel about dogs.\")"
     ],
     "language": "python",
     "metadata": {},
     "outputs": [
      {
       "output_type": "stream",
       "stream": "stdout",
       "text": [
        "I like border collies.\n",
        "No, I really really like border collies!\n",
        "\n",
        "I like australian cattle dogs.\n",
        "No, I really really like australian cattle dogs!\n",
        "\n",
        "I like labrador retrievers.\n",
        "No, I really really like labrador retrievers!\n",
        "\n",
        "\n",
        "That's just how I feel about dogs.\n"
       ]
      }
     ],
     "prompt_number": 18
    },
    {
     "cell_type": "markdown",
     "metadata": {},
     "source": [
      "Notice that the last line only runs once, after the loop is completed. Also notice the use of newlines (\"\\n\") to make the output easier to read. Run this code on <a href=\"http://pythontutor.com/visualize.html#code=dogs+%3D+%5B'border+collie',+'australian+cattle+dog',+'labrador+retriever'%5D%0A%0Afor+dog+in+dogs%3A%0A++++print('I+like+'+%2B+dog+%2B+'s.')%0A++++print('No,+I+really+really+like+'+%2B+dog+%2B's!%5Cn')%0A++++%0Aprint(%22%5CnThat's+just+how+I+feel+about+dogs.%22)&mode=display&cumulative=false&heapPrimitives=false&drawParentPointers=false&textReferences=false&showOnlyOutputs=false&py=3&curInstr=0\">pythontutor</a>.\n",
      "\n",
      "### A common looping error\n",
      "One common looping error occurs when instead of using the single variable *dog* inside the loop, we accidentally use the variable that holds the entire list:"
     ]
    },
    {
     "cell_type": "code",
     "collapsed": false,
     "input": [
      "dogs = ['border collie', 'australian cattle dog', 'labrador retriever']\n",
      "\n",
      "for dog in dogs:\n",
      "    print(dogs)"
     ],
     "language": "python",
     "metadata": {},
     "outputs": [
      {
       "output_type": "stream",
       "stream": "stdout",
       "text": [
        "['border collie', 'australian cattle dog', 'labrador retriever']\n",
        "['border collie', 'australian cattle dog', 'labrador retriever']\n",
        "['border collie', 'australian cattle dog', 'labrador retriever']\n"
       ]
      }
     ],
     "prompt_number": 19
    },
    {
     "cell_type": "markdown",
     "metadata": {},
     "source": [
      "In this example, instead of printing each dog in the list, we print the entire list every time we go through the loop. Python puts each individual item in the list into the variable *dog*, but we never use that variable. Sometimes you will just get an error if you try to do this:"
     ]
    },
    {
     "cell_type": "code",
     "collapsed": false,
     "input": [
      "dogs = ['border collie', 'australian cattle dog', 'labrador retriever']\n",
      "\n",
      "for dog in dogs:\n",
      "    print('I like ' + dogs + 's.')"
     ],
     "language": "python",
     "metadata": {},
     "outputs": [
      {
       "ename": "TypeError",
       "evalue": "Can't convert 'list' object to str implicitly",
       "output_type": "pyerr",
       "traceback": [
        "\u001b[0;31m---------------------------------------------------------------------------\u001b[0m\n\u001b[0;31mTypeError\u001b[0m                                 Traceback (most recent call last)",
        "\u001b[0;32m<ipython-input-20-8e7acc74d7a9>\u001b[0m in \u001b[0;36m<module>\u001b[0;34m()\u001b[0m\n\u001b[1;32m      2\u001b[0m \u001b[0;34m\u001b[0m\u001b[0m\n\u001b[1;32m      3\u001b[0m \u001b[0;32mfor\u001b[0m \u001b[0mdog\u001b[0m \u001b[0;32min\u001b[0m \u001b[0mdogs\u001b[0m\u001b[0;34m:\u001b[0m\u001b[0;34m\u001b[0m\u001b[0m\n\u001b[0;32m----> 4\u001b[0;31m     \u001b[0mprint\u001b[0m\u001b[0;34m(\u001b[0m\u001b[0;34m'I like '\u001b[0m \u001b[0;34m+\u001b[0m \u001b[0mdogs\u001b[0m \u001b[0;34m+\u001b[0m \u001b[0;34m's.'\u001b[0m\u001b[0;34m)\u001b[0m\u001b[0;34m\u001b[0m\u001b[0m\n\u001b[0m",
        "\u001b[0;31mTypeError\u001b[0m: Can't convert 'list' object to str implicitly"
       ]
      }
     ],
     "prompt_number": 20
    },
    {
     "cell_type": "markdown",
     "metadata": {},
     "source": [
      "<a name='exercises_list_loop'></a>Exercises\n",
      "---\n",
      "#### First List - Loop\n",
      "- Repeat *First List*, but this time use a loop to print out each value in the list.\n",
      "\n",
      "#### First Neat List - Loop\n",
      "- Repeat *First Neat List*, but this time use a loop to print out your statements.\n",
      "\n",
      "#### Your First List - Loop\n",
      "- Repeat *Your First List*, but this time use a loop to print out your message for each item in your list."
     ]
    },
    {
     "cell_type": "markdown",
     "metadata": {},
     "source": [
      "[top](#top)"
     ]
    },
    {
     "cell_type": "markdown",
     "metadata": {},
     "source": [
      "<a name='common_operations'></a>Common List Operations\n",
      "==="
     ]
    },
    {
     "cell_type": "markdown",
     "metadata": {},
     "source": [
      "Modifying elements in a list\n",
      "---\n",
      "You can change the value of any element in a list if you know the position of that item."
     ]
    },
    {
     "cell_type": "code",
     "collapsed": false,
     "input": [
      "dogs = ['border collie', 'australian cattle dog', 'labrador retriever']\n",
      "\n",
      "dogs[0] = 'australian shepherd'\n",
      "print(dogs)"
     ],
     "language": "python",
     "metadata": {},
     "outputs": [
      {
       "output_type": "stream",
       "stream": "stdout",
       "text": [
        "['australian shepherd', 'australian cattle dog', 'labrador retriever']\n"
       ]
      }
     ],
     "prompt_number": 2
    },
    {
     "cell_type": "markdown",
     "metadata": {},
     "source": [
      "Finding an element in a list\n",
      "---\n",
      "If you want to find out the position of an element in a list, you can use the index() function."
     ]
    },
    {
     "cell_type": "code",
     "collapsed": false,
     "input": [
      "dogs = ['border collie', 'australian cattle dog', 'labrador retriever']\n",
      "\n",
      "print(dogs.index('australian cattle dog'))"
     ],
     "language": "python",
     "metadata": {},
     "outputs": [
      {
       "output_type": "stream",
       "stream": "stdout",
       "text": [
        "1\n"
       ]
      }
     ],
     "prompt_number": 11
    },
    {
     "cell_type": "markdown",
     "metadata": {},
     "source": [
      "This method returns a ValueError if the requested item is not in the list."
     ]
    },
    {
     "cell_type": "code",
     "collapsed": false,
     "input": [
      "dogs = ['border collie', 'australian cattle dog', 'labrador retriever']\n",
      "\n",
      "print(dogs.index('poodle'))"
     ],
     "language": "python",
     "metadata": {},
     "outputs": [
      {
       "ename": "ValueError",
       "evalue": "'poodle' is not in list",
       "output_type": "pyerr",
       "traceback": [
        "\u001b[0;31m---------------------------------------------------------------------------\u001b[0m\n\u001b[0;31mValueError\u001b[0m                                Traceback (most recent call last)",
        "\u001b[0;32m<ipython-input-13-a9e05e37e8df>\u001b[0m in \u001b[0;36m<module>\u001b[0;34m()\u001b[0m\n\u001b[1;32m      1\u001b[0m \u001b[0mdogs\u001b[0m \u001b[0;34m=\u001b[0m \u001b[0;34m[\u001b[0m\u001b[0;34m'border collie'\u001b[0m\u001b[0;34m,\u001b[0m \u001b[0;34m'australian cattle dog'\u001b[0m\u001b[0;34m,\u001b[0m \u001b[0;34m'labrador retriever'\u001b[0m\u001b[0;34m]\u001b[0m\u001b[0;34m\u001b[0m\u001b[0m\n\u001b[1;32m      2\u001b[0m \u001b[0;34m\u001b[0m\u001b[0m\n\u001b[0;32m----> 3\u001b[0;31m \u001b[0mprint\u001b[0m\u001b[0;34m(\u001b[0m\u001b[0mdogs\u001b[0m\u001b[0;34m.\u001b[0m\u001b[0mindex\u001b[0m\u001b[0;34m(\u001b[0m\u001b[0;34m'poodle'\u001b[0m\u001b[0;34m)\u001b[0m\u001b[0;34m)\u001b[0m\u001b[0;34m\u001b[0m\u001b[0m\n\u001b[0m",
        "\u001b[0;31mValueError\u001b[0m: 'poodle' is not in list"
       ]
      }
     ],
     "prompt_number": 13
    },
    {
     "cell_type": "markdown",
     "metadata": {},
     "source": [
      "Testing whether an item is in a list\n",
      "---\n",
      "You can test whether an item is in a list using the \"in\" keyword. This will become more useful after learning how to use if-else statements."
     ]
    },
    {
     "cell_type": "code",
     "collapsed": false,
     "input": [
      "dogs = ['border collie', 'australian cattle dog', 'labrador retriever']\n",
      "\n",
      "print('australian cattle dog' in dogs)\n",
      "print('poodle' in dogs)"
     ],
     "language": "python",
     "metadata": {},
     "outputs": [
      {
       "output_type": "stream",
       "stream": "stdout",
       "text": [
        "True\n",
        "False\n"
       ]
      }
     ],
     "prompt_number": 12
    },
    {
     "cell_type": "markdown",
     "metadata": {},
     "source": [
      "Adding items to a list\n",
      "---\n",
      "### Appending items to the end of a list\n",
      "We can add an item to a list using the append() method. This method adds the new item to the end of the list."
     ]
    },
    {
     "cell_type": "code",
     "collapsed": false,
     "input": [
      "dogs = ['border collie', 'australian cattle dog', 'labrador retriever']\n",
      "dogs.append('poodle')\n",
      "\n",
      "for dog in dogs:\n",
      "    print(dog.title() + \"s are cool.\")"
     ],
     "language": "python",
     "metadata": {},
     "outputs": [
      {
       "output_type": "stream",
       "stream": "stdout",
       "text": [
        "Border Collies are cool.\n",
        "Australian Cattle Dogs are cool.\n",
        "Labrador Retrievers are cool.\n",
        "Poodles are cool.\n"
       ]
      }
     ],
     "prompt_number": 22
    },
    {
     "cell_type": "markdown",
     "metadata": {},
     "source": [
      "### Inserting items into a list\n",
      "We can also insert items anywhere we want in a list, using the **insert()** function. We specify the position we want the item to have, and everything from that point on is shifted one position to the right. In other words, the index of every item after the new item is increased by one."
     ]
    },
    {
     "cell_type": "code",
     "collapsed": false,
     "input": [
      "dogs = ['border collie', 'australian cattle dog', 'labrador retriever']\n",
      "dogs.insert(1, 'poodle')\n",
      "\n",
      "print(dogs)"
     ],
     "language": "python",
     "metadata": {},
     "outputs": [
      {
       "output_type": "stream",
       "stream": "stdout",
       "text": [
        "['border collie', 'poodle', 'australian cattle dog', 'labrador retriever']\n"
       ]
      }
     ],
     "prompt_number": 24
    },
    {
     "cell_type": "markdown",
     "metadata": {},
     "source": [
      "Note that you have to give the position of the new item first, and then the value of the new item. If you do it in the reverse order, you will get an error."
     ]
    },
    {
     "cell_type": "markdown",
     "metadata": {},
     "source": [
      "Creating an empty list\n",
      "---\n",
      "Now that we know how to add items to a list after it is created, we can use lists more dynamically. We are no longer stuck defining our entire list at once.\n",
      "\n",
      "A common approach with lists is to define an empty list, and then let your program add items to the list as necessary. This approach works, for example, when starting to build an interactive web site. Your list of users might start out empty, and then as people register for the site it will grow. This is a simplified approach to how web sites actually work, but the idea is realistic.\n",
      "\n",
      "Here is a brief example of how to start with an empty list, start to fill it up, and work with the items in the list. The only new thing here is the way we define an empty list, which is just an empty set of square brackets."
     ]
    },
    {
     "cell_type": "code",
     "collapsed": false,
     "input": [
      "# Create an empty list to hold our users.\n",
      "usernames = []\n",
      "\n",
      "# Add some users.\n",
      "usernames.append('bernice')\n",
      "usernames.append('cody')\n",
      "usernames.append('aaron')\n",
      "\n",
      "# Greet all of our users.\n",
      "for username in usernames:\n",
      "    print(\"Welcome, \" + username.title() + '!')"
     ],
     "language": "python",
     "metadata": {},
     "outputs": [
      {
       "output_type": "stream",
       "stream": "stdout",
       "text": [
        "Welcome, Bernice!\n",
        "Welcome, Cody!\n",
        "Welcome, Aaron!\n"
       ]
      }
     ],
     "prompt_number": 25
    },
    {
     "cell_type": "markdown",
     "metadata": {},
     "source": [
      "If we don't change the order in our list, we can use the list to figure out who our oldest and newest users are."
     ]
    },
    {
     "cell_type": "code",
     "collapsed": false,
     "input": [
      "# Create an empty list to hold our users.\n",
      "usernames = []\n",
      "\n",
      "# Add some users.\n",
      "usernames.append('bernice')\n",
      "usernames.append('cody')\n",
      "usernames.append('aaron')\n",
      "\n",
      "# Recognize our first user, and welcome our newest user.\n",
      "print(\"Thank you for being our very first user, \" + usernames[0].title() + '!')\n",
      "print(\"And a warm welcome to our newest user, \" + usernames[-1].title() + '!')"
     ],
     "language": "python",
     "metadata": {},
     "outputs": [
      {
       "output_type": "stream",
       "stream": "stdout",
       "text": [
        "Thank you for being our very first user, Bernice!\n",
        "And a warm welcome to our newest user, Aaron!\n"
       ]
      }
     ],
     "prompt_number": 27
    },
    {
     "cell_type": "markdown",
     "metadata": {},
     "source": [
      "Note that the code welcoming our newest user will always work, because we have used the index -1. If we had used the index 2 we would always get the third user, even as our list of users grows and grows."
     ]
    },
    {
     "cell_type": "markdown",
     "metadata": {},
     "source": [
      "<a name='exercises_list_loop'></a>Exercises\n",
      "---\n",
      "#### Working List\n",
      "- Make a list that includes four careers, such as 'programmer' and 'truck driver'.\n",
      "- Use the *list.index()* function to find the index of one career in your list.\n",
      "- Use the *in* function to show that this career is in your list.\n",
      "- Use the *append()* function to add a new career to your list.\n",
      "- Use the *insert()* function to add a new career at the beginning of the list.\n",
      "- Use a loop to show all the careers in your list.\n",
      "\n",
      "#### Starting From Empty\n",
      "- Create the list you ended up with in *working List*, but this time start your file with an empty list and fill it up using *append()* statements.\n",
      "- Print a statement that tells us what the first career you thought of was.\n",
      "- Print a statement that tells us what the last career you thought of was."
     ]
    },
    {
     "cell_type": "markdown",
     "metadata": {},
     "source": [
      "[top](#top)"
     ]
    },
    {
     "cell_type": "markdown",
     "metadata": {},
     "source": [
      "Removing Items from a List\n",
      "===\n",
      "Hopefully you can see by now that lists are a dynamic structure. We can define an empty list and then fill it up as information comes into our program. To become really dynamic, we need some ways to remove items from a list when we no longer need them. You can remove items from a list through their position, or through their value."
     ]
    },
    {
     "cell_type": "markdown",
     "metadata": {},
     "source": [
      "Removing items by position\n",
      "---\n",
      "If you know the position of an item in a list, you can remove that item using the *del* command. To use this approach, give the command *del* and the name of your list, with the index of the item you want to move in square brackets:"
     ]
    },
    {
     "cell_type": "code",
     "collapsed": false,
     "input": [
      "dogs = ['border collie', 'australian cattle dog', 'labrador retriever']\n",
      "# Remove the first dog from the list.\n",
      "del dogs[0]\n",
      "\n",
      "print(dogs)"
     ],
     "language": "python",
     "metadata": {},
     "outputs": [
      {
       "output_type": "stream",
       "stream": "stdout",
       "text": [
        "['australian cattle dog', 'labrador retriever']\n"
       ]
      }
     ],
     "prompt_number": 30
    },
    {
     "cell_type": "markdown",
     "metadata": {},
     "source": [
      "Removing items by value\n",
      "---\n",
      "You can also remove an item from a list if you know its value. To do this, we use the *remove()* function. Give the name of the list, followed by the word remove with the value of the item you want to remove in parentheses. Python looks through your list, finds the first item with this value, and removes it."
     ]
    },
    {
     "cell_type": "code",
     "collapsed": false,
     "input": [
      "dogs = ['border collie', 'australian cattle dog', 'labrador retriever']\n",
      "# Remove australian cattle dog from the list.\n",
      "dogs.remove('australian cattle dog')\n",
      "\n",
      "print(dogs)"
     ],
     "language": "python",
     "metadata": {},
     "outputs": [
      {
       "output_type": "stream",
       "stream": "stdout",
       "text": [
        "['border collie', 'labrador retriever']\n"
       ]
      }
     ],
     "prompt_number": 31
    },
    {
     "cell_type": "markdown",
     "metadata": {},
     "source": [
      "Be careful to note, however, that *only* the first item with this value is removed. If you have multiple items with the same value, you will have some items with this value left in your list."
     ]
    },
    {
     "cell_type": "code",
     "collapsed": false,
     "input": [
      "letters = ['a', 'b', 'c', 'a', 'b', 'c']\n",
      "# Remove the letter a from the list.\n",
      "letters.remove('a')\n",
      "\n",
      "print(letters)"
     ],
     "language": "python",
     "metadata": {},
     "outputs": [
      {
       "output_type": "stream",
       "stream": "stdout",
       "text": [
        "['b', 'c', 'a', 'b', 'c']\n"
       ]
      }
     ],
     "prompt_number": 32
    },
    {
     "cell_type": "markdown",
     "metadata": {},
     "source": [
      "Popping items from a list\n",
      "---\n",
      "There is a cool concept in programming called \"popping\" items from a collection. Every programming language has some sort of data structure similar to Python's lists. All of these structures can be used as queues, and there are various ways of processing the items in a queue.\n",
      "\n",
      "One simple approach is to start with an empty list, and then add items to that list. When you want to work with the items in the list, you always take the last item from the list, do something with it, and then remove that item. The *pop()* function makes this easy. It removes the last item from the list, and gives it to us so we can work with it. This is easier to show with an example:"
     ]
    },
    {
     "cell_type": "code",
     "collapsed": false,
     "input": [
      "dogs = ['border collie', 'australian cattle dog', 'labrador retriever']\n",
      "last_dog = dogs.pop()\n",
      "\n",
      "print(last_dog)\n",
      "print(dogs)"
     ],
     "language": "python",
     "metadata": {},
     "outputs": [
      {
       "output_type": "stream",
       "stream": "stdout",
       "text": [
        "labrador retriever\n",
        "['border collie', 'australian cattle dog']\n"
       ]
      }
     ],
     "prompt_number": 35
    },
    {
     "cell_type": "markdown",
     "metadata": {},
     "source": [
      "This is an example of a first-in, last-out approach. The first item in the list would be the last item processed if you kept using this approach.\n",
      "\n",
      "You can actually pop any item you want from a list, by giving the index of the item you want to pop. So we could do a first-in, first-out approach by popping the first iem in the list:"
     ]
    },
    {
     "cell_type": "code",
     "collapsed": false,
     "input": [
      "dogs = ['border collie', 'australian cattle dog', 'labrador retriever']\n",
      "first_dog = dogs.pop(0)\n",
      "\n",
      "print(first_dog)\n",
      "print(dogs)"
     ],
     "language": "python",
     "metadata": {},
     "outputs": [
      {
       "output_type": "stream",
       "stream": "stdout",
       "text": [
        "border collie\n",
        "['australian cattle dog', 'labrador retriever']\n"
       ]
      }
     ],
     "prompt_number": 36
    },
    {
     "cell_type": "markdown",
     "metadata": {},
     "source": [
      "[top](#top)"
     ]
    },
    {
     "cell_type": "markdown",
     "metadata": {},
     "source": [
      "[Previous: Variables, Strings, and Numbers](http://nbviewer.ipython.org/urls/raw.github.com/ehmatthes/intro_programming/master/notebooks/var_string_num.ipynb) | \n",
      "[Introduction to Programming home page](http://nbviewer.ipython.org/urls/raw.github.com/ehmatthes/intro_programming/master/notebooks/intro_programming_index.ipynb)"
     ]
    }
   ],
   "metadata": {}
  }
 ]
}