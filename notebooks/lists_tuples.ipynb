{
 "metadata": {
  "name": "lists_tuples"
 },
 "nbformat": 3,
 "nbformat_minor": 0,
 "worksheets": [
  {
   "cells": [
    {
     "cell_type": "markdown",
     "metadata": {},
     "source": [
      "Lists and Tuples\n",
      "===\n",
      "In this notebook, you will learn to store more than one valuable in a single variable. This by itself is one of the most powerful ideas in programming, and it introduces a number of other central concepts such as loops. If this section ends up making sense to you, you will be able to start writing some interesting programs, and you can be more confident that you will be able to develop overall competence as a programmer."
     ]
    },
    {
     "cell_type": "markdown",
     "metadata": {},
     "source": [
      "[Previous: Variables, Strings, and Numbers](http://nbviewer.ipython.org/urls/raw.github.com/ehmatthes/intro_programming/master/notebooks/var_string_num.ipynb) | \n",
      "[Introduction to Programming home page](http://nbviewer.ipython.org/urls/raw.github.com/ehmatthes/intro_programming/master/notebooks/intro_programming_index.ipynb) | \n",
      "[Next: Introducing Functions](http://nbviewer.ipython.org/urls/raw.github.com/ehmatthes/intro_programming/master/notebooks/introducing_functions.ipynb)"
     ]
    },
    {
     "cell_type": "markdown",
     "metadata": {},
     "source": [
      "Contents\n",
      "===\n",
      "- [Lists](#lists)\n",
      "    - [Introducing Lists](#introducing)\n",
      "        - [Example](#example)\n",
      "        - [Naming and defining a list](#naming)\n",
      "        - [Accessing one item in a list](#accessing_one_item)\n",
      "        - [Exercises](#exercises_list_introduction)\n",
      "    - [Lists and Looping](#looping)\n",
      "        - [Accessing all elements in a list](#accessing_all_elements)\n",
      "        - [Exercises](#exercises_list_loop)\n",
      "    - [Common List Operations](#common_operations)\n",
      "        - [Modifying elements in a list](#modifying_elements)\n",
      "        - [Finding an element in a list](#finding_elements)\n",
      "        - [Testing whether an element is in a list](#testing_elements)\n",
      "        - [Adding items to a list](#adding_items)\n",
      "        - [Creating an empty list](#empty_list)\n",
      "        - [Sorting a list](#sorting_list)\n",
      "        - [Finding the length of a list](#length)\n",
      "        - [Exercises](#exercises_common_operations)\n",
      "    - [Removing Items from a List](#removing_items)\n",
      "        - [Removing items by position](#removing_by_position)\n",
      "        - [Removing items by value](#removing_by_value)\n",
      "        - [Popping items](#popping)\n",
      "        - [Exercises](#exercises_removing_items)\n",
      "    - [Want to see what functions are?](#functions)\n",
      "    - [Slicing a List](#slicing)\n",
      "        - [Copying a list](#copying)\n",
      "        - [Exercises](#exercises_slicing)\n",
      "    - [Numerical Lists](#numerical_lists)\n",
      "        - [The *range()* function](#range_function)\n",
      "        - [The *min()*, *max()*, *sum()* functions](#min_max_sum)\n",
      "        - [Exercises](#exercises_numerical)\n",
      "    - [List Comprehensions](#comprehensions)\n",
      "        - [Numerical comprehensions](#comprehensions_numerical)\n",
      "        - [Non-numerical comprehensions](#comprehensions_non_numerical)\n",
      "        - [Exercises](#exercises_comprehensions)\n",
      "    - Common Errors with Lists\n",
      "    - Strings as Lists\n",
      "        - String as a list of characters\n",
      "        - Slicing strings\n",
      "        - Finding substrings\n",
      "        - Splitting strings\n",
      "        - Exercises\n",
      "    - Tuples\n",
      "        - Mutable vs. immutable objects\n",
      "        - What is a tuple?\n",
      "        - Why use a tuple?\n",
      "        - Exercises\n",
      "    - Coding Style: PEP 8\n",
      "        - What is a PEP?\n",
      "        - Why have style conventions?\n",
      "        - What you need to know for now\n",
      "        - Exercises\n",
      "    - Overall Challenges"
     ]
    },
    {
     "cell_type": "markdown",
     "metadata": {},
     "source": [
      "<a name='lists'></a>Lists\n",
      "==="
     ]
    },
    {
     "cell_type": "markdown",
     "metadata": {},
     "source": [
      "<a name='introducing'></a>Introducing Lists\n",
      "===\n",
      "<a name='example'></a>Example\n",
      "---\n",
      "A list is a collection of items, that is stored in a variable. The items should be related in some way, but there are no restrictions on what can be stored in a list. Here is a simple example of a list, and how we can quickly access each item in the list."
     ]
    },
    {
     "cell_type": "code",
     "collapsed": false,
     "input": [
      "students = ['bernice', 'aaron', 'cody']\n",
      "\n",
      "for student in students:\n",
      "    print(\"Hello, \" + student.title() + \"!\")"
     ],
     "language": "python",
     "metadata": {},
     "outputs": [
      {
       "output_type": "stream",
       "stream": "stdout",
       "text": [
        "Hello, Bernice!\n",
        "Hello, Aaron!\n",
        "Hello, Cody!\n"
       ]
      }
     ],
     "prompt_number": 3
    },
    {
     "cell_type": "markdown",
     "metadata": {},
     "source": [
      "<a name='naming'></a>Naming and defining a list\n",
      "---\n",
      "Since lists are collection of objects, it is good practice to give them a plural name. If each item in your list is a car, call the list 'cars'. If each item is a dog, call your list 'dogs'. This gives you a straightforward way to refer to the entire list ('dogs'), and to a single item in the list ('dog').\n",
      "\n",
      "In Python, square brackets designate a list. To define a list, you give the name of the list, the equals sign, and the values you want to include in your list within square brackets."
     ]
    },
    {
     "cell_type": "code",
     "collapsed": false,
     "input": [
      "dogs = ['border collie', 'australian cattle dog', 'labrador retriever']"
     ],
     "language": "python",
     "metadata": {},
     "outputs": []
    },
    {
     "cell_type": "markdown",
     "metadata": {},
     "source": [
      "<a name='accessing_one_item'></a>Accessing one item in a list\n",
      "---\n",
      "Items in a list are identified by their position in the list, starting with zero. This will almost certainly trip you up at some point. Programmers even joke about how often we all make \"off-by-one\" errors, so don't feel bad when you make this kind of error.\n",
      "\n",
      "To access the first element in a list, you give the name of the list, followed by a zero in parentheses."
     ]
    },
    {
     "cell_type": "code",
     "collapsed": false,
     "input": [
      "dogs = ['border collie', 'australian cattle dog', 'labrador retriever']\n",
      "\n",
      "dog = dogs[0]\n",
      "print(dog.title())"
     ],
     "language": "python",
     "metadata": {},
     "outputs": [
      {
       "output_type": "stream",
       "stream": "stdout",
       "text": [
        "Border Collie\n"
       ]
      }
     ],
     "prompt_number": 18
    },
    {
     "cell_type": "markdown",
     "metadata": {},
     "source": [
      "The number in parentheses is called the **index** of the item. Because lists start at zero, the index of an item is always one less than its position in the list. So to get the second item in the list, we need to use an index of 1."
     ]
    },
    {
     "cell_type": "code",
     "collapsed": false,
     "input": [
      "dogs = ['border collie', 'australian cattle dog', 'labrador retriever']\n",
      "\n",
      "dog = dogs[1]\n",
      "print(dog.title())"
     ],
     "language": "python",
     "metadata": {},
     "outputs": [
      {
       "output_type": "stream",
       "stream": "stdout",
       "text": [
        "Australian Cattle Dog\n"
       ]
      }
     ],
     "prompt_number": 7
    },
    {
     "cell_type": "markdown",
     "metadata": {},
     "source": [
      "### Accessing the last items in a list\n",
      "You can probably see that to get the last item in this list, we would use an index of 2. This works, but it would only work because our list has exactly three items. To get the last item in a list, no matter how long the list is, you can use an index of -1."
     ]
    },
    {
     "cell_type": "code",
     "collapsed": false,
     "input": [
      "dogs = ['border collie', 'australian cattle dog', 'labrador retriever']\n",
      "\n",
      "dog = dogs[-1]\n",
      "print(dog.title())"
     ],
     "language": "python",
     "metadata": {},
     "outputs": [
      {
       "output_type": "stream",
       "stream": "stdout",
       "text": [
        "Labrador Retriever\n"
       ]
      }
     ],
     "prompt_number": 8
    },
    {
     "cell_type": "markdown",
     "metadata": {},
     "source": [
      "This syntax also works for the second to last item, the third to last, and so forth."
     ]
    },
    {
     "cell_type": "code",
     "collapsed": false,
     "input": [
      "dogs = ['border collie', 'australian cattle dog', 'labrador retriever']\n",
      "\n",
      "dog = dogs[-2]\n",
      "print(dog.title())"
     ],
     "language": "python",
     "metadata": {},
     "outputs": [
      {
       "output_type": "stream",
       "stream": "stdout",
       "text": [
        "Australian Cattle Dog\n"
       ]
      }
     ],
     "prompt_number": 32
    },
    {
     "cell_type": "markdown",
     "metadata": {},
     "source": [
      "You can't use a negative number larger than the length of the list, however."
     ]
    },
    {
     "cell_type": "code",
     "collapsed": false,
     "input": [
      "dogs = ['border collie', 'australian cattle dog', 'labrador retriever']\n",
      "\n",
      "dog = dogs[-4]\n",
      "print(dog.title())"
     ],
     "language": "python",
     "metadata": {},
     "outputs": [
      {
       "ename": "IndexError",
       "evalue": "list index out of range",
       "output_type": "pyerr",
       "traceback": [
        "\u001b[0;31m---------------------------------------------------------------------------\u001b[0m\n\u001b[0;31mIndexError\u001b[0m                                Traceback (most recent call last)",
        "\u001b[0;32m<ipython-input-33-32c58df001ad>\u001b[0m in \u001b[0;36m<module>\u001b[0;34m()\u001b[0m\n\u001b[1;32m      1\u001b[0m \u001b[0mdogs\u001b[0m \u001b[0;34m=\u001b[0m \u001b[0;34m[\u001b[0m\u001b[0;34m'border collie'\u001b[0m\u001b[0;34m,\u001b[0m \u001b[0;34m'australian cattle dog'\u001b[0m\u001b[0;34m,\u001b[0m \u001b[0;34m'labrador retriever'\u001b[0m\u001b[0;34m]\u001b[0m\u001b[0;34m\u001b[0m\u001b[0m\n\u001b[1;32m      2\u001b[0m \u001b[0;34m\u001b[0m\u001b[0m\n\u001b[0;32m----> 3\u001b[0;31m \u001b[0mdog\u001b[0m \u001b[0;34m=\u001b[0m \u001b[0mdogs\u001b[0m\u001b[0;34m[\u001b[0m\u001b[0;34m-\u001b[0m\u001b[0;36m4\u001b[0m\u001b[0;34m]\u001b[0m\u001b[0;34m\u001b[0m\u001b[0m\n\u001b[0m\u001b[1;32m      4\u001b[0m \u001b[0mprint\u001b[0m\u001b[0;34m(\u001b[0m\u001b[0mdog\u001b[0m\u001b[0;34m.\u001b[0m\u001b[0mtitle\u001b[0m\u001b[0;34m(\u001b[0m\u001b[0;34m)\u001b[0m\u001b[0;34m)\u001b[0m\u001b[0;34m\u001b[0m\u001b[0m\n",
        "\u001b[0;31mIndexError\u001b[0m: list index out of range"
       ]
      }
     ],
     "prompt_number": 33
    },
    {
     "cell_type": "markdown",
     "metadata": {},
     "source": [
      "[top](#top)"
     ]
    },
    {
     "cell_type": "markdown",
     "metadata": {},
     "source": [
      "<a name='exercises_list_introduction'></a>Exercises\n",
      "---\n",
      "#### First List\n",
      "- Store the values 'python', 'c', and 'java' in a list. Print each of these values out, using their position in the list.\n",
      "\n",
      "#### First Neat List\n",
      "- Store the values 'python', 'c', and 'java' in a list. Print a statement about each of these values, using their position in the list.\n",
      "- Your statement could simply be, 'A nice programming language is *value*.'\n",
      "\n",
      "#### Your First List\n",
      "- Think of something you can store in a list. Make a list with three or four items, and then print a message that includes one item from your list. Your sentence could be as simple as, \"One item in my list is a ____.\""
     ]
    },
    {
     "cell_type": "markdown",
     "metadata": {},
     "source": [
      "<a name=#looping></a>Lists and Looping\n",
      "==="
     ]
    },
    {
     "cell_type": "markdown",
     "metadata": {},
     "source": [
      "<a name='accessing_all_elements'></a>Accessing all elements in a list\n",
      "---\n",
      "This is one of the most important concepts related to lists. You can have a list with a million items in it, and in three lines of code you can write a sentence for each of those million items. If you want to understand lists, and become a competent programmer, make sure you take the time to understand this section.\n",
      "\n",
      "We use a loop to access all the elements in a list. A loop is a block of code that repeats itself until it runs out of items to work with, or until a certain condition is met. In this case, our loop will run once for every item in our list. With a list that is three items long, our loop will run three times.\n",
      "\n",
      "Let's take a look at how we access all the items in a list, and then try to understand how it works."
     ]
    },
    {
     "cell_type": "code",
     "collapsed": false,
     "input": [
      "dogs = ['border collie', 'australian cattle dog', 'labrador retriever']\n",
      "\n",
      "for dog in dogs:\n",
      "    print(dog)"
     ],
     "language": "python",
     "metadata": {},
     "outputs": [
      {
       "output_type": "stream",
       "stream": "stdout",
       "text": [
        "border collie\n",
        "australian cattle dog\n",
        "labrador retriever\n"
       ]
      }
     ],
     "prompt_number": 15
    },
    {
     "cell_type": "markdown",
     "metadata": {},
     "source": [
      "We have already seen how to create a list, so we are really just trying to understand how the last two lines work. These last two lines make up a loop, and the language here can help us see what is happening:\n",
      "\n",
      "    for dog in dogs:\n",
      "\n",
      "- The keyword \"for\" tells Python to get ready to use a loop.\n",
      "- The variable \"dog\", with no \"s\" on it, is a temporary placeholder variable. This is the variable that Python will place each item in the list into, one at a time.\n",
      "- The first time through the loop, the value of \"dog\" will be 'border collie'.\n",
      "- The second time through the loop, the value of \"dog\" will be 'australian cattle dog'.\n",
      "- The third time through, \"dog\" will be 'labrador retriever'.\n",
      "- After this, there are no more items in the list, and the loop will end.\n",
      "\n",
      "The site <a href=\"http://pythontutor.com/visualize.html#code=dogs+%3D+%5B'border+collie',+'australian+cattle+dog',+'labrador+retriever'%5D%0A%0Afor+dog+in+dogs%3A%0A++++print(dog)&mode=display&cumulative=false&heapPrimitives=false&drawParentPointers=false&textReferences=false&showOnlyOutputs=false&py=3&curInstr=0\">pythontutor.com</a> allows you to run Python code one line at a time. As you run the code, there is also a visualization on the screen that shows you how the variable \"dog\" holds different values as the loop progresses. There is also an arrow that moves around your code, showing you how some lines are run just once, while other lines are run multiple tiimes. If you would like to see this in action, click the Forward button and watch the visualization, and the output as it is printed to the screen. Tools like this are incredibly valuable for seeing what Python is doing with your code.\n",
      "\n",
      "### Doing more with each item\n",
      "\n",
      "We can do whatever we want with the value of \"dog\" inside the loop. In this case, we just print the name of the dog.\n",
      "\n",
      "    print(dog)\n",
      "\n",
      "We are not limited to just printing the word dog. We can do whatever we want with this value, and this action will be carried out for every item in the list. Let's say something about each dog in our list."
     ]
    },
    {
     "cell_type": "code",
     "collapsed": false,
     "input": [
      "dogs = ['border collie', 'australian cattle dog', 'labrador retriever']\n",
      "\n",
      "for dog in dogs:\n",
      "    print('I like ' + dog + 's.')"
     ],
     "language": "python",
     "metadata": {},
     "outputs": [
      {
       "output_type": "stream",
       "stream": "stdout",
       "text": [
        "I like border collies.\n",
        "I like australian cattle dogs.\n",
        "I like labrador retrievers.\n"
       ]
      }
     ],
     "prompt_number": 16
    },
    {
     "cell_type": "markdown",
     "metadata": {},
     "source": [
      "Visualize this on <a href=\"http://pythontutor.com/visualize.html#code=dogs+%3D+%5B'border+collie',+'australian+cattle+dog',+'labrador+retriever'%5D%0A%0Afor+dog+in+dogs%3A%0A++++print('I+like+'+%2B+dog+%2B+'s.')&mode=display&cumulative=false&heapPrimitives=false&drawParentPointers=false&textReferences=false&showOnlyOutputs=false&py=3&curInstr=0\">pythontutor</a>.\n",
      "\n",
      "### Inside and outside the loop\n",
      "\n",
      "Python uses indentation to decide what is inside the loop and what is outside the loop. Code that is inside the loop will be run for every item in the list. Code that is not indented, which comes after the loop, will be run once just like regular code."
     ]
    },
    {
     "cell_type": "code",
     "collapsed": false,
     "input": [
      "dogs = ['border collie', 'australian cattle dog', 'labrador retriever']\n",
      "\n",
      "for dog in dogs:\n",
      "    print('I like ' + dog + 's.')\n",
      "    print('No, I really really like ' + dog +'s!\\n')\n",
      "    \n",
      "print(\"\\nThat's just how I feel about dogs.\")"
     ],
     "language": "python",
     "metadata": {},
     "outputs": [
      {
       "output_type": "stream",
       "stream": "stdout",
       "text": [
        "I like border collies.\n",
        "No, I really really like border collies!\n",
        "\n",
        "I like australian cattle dogs.\n",
        "No, I really really like australian cattle dogs!\n",
        "\n",
        "I like labrador retrievers.\n",
        "No, I really really like labrador retrievers!\n",
        "\n",
        "\n",
        "That's just how I feel about dogs.\n"
       ]
      }
     ],
     "prompt_number": 18
    },
    {
     "cell_type": "markdown",
     "metadata": {},
     "source": [
      "Notice that the last line only runs once, after the loop is completed. Also notice the use of newlines (\"\\n\") to make the output easier to read. Run this code on <a href=\"http://pythontutor.com/visualize.html#code=dogs+%3D+%5B'border+collie',+'australian+cattle+dog',+'labrador+retriever'%5D%0A%0Afor+dog+in+dogs%3A%0A++++print('I+like+'+%2B+dog+%2B+'s.')%0A++++print('No,+I+really+really+like+'+%2B+dog+%2B's!%5Cn')%0A++++%0Aprint(%22%5CnThat's+just+how+I+feel+about+dogs.%22)&mode=display&cumulative=false&heapPrimitives=false&drawParentPointers=false&textReferences=false&showOnlyOutputs=false&py=3&curInstr=0\">pythontutor</a>.\n",
      "\n",
      "### A common looping error\n",
      "One common looping error occurs when instead of using the single variable *dog* inside the loop, we accidentally use the variable that holds the entire list:"
     ]
    },
    {
     "cell_type": "code",
     "collapsed": false,
     "input": [
      "dogs = ['border collie', 'australian cattle dog', 'labrador retriever']\n",
      "\n",
      "for dog in dogs:\n",
      "    print(dogs)"
     ],
     "language": "python",
     "metadata": {},
     "outputs": [
      {
       "output_type": "stream",
       "stream": "stdout",
       "text": [
        "['border collie', 'australian cattle dog', 'labrador retriever']\n",
        "['border collie', 'australian cattle dog', 'labrador retriever']\n",
        "['border collie', 'australian cattle dog', 'labrador retriever']\n"
       ]
      }
     ],
     "prompt_number": 19
    },
    {
     "cell_type": "markdown",
     "metadata": {},
     "source": [
      "In this example, instead of printing each dog in the list, we print the entire list every time we go through the loop. Python puts each individual item in the list into the variable *dog*, but we never use that variable. Sometimes you will just get an error if you try to do this:"
     ]
    },
    {
     "cell_type": "code",
     "collapsed": false,
     "input": [
      "dogs = ['border collie', 'australian cattle dog', 'labrador retriever']\n",
      "\n",
      "for dog in dogs:\n",
      "    print('I like ' + dogs + 's.')"
     ],
     "language": "python",
     "metadata": {},
     "outputs": [
      {
       "ename": "TypeError",
       "evalue": "Can't convert 'list' object to str implicitly",
       "output_type": "pyerr",
       "traceback": [
        "\u001b[0;31m---------------------------------------------------------------------------\u001b[0m\n\u001b[0;31mTypeError\u001b[0m                                 Traceback (most recent call last)",
        "\u001b[0;32m<ipython-input-20-8e7acc74d7a9>\u001b[0m in \u001b[0;36m<module>\u001b[0;34m()\u001b[0m\n\u001b[1;32m      2\u001b[0m \u001b[0;34m\u001b[0m\u001b[0m\n\u001b[1;32m      3\u001b[0m \u001b[0;32mfor\u001b[0m \u001b[0mdog\u001b[0m \u001b[0;32min\u001b[0m \u001b[0mdogs\u001b[0m\u001b[0;34m:\u001b[0m\u001b[0;34m\u001b[0m\u001b[0m\n\u001b[0;32m----> 4\u001b[0;31m     \u001b[0mprint\u001b[0m\u001b[0;34m(\u001b[0m\u001b[0;34m'I like '\u001b[0m \u001b[0;34m+\u001b[0m \u001b[0mdogs\u001b[0m \u001b[0;34m+\u001b[0m \u001b[0;34m's.'\u001b[0m\u001b[0;34m)\u001b[0m\u001b[0;34m\u001b[0m\u001b[0m\n\u001b[0m",
        "\u001b[0;31mTypeError\u001b[0m: Can't convert 'list' object to str implicitly"
       ]
      }
     ],
     "prompt_number": 20
    },
    {
     "cell_type": "markdown",
     "metadata": {},
     "source": [
      "<a name='exercises_list_loop'></a>Exercises\n",
      "---\n",
      "#### First List - Loop\n",
      "- Repeat *First List*, but this time use a loop to print out each value in the list.\n",
      "\n",
      "#### First Neat List - Loop\n",
      "- Repeat *First Neat List*, but this time use a loop to print out your statements.\n",
      "\n",
      "#### Your First List - Loop\n",
      "- Repeat *Your First List*, but this time use a loop to print out your message for each item in your list."
     ]
    },
    {
     "cell_type": "markdown",
     "metadata": {},
     "source": [
      "[top](#top)"
     ]
    },
    {
     "cell_type": "markdown",
     "metadata": {},
     "source": [
      "<a name='common_operations'></a>Common List Operations\n",
      "==="
     ]
    },
    {
     "cell_type": "markdown",
     "metadata": {},
     "source": [
      "<a name='modifying_elements'></a>Modifying elements in a list\n",
      "---\n",
      "You can change the value of any element in a list if you know the position of that item."
     ]
    },
    {
     "cell_type": "code",
     "collapsed": false,
     "input": [
      "dogs = ['border collie', 'australian cattle dog', 'labrador retriever']\n",
      "\n",
      "dogs[0] = 'australian shepherd'\n",
      "print(dogs)"
     ],
     "language": "python",
     "metadata": {},
     "outputs": [
      {
       "output_type": "stream",
       "stream": "stdout",
       "text": [
        "['australian shepherd', 'australian cattle dog', 'labrador retriever']\n"
       ]
      }
     ],
     "prompt_number": 2
    },
    {
     "cell_type": "markdown",
     "metadata": {},
     "source": [
      "<a name='finding_elements'></a>Finding an element in a list\n",
      "---\n",
      "If you want to find out the position of an element in a list, you can use the index() function."
     ]
    },
    {
     "cell_type": "code",
     "collapsed": false,
     "input": [
      "dogs = ['border collie', 'australian cattle dog', 'labrador retriever']\n",
      "\n",
      "print(dogs.index('australian cattle dog'))"
     ],
     "language": "python",
     "metadata": {},
     "outputs": [
      {
       "output_type": "stream",
       "stream": "stdout",
       "text": [
        "1\n"
       ]
      }
     ],
     "prompt_number": 11
    },
    {
     "cell_type": "markdown",
     "metadata": {},
     "source": [
      "This method returns a ValueError if the requested item is not in the list."
     ]
    },
    {
     "cell_type": "code",
     "collapsed": false,
     "input": [
      "dogs = ['border collie', 'australian cattle dog', 'labrador retriever']\n",
      "\n",
      "print(dogs.index('poodle'))"
     ],
     "language": "python",
     "metadata": {},
     "outputs": [
      {
       "ename": "ValueError",
       "evalue": "'poodle' is not in list",
       "output_type": "pyerr",
       "traceback": [
        "\u001b[0;31m---------------------------------------------------------------------------\u001b[0m\n\u001b[0;31mValueError\u001b[0m                                Traceback (most recent call last)",
        "\u001b[0;32m<ipython-input-13-a9e05e37e8df>\u001b[0m in \u001b[0;36m<module>\u001b[0;34m()\u001b[0m\n\u001b[1;32m      1\u001b[0m \u001b[0mdogs\u001b[0m \u001b[0;34m=\u001b[0m \u001b[0;34m[\u001b[0m\u001b[0;34m'border collie'\u001b[0m\u001b[0;34m,\u001b[0m \u001b[0;34m'australian cattle dog'\u001b[0m\u001b[0;34m,\u001b[0m \u001b[0;34m'labrador retriever'\u001b[0m\u001b[0;34m]\u001b[0m\u001b[0;34m\u001b[0m\u001b[0m\n\u001b[1;32m      2\u001b[0m \u001b[0;34m\u001b[0m\u001b[0m\n\u001b[0;32m----> 3\u001b[0;31m \u001b[0mprint\u001b[0m\u001b[0;34m(\u001b[0m\u001b[0mdogs\u001b[0m\u001b[0;34m.\u001b[0m\u001b[0mindex\u001b[0m\u001b[0;34m(\u001b[0m\u001b[0;34m'poodle'\u001b[0m\u001b[0;34m)\u001b[0m\u001b[0;34m)\u001b[0m\u001b[0;34m\u001b[0m\u001b[0m\n\u001b[0m",
        "\u001b[0;31mValueError\u001b[0m: 'poodle' is not in list"
       ]
      }
     ],
     "prompt_number": 13
    },
    {
     "cell_type": "markdown",
     "metadata": {},
     "source": [
      "<a name='testing_elements'></a>Testing whether an item is in a list\n",
      "---\n",
      "You can test whether an item is in a list using the \"in\" keyword. This will become more useful after learning how to use if-else statements."
     ]
    },
    {
     "cell_type": "code",
     "collapsed": false,
     "input": [
      "dogs = ['border collie', 'australian cattle dog', 'labrador retriever']\n",
      "\n",
      "print('australian cattle dog' in dogs)\n",
      "print('poodle' in dogs)"
     ],
     "language": "python",
     "metadata": {},
     "outputs": [
      {
       "output_type": "stream",
       "stream": "stdout",
       "text": [
        "True\n",
        "False\n"
       ]
      }
     ],
     "prompt_number": 12
    },
    {
     "cell_type": "markdown",
     "metadata": {},
     "source": [
      "<a name='adding_items'></a>Adding items to a list\n",
      "---\n",
      "### Appending items to the end of a list\n",
      "We can add an item to a list using the append() method. This method adds the new item to the end of the list."
     ]
    },
    {
     "cell_type": "code",
     "collapsed": false,
     "input": [
      "dogs = ['border collie', 'australian cattle dog', 'labrador retriever']\n",
      "dogs.append('poodle')\n",
      "\n",
      "for dog in dogs:\n",
      "    print(dog.title() + \"s are cool.\")"
     ],
     "language": "python",
     "metadata": {},
     "outputs": [
      {
       "output_type": "stream",
       "stream": "stdout",
       "text": [
        "Border Collies are cool.\n",
        "Australian Cattle Dogs are cool.\n",
        "Labrador Retrievers are cool.\n",
        "Poodles are cool.\n"
       ]
      }
     ],
     "prompt_number": 22
    },
    {
     "cell_type": "markdown",
     "metadata": {},
     "source": [
      "### Inserting items into a list\n",
      "We can also insert items anywhere we want in a list, using the **insert()** function. We specify the position we want the item to have, and everything from that point on is shifted one position to the right. In other words, the index of every item after the new item is increased by one."
     ]
    },
    {
     "cell_type": "code",
     "collapsed": false,
     "input": [
      "dogs = ['border collie', 'australian cattle dog', 'labrador retriever']\n",
      "dogs.insert(1, 'poodle')\n",
      "\n",
      "print(dogs)"
     ],
     "language": "python",
     "metadata": {},
     "outputs": [
      {
       "output_type": "stream",
       "stream": "stdout",
       "text": [
        "['border collie', 'poodle', 'australian cattle dog', 'labrador retriever']\n"
       ]
      }
     ],
     "prompt_number": 24
    },
    {
     "cell_type": "markdown",
     "metadata": {},
     "source": [
      "Note that you have to give the position of the new item first, and then the value of the new item. If you do it in the reverse order, you will get an error."
     ]
    },
    {
     "cell_type": "markdown",
     "metadata": {},
     "source": [
      "<a name='empty_list'></a>Creating an empty list\n",
      "---\n",
      "Now that we know how to add items to a list after it is created, we can use lists more dynamically. We are no longer stuck defining our entire list at once.\n",
      "\n",
      "A common approach with lists is to define an empty list, and then let your program add items to the list as necessary. This approach works, for example, when starting to build an interactive web site. Your list of users might start out empty, and then as people register for the site it will grow. This is a simplified approach to how web sites actually work, but the idea is realistic.\n",
      "\n",
      "Here is a brief example of how to start with an empty list, start to fill it up, and work with the items in the list. The only new thing here is the way we define an empty list, which is just an empty set of square brackets."
     ]
    },
    {
     "cell_type": "code",
     "collapsed": false,
     "input": [
      "# Create an empty list to hold our users.\n",
      "usernames = []\n",
      "\n",
      "# Add some users.\n",
      "usernames.append('bernice')\n",
      "usernames.append('cody')\n",
      "usernames.append('aaron')\n",
      "\n",
      "# Greet all of our users.\n",
      "for username in usernames:\n",
      "    print(\"Welcome, \" + username.title() + '!')"
     ],
     "language": "python",
     "metadata": {},
     "outputs": [
      {
       "output_type": "stream",
       "stream": "stdout",
       "text": [
        "Welcome, Bernice!\n",
        "Welcome, Cody!\n",
        "Welcome, Aaron!\n"
       ]
      }
     ],
     "prompt_number": 25
    },
    {
     "cell_type": "markdown",
     "metadata": {},
     "source": [
      "If we don't change the order in our list, we can use the list to figure out who our oldest and newest users are."
     ]
    },
    {
     "cell_type": "code",
     "collapsed": false,
     "input": [
      "# Create an empty list to hold our users.\n",
      "usernames = []\n",
      "\n",
      "# Add some users.\n",
      "usernames.append('bernice')\n",
      "usernames.append('cody')\n",
      "usernames.append('aaron')\n",
      "\n",
      "# Recognize our first user, and welcome our newest user.\n",
      "print(\"Thank you for being our very first user, \" + usernames[0].title() + '!')\n",
      "print(\"And a warm welcome to our newest user, \" + usernames[-1].title() + '!')"
     ],
     "language": "python",
     "metadata": {},
     "outputs": [
      {
       "output_type": "stream",
       "stream": "stdout",
       "text": [
        "Thank you for being our very first user, Bernice!\n",
        "And a warm welcome to our newest user, Aaron!\n"
       ]
      }
     ],
     "prompt_number": 27
    },
    {
     "cell_type": "markdown",
     "metadata": {},
     "source": [
      "Note that the code welcoming our newest user will always work, because we have used the index -1. If we had used the index 2 we would always get the third user, even as our list of users grows and grows."
     ]
    },
    {
     "cell_type": "markdown",
     "metadata": {},
     "source": [
      "<a name='sorting_list'></a>Sorting a List\n",
      "---\n",
      "We can sort a list alphabetically, in either order."
     ]
    },
    {
     "cell_type": "code",
     "collapsed": false,
     "input": [
      "students = ['bernice', 'aaron', 'cody']\n",
      "\n",
      "# Put students in alphabetical order.\n",
      "students.sort()\n",
      "\n",
      "# Display the list in its current order.\n",
      "print(\"Our students are currently in alphabetical order.\")\n",
      "for student in students:\n",
      "    print(student.title())\n",
      "\n",
      "#Put students in reverse alphabetical order.\n",
      "students.sort(reverse=True)\n",
      "\n",
      "# Display the list in its current order.\n",
      "print(\"\\nOur students are now in reverse alphabetical order.\")\n",
      "for student in students:\n",
      "    print(student.title())"
     ],
     "language": "python",
     "metadata": {},
     "outputs": [
      {
       "output_type": "stream",
       "stream": "stdout",
       "text": [
        "Our students are currently in alphabetical order.\n",
        "Aaron\n",
        "Bernice\n",
        "Cody\n",
        "\n",
        "Our students are now in reverse alphabetical order.\n",
        "Cody\n",
        "Bernice\n",
        "Aaron\n"
       ]
      }
     ],
     "prompt_number": 16
    },
    {
     "cell_type": "markdown",
     "metadata": {},
     "source": [
      "### *sorted()* vs. *sort()*\n",
      "Whenever you consider sorting a list, keep in mind that you can not recover the original order. If you want to display a list in sorted order, but preserve the original order, you can use the *sorted()* function. The *sorted()* function also accepts the optional *reverse=True* argument."
     ]
    },
    {
     "cell_type": "code",
     "collapsed": false,
     "input": [
      "students = ['bernice', 'aaron', 'cody']\n",
      "\n",
      "# Display students in alphabetical order, but keep the original order.\n",
      "print(\"Here is the list in alphabetical order:\")\n",
      "for student in sorted(students):\n",
      "    print(student.title())\n",
      "\n",
      "# Display students in reverse alphabetical order, but keep the original order.\n",
      "print(\"\\nHere is the list in reverse alphabetical order:\")\n",
      "for student in sorted(students, reverse=True):\n",
      "    print(student.title())\n",
      "\n",
      "print(\"\\nHere is the list in its original order:\")\n",
      "# Show that the list is still in its original order.\n",
      "for student in students:\n",
      "    print(student.title())"
     ],
     "language": "python",
     "metadata": {},
     "outputs": [
      {
       "output_type": "stream",
       "stream": "stdout",
       "text": [
        "Here is the list in alphabetical order:\n",
        "Aaron\n",
        "Bernice\n",
        "Cody\n",
        "\n",
        "Here is the list in reverse alphabetical order:\n",
        "Cody\n",
        "Bernice\n",
        "Aaron\n",
        "\n",
        "Here is the list in its original order:\n",
        "Bernice\n",
        "Aaron\n",
        "Cody\n"
       ]
      }
     ],
     "prompt_number": 24
    },
    {
     "cell_type": "markdown",
     "metadata": {},
     "source": [
      "### Reversing a list\n",
      "We have seen three possible orders for a list:\n",
      "- The original order in which the list was created\n",
      "- Alphabetical order\n",
      "- Reverse alphabetical order\n",
      "\n",
      "There is one more order we can use, and that is the reverse of the original order of the list. The *reverse()* function gives us this order."
     ]
    },
    {
     "cell_type": "code",
     "collapsed": false,
     "input": [
      "students = ['bernice', 'aaron', 'cody']\n",
      "students.reverse()\n",
      "\n",
      "print(students)"
     ],
     "language": "python",
     "metadata": {},
     "outputs": [
      {
       "output_type": "stream",
       "stream": "stdout",
       "text": [
        "['cody', 'aaron', 'bernice']\n"
       ]
      }
     ],
     "prompt_number": 17
    },
    {
     "cell_type": "markdown",
     "metadata": {},
     "source": [
      "Note that reverse is permanent, although you could follow up with another call to *reverse()* and get back the original order of the list."
     ]
    },
    {
     "cell_type": "markdown",
     "metadata": {},
     "source": [
      "### Sorting a numerical list\n",
      "All of the sorting functions work for numerical lists as well."
     ]
    },
    {
     "cell_type": "code",
     "collapsed": false,
     "input": [
      "numbers = [1, 3, 4, 2]\n",
      "\n",
      "# sort() puts numbers in increasing order.\n",
      "numbers.sort()\n",
      "print(numbers)\n",
      "\n",
      "# sort(reverse=True) puts numbers in decreasing order.\n",
      "numbers.sort(reverse=True)\n",
      "print(numbers)\n"
     ],
     "language": "python",
     "metadata": {},
     "outputs": [
      {
       "output_type": "stream",
       "stream": "stdout",
       "text": [
        "[1, 2, 3, 4]\n",
        "[4, 3, 2, 1]\n"
       ]
      }
     ],
     "prompt_number": 29
    },
    {
     "cell_type": "code",
     "collapsed": false,
     "input": [
      "numbers = [1, 3, 4, 2]\n",
      "\n",
      "# sorted() preserves the original order of the list:\n",
      "print(sorted(numbers))\n",
      "print(numbers)"
     ],
     "language": "python",
     "metadata": {},
     "outputs": [
      {
       "output_type": "stream",
       "stream": "stdout",
       "text": [
        "[1, 2, 3, 4]\n",
        "[1, 3, 4, 2]\n"
       ]
      }
     ],
     "prompt_number": 30
    },
    {
     "cell_type": "code",
     "collapsed": false,
     "input": [
      "numbers = [1, 3, 4, 2]\n",
      "\n",
      "# The reverse() function also works for numerical lists.\n",
      "numbers.reverse()\n",
      "print(numbers)"
     ],
     "language": "python",
     "metadata": {},
     "outputs": [
      {
       "output_type": "stream",
       "stream": "stdout",
       "text": [
        "[2, 4, 3, 1]\n"
       ]
      }
     ],
     "prompt_number": 31
    },
    {
     "cell_type": "markdown",
     "metadata": {},
     "source": [
      "<a name='length'></a>Finding the length of a list\n",
      "---\n",
      "You can find the length of a list using the *len()* function."
     ]
    },
    {
     "cell_type": "code",
     "collapsed": false,
     "input": [
      "usernames = ['bernice', 'cody', 'aaron']\n",
      "user_count = len(usernames)\n",
      "\n",
      "print(user_count)"
     ],
     "language": "python",
     "metadata": {},
     "outputs": [
      {
       "output_type": "stream",
       "stream": "stdout",
       "text": [
        "3\n"
       ]
      }
     ],
     "prompt_number": 38
    },
    {
     "cell_type": "markdown",
     "metadata": {},
     "source": [
      "There are many situations where you might want to know how many items in a list. If you have a list that stores your users, you can find the length of your list at any time, and know how many users you have."
     ]
    },
    {
     "cell_type": "code",
     "collapsed": false,
     "input": [
      "# Create an empty list to hold our users.\n",
      "usernames = []\n",
      "\n",
      "# Add some users, and report on how many users we have.\n",
      "usernames.append('bernice')\n",
      "user_count = len(usernames)\n",
      "\n",
      "print(\"We have \" + str(user_count) + \" user!\")\n",
      "\n",
      "usernames.append('cody')\n",
      "usernames.append('aaron')\n",
      "user_count = len(usernames)\n",
      "\n",
      "print(\"We have \" + str(user_count) + \" users!\")"
     ],
     "language": "python",
     "metadata": {},
     "outputs": [
      {
       "output_type": "stream",
       "stream": "stdout",
       "text": [
        "We have 1 user!\n",
        "We have 3 users!\n"
       ]
      }
     ],
     "prompt_number": 42
    },
    {
     "cell_type": "markdown",
     "metadata": {},
     "source": [
      "On a technical note, the *len()* function returns an integer, which can't be printed directly with strings. We use the *str()* function to turn the integer into a string so that it prints nicely:"
     ]
    },
    {
     "cell_type": "code",
     "collapsed": false,
     "input": [
      "usernames = ['bernice', 'cody', 'aaron']\n",
      "user_count = len(usernames)\n",
      "\n",
      "print(\"This will cause an error: \" + user_count)"
     ],
     "language": "python",
     "metadata": {},
     "outputs": [
      {
       "ename": "TypeError",
       "evalue": "Can't convert 'int' object to str implicitly",
       "output_type": "pyerr",
       "traceback": [
        "\u001b[0;31m---------------------------------------------------------------------------\u001b[0m\n\u001b[0;31mTypeError\u001b[0m                                 Traceback (most recent call last)",
        "\u001b[0;32m<ipython-input-43-92e732ef190e>\u001b[0m in \u001b[0;36m<module>\u001b[0;34m()\u001b[0m\n\u001b[1;32m      2\u001b[0m \u001b[0muser_count\u001b[0m \u001b[0;34m=\u001b[0m \u001b[0mlen\u001b[0m\u001b[0;34m(\u001b[0m\u001b[0musernames\u001b[0m\u001b[0;34m)\u001b[0m\u001b[0;34m\u001b[0m\u001b[0m\n\u001b[1;32m      3\u001b[0m \u001b[0;34m\u001b[0m\u001b[0m\n\u001b[0;32m----> 4\u001b[0;31m \u001b[0mprint\u001b[0m\u001b[0;34m(\u001b[0m\u001b[0;34m\"This will cause an error: \"\u001b[0m \u001b[0;34m+\u001b[0m \u001b[0muser_count\u001b[0m\u001b[0;34m)\u001b[0m\u001b[0;34m\u001b[0m\u001b[0m\n\u001b[0m",
        "\u001b[0;31mTypeError\u001b[0m: Can't convert 'int' object to str implicitly"
       ]
      }
     ],
     "prompt_number": 43
    },
    {
     "cell_type": "code",
     "collapsed": false,
     "input": [
      "usernames = ['bernice', 'cody', 'aaron']\n",
      "user_count = len(usernames)\n",
      "\n",
      "print(\"This will work: \" + str(user_count))"
     ],
     "language": "python",
     "metadata": {},
     "outputs": [
      {
       "output_type": "stream",
       "stream": "stdout",
       "text": [
        "This will work: 3\n"
       ]
      }
     ],
     "prompt_number": 44
    },
    {
     "cell_type": "markdown",
     "metadata": {},
     "source": [
      "<a name='exercises_common_operations'></a>Exercises\n",
      "---\n",
      "#### Working List\n",
      "- Make a list that includes four careers, such as 'programmer' and 'truck driver'.\n",
      "- Use the *list.index()* function to find the index of one career in your list.\n",
      "- Use the *in* function to show that this career is in your list.\n",
      "- Use the *append()* function to add a new career to your list.\n",
      "- Use the *insert()* function to add a new career at the beginning of the list.\n",
      "- Use a loop to show all the careers in your list.\n",
      "\n",
      "#### Starting From Empty\n",
      "- Create the list you ended up with in *Working List*, but this time start your file with an empty list and fill it up using *append()* statements.\n",
      "- Print a statement that tells us what the first career you thought of was.\n",
      "- Print a statement that tells us what the last career you thought of was.\n",
      "\n",
      "#### Ordered Working List\n",
      "- Start with the list you created in *Working List*.\n",
      "- You are going to print out the list in a number of different orders. Each time you print the list, use a for loop rather than printing the raw list. Print a message each time telling us what order we should see the list in.\n",
      "- Print out the list in alphabetical order, and then print it out in its original order.\n",
      "- Print out the list in reverse alphabetical order, and then print it out in its original order.\n",
      "- Print the list in the reverse order from what it started, and then in its original order.\n",
      "- Permanently sort the list in alphabetical order, and then print it out.\n",
      "- Permanently sort the list in reverse alphabetical order, and then print it out.\n",
      "\n",
      "#### Ordered Numbers\n",
      "- Make a list of 5 numbers, in a random order.\n",
      "- You are going to print out the list in a number of different orders. Each time you print the list, use a for loop rather than printing the raw list. Print a message each time telling us what order we should see the list in.\n",
      "- Print the numbers in increasing order, and then print them in the original order.\n",
      "- Print the numbers in decreasing order, and then print them in their original order.\n",
      "- Print the numbers in the reverse order from how they started, and then in the original order.\n",
      "- Permanently sort the numbers in increasing order, and then print them out.\n",
      "- Permanently sort the numbers in descreasing order, and then print them out.\n",
      "\n",
      "#### List Lengths\n",
      "- Copy two or three of the lists you made from the previous exercises, or make up two or three new lists.\n",
      "- Print out a series of statements that tell us how long each list is."
     ]
    },
    {
     "cell_type": "markdown",
     "metadata": {},
     "source": [
      "[top](#top)"
     ]
    },
    {
     "cell_type": "markdown",
     "metadata": {},
     "source": [
      "Removing Items from a List\n",
      "===\n",
      "Hopefully you can see by now that lists are a dynamic structure. We can define an empty list and then fill it up as information comes into our program. To become really dynamic, we need some ways to remove items from a list when we no longer need them. You can remove items from a list through their position, or through their value."
     ]
    },
    {
     "cell_type": "markdown",
     "metadata": {},
     "source": [
      "<a name='removing_by_position'></a>Removing items by position\n",
      "---\n",
      "If you know the position of an item in a list, you can remove that item using the *del* command. To use this approach, give the command *del* and the name of your list, with the index of the item you want to move in square brackets:"
     ]
    },
    {
     "cell_type": "code",
     "collapsed": false,
     "input": [
      "dogs = ['border collie', 'australian cattle dog', 'labrador retriever']\n",
      "# Remove the first dog from the list.\n",
      "del dogs[0]\n",
      "\n",
      "print(dogs)"
     ],
     "language": "python",
     "metadata": {},
     "outputs": [
      {
       "output_type": "stream",
       "stream": "stdout",
       "text": [
        "['australian cattle dog', 'labrador retriever']\n"
       ]
      }
     ],
     "prompt_number": 30
    },
    {
     "cell_type": "markdown",
     "metadata": {},
     "source": [
      "<a name='removing_by_value'></a>Removing items by value\n",
      "---\n",
      "You can also remove an item from a list if you know its value. To do this, we use the *remove()* function. Give the name of the list, followed by the word remove with the value of the item you want to remove in parentheses. Python looks through your list, finds the first item with this value, and removes it."
     ]
    },
    {
     "cell_type": "code",
     "collapsed": false,
     "input": [
      "dogs = ['border collie', 'australian cattle dog', 'labrador retriever']\n",
      "# Remove australian cattle dog from the list.\n",
      "dogs.remove('australian cattle dog')\n",
      "\n",
      "print(dogs)"
     ],
     "language": "python",
     "metadata": {},
     "outputs": [
      {
       "output_type": "stream",
       "stream": "stdout",
       "text": [
        "['border collie', 'labrador retriever']\n"
       ]
      }
     ],
     "prompt_number": 31
    },
    {
     "cell_type": "markdown",
     "metadata": {},
     "source": [
      "Be careful to note, however, that *only* the first item with this value is removed. If you have multiple items with the same value, you will have some items with this value left in your list."
     ]
    },
    {
     "cell_type": "code",
     "collapsed": false,
     "input": [
      "letters = ['a', 'b', 'c', 'a', 'b', 'c']\n",
      "# Remove the letter a from the list.\n",
      "letters.remove('a')\n",
      "\n",
      "print(letters)"
     ],
     "language": "python",
     "metadata": {},
     "outputs": [
      {
       "output_type": "stream",
       "stream": "stdout",
       "text": [
        "['b', 'c', 'a', 'b', 'c']\n"
       ]
      }
     ],
     "prompt_number": 32
    },
    {
     "cell_type": "markdown",
     "metadata": {},
     "source": [
      "<a name='popping'></a>Popping items from a list\n",
      "---\n",
      "There is a cool concept in programming called \"popping\" items from a collection. Every programming language has some sort of data structure similar to Python's lists. All of these structures can be used as queues, and there are various ways of processing the items in a queue.\n",
      "\n",
      "One simple approach is to start with an empty list, and then add items to that list. When you want to work with the items in the list, you always take the last item from the list, do something with it, and then remove that item. The *pop()* function makes this easy. It removes the last item from the list, and gives it to us so we can work with it. This is easier to show with an example:"
     ]
    },
    {
     "cell_type": "code",
     "collapsed": false,
     "input": [
      "dogs = ['border collie', 'australian cattle dog', 'labrador retriever']\n",
      "last_dog = dogs.pop()\n",
      "\n",
      "print(last_dog)\n",
      "print(dogs)"
     ],
     "language": "python",
     "metadata": {},
     "outputs": [
      {
       "output_type": "stream",
       "stream": "stdout",
       "text": [
        "labrador retriever\n",
        "['border collie', 'australian cattle dog']\n"
       ]
      }
     ],
     "prompt_number": 35
    },
    {
     "cell_type": "markdown",
     "metadata": {},
     "source": [
      "This is an example of a first-in, last-out approach. The first item in the list would be the last item processed if you kept using this approach. We will see a full implementation of this approach later on, when we learn about *while* loops.\n",
      "\n",
      "You can actually pop any item you want from a list, by giving the index of the item you want to pop. So we could do a first-in, first-out approach by popping the first iem in the list:"
     ]
    },
    {
     "cell_type": "code",
     "collapsed": false,
     "input": [
      "dogs = ['border collie', 'australian cattle dog', 'labrador retriever']\n",
      "first_dog = dogs.pop(0)\n",
      "\n",
      "print(first_dog)\n",
      "print(dogs)"
     ],
     "language": "python",
     "metadata": {},
     "outputs": [
      {
       "output_type": "stream",
       "stream": "stdout",
       "text": [
        "border collie\n",
        "['australian cattle dog', 'labrador retriever']\n"
       ]
      }
     ],
     "prompt_number": 36
    },
    {
     "cell_type": "markdown",
     "metadata": {},
     "source": [
      "<a name='exercises_removing_items'></a>Exercises\n",
      "---\n",
      "#### Famous People\n",
      "- Make a list that includes the names of four famous people.\n",
      "- Remove each person from the list, one at a time, using each of the four methods we have just seen:\n",
      "    - Pop the last item from the list, and pop any item except the last item.\n",
      "    - Remove one item by its position, and one item by its value.\n",
      "- Print out a message that there are no famous people left in your list, and print your list to prove that it is empty."
     ]
    },
    {
     "cell_type": "markdown",
     "metadata": {},
     "source": [
      "[top](#top)"
     ]
    },
    {
     "cell_type": "markdown",
     "metadata": {},
     "source": [
      "<a name='functions'></a>Want to see what functions are?\n",
      "===\n",
      "At this point, you might have noticed we have a fair bit of repetetive code in some of our examples. This repetition will disappear once we learn how to use functions. If this repetition is bothering you already, you might want to go look at [Introducing Functions](http://nbviewer.ipython.org/urls/raw.github.com/ehmatthes/intro_programming/master/notebooks/introducing_functions.ipynb) before you do any more exercises in this section. "
     ]
    },
    {
     "cell_type": "markdown",
     "metadata": {},
     "source": [
      "<a name='slicing'></a>Slicing a List\n",
      "===\n",
      "Since a list is a collection of items, we should be able to get any subset of those items. For example, if we want to get just the first three items from the list, we should be able to do so easily. The same should be true for any three items in the middle of the list, or the last three items, or any x items from anywhere in the list. These subsets of a list are called *slices*.\n",
      "\n",
      "To get a subset of a list, we give the position of the first item we want, and the position of the first item we do *not* want to include in the subset. So the slice *list[0:3]* will return a list containing items 0, 1, and 2, but not item 3. Here is how you get a batch containing the first three items."
     ]
    },
    {
     "cell_type": "code",
     "collapsed": false,
     "input": [
      "usernames = ['bernice', 'cody', 'aaron', 'ever', 'dalia']\n",
      "\n",
      "# Grab the first three users in the list.\n",
      "first_batch = usernames[0:3]\n",
      "\n",
      "for user in first_batch:\n",
      "    print(user.title())"
     ],
     "language": "python",
     "metadata": {},
     "outputs": [
      {
       "output_type": "stream",
       "stream": "stdout",
       "text": [
        "Bernice\n",
        "Cody\n",
        "Aaron\n"
       ]
      }
     ],
     "prompt_number": 5
    },
    {
     "cell_type": "markdown",
     "metadata": {},
     "source": [
      "If you want to grab everything up to a certain position in the list, you can also leave the first index blank:"
     ]
    },
    {
     "cell_type": "code",
     "collapsed": false,
     "input": [
      "usernames = ['bernice', 'cody', 'aaron', 'ever', 'dalia']\n",
      "\n",
      "# Grab the first three users in the list.\n",
      "first_batch = usernames[:3]\n",
      "\n",
      "for user in first_batch:\n",
      "    print(user.title())"
     ],
     "language": "python",
     "metadata": {},
     "outputs": [
      {
       "output_type": "stream",
       "stream": "stdout",
       "text": [
        "Bernice\n",
        "Cody\n",
        "Aaron\n"
       ]
      }
     ],
     "prompt_number": 8
    },
    {
     "cell_type": "markdown",
     "metadata": {},
     "source": [
      "When we grab a slice from a list, the original list is not affected:"
     ]
    },
    {
     "cell_type": "code",
     "collapsed": false,
     "input": [
      "usernames = ['bernice', 'cody', 'aaron', 'ever', 'dalia']\n",
      "\n",
      "# Grab the first three users in the list.\n",
      "first_batch = usernames[0:3]\n",
      "\n",
      "# The original list is unaffected.\n",
      "for user in usernames:\n",
      "    print(user.title())"
     ],
     "language": "python",
     "metadata": {},
     "outputs": [
      {
       "output_type": "stream",
       "stream": "stdout",
       "text": [
        "Bernice\n",
        "Cody\n",
        "Aaron\n",
        "Ever\n",
        "Dalia\n"
       ]
      }
     ],
     "prompt_number": 6
    },
    {
     "cell_type": "markdown",
     "metadata": {},
     "source": [
      "We can get any segment of a list we want, using the slice method:"
     ]
    },
    {
     "cell_type": "code",
     "collapsed": false,
     "input": [
      "usernames = ['bernice', 'cody', 'aaron', 'ever', 'dalia']\n",
      "\n",
      "# Grab a batch from the middle of the list.\n",
      "middle_batch = usernames[1:4]\n",
      "\n",
      "for user in middle_batch:\n",
      "    print(user.title())"
     ],
     "language": "python",
     "metadata": {},
     "outputs": [
      {
       "output_type": "stream",
       "stream": "stdout",
       "text": [
        "Cody\n",
        "Aaron\n",
        "Ever\n"
       ]
      }
     ],
     "prompt_number": 7
    },
    {
     "cell_type": "markdown",
     "metadata": {},
     "source": [
      "To get all items from one position in the list to the end of the list, we can leave off the second index:"
     ]
    },
    {
     "cell_type": "code",
     "collapsed": false,
     "input": [
      "usernames = ['bernice', 'cody', 'aaron', 'ever', 'dalia']\n",
      "\n",
      "# Grab all users from the third to the end.\n",
      "end_batch = usernames[2:]\n",
      "\n",
      "for user in end_batch:\n",
      "    print(user.title())"
     ],
     "language": "python",
     "metadata": {},
     "outputs": [
      {
       "output_type": "stream",
       "stream": "stdout",
       "text": [
        "Aaron\n",
        "Ever\n",
        "Dalia\n"
       ]
      }
     ],
     "prompt_number": 9
    },
    {
     "cell_type": "markdown",
     "metadata": {},
     "source": [
      "### <a name='copying'></a>Copying a list\n",
      "You can use the slice notation to make a copy of a list, by leaving out both the starting and the ending index. This causes the slice to consist of everything from the first item to the last, which is the entire list."
     ]
    },
    {
     "cell_type": "code",
     "collapsed": false,
     "input": [
      "usernames = ['bernice', 'cody', 'aaron', 'ever', 'dalia']\n",
      "\n",
      "# Make a copy of the list.\n",
      "copied_usernames = usernames[:]\n",
      "print(\"The full copied list:\\n\\t\", copied_usernames)\n",
      "\n",
      "# Remove the first two users from the copied list.\n",
      "del copied_usernames[0]\n",
      "del copied_usernames[0]\n",
      "print(\"\\nTwo users removed from copied list:\\n\\t\", copied_usernames)\n",
      "\n",
      "# The original list is unaffected.\n",
      "print(\"\\nThe original list:\\n\\t\", usernames)"
     ],
     "language": "python",
     "metadata": {},
     "outputs": [
      {
       "output_type": "stream",
       "stream": "stdout",
       "text": [
        "The full copied list:\n",
        "\t ['bernice', 'cody', 'aaron', 'ever', 'dalia']\n",
        "\n",
        "Two users removed from copied list:\n",
        "\t ['aaron', 'ever', 'dalia']\n",
        "\n",
        "The original list:\n",
        "\t ['bernice', 'cody', 'aaron', 'ever', 'dalia']\n"
       ]
      }
     ],
     "prompt_number": 15
    },
    {
     "cell_type": "markdown",
     "metadata": {},
     "source": [
      "<a name='exercises_slicing'></a>Exercises\n",
      "---\n",
      "#### Alphabet Slices\n",
      "- Store the first ten letters of the alphabet in a list.\n",
      "- Use a slice to print out the first three letters of the alphabet.\n",
      "- Use a slice to print out any three letters from the middle of your list.\n",
      "- Use a slice to print out the letters from any point in the middle of your list, to the end.\n",
      "\n",
      "#### Protected List\n",
      "- Your goal in this exercise is to prove that copying a list protects the original list.\n",
      "- Make a list with three people's names in it.\n",
      "- Use a slice to make a copy of the entire list.\n",
      "- Add at least two new names to the new copy of the list.\n",
      "- Make a loop that prints out all of the names in the original list, along with a message that this is the original list.\n",
      "- Make a loop that prints out all of the names in the copied list, along with a message that this is the copied list."
     ]
    },
    {
     "cell_type": "markdown",
     "metadata": {},
     "source": [
      "[top](#top)"
     ]
    },
    {
     "cell_type": "markdown",
     "metadata": {},
     "source": [
      "<a name='numerical_lists'></a>Numerical Lists\n",
      "===\n",
      "There is nothing special about lists of numbers, but there are some functions you can use to make working with numerical lists more efficient. Let's make a list of the first ten numbers, and start working with it to see how we can use numbers in a list."
     ]
    },
    {
     "cell_type": "code",
     "collapsed": false,
     "input": [
      "# Print out the first ten numbers.\n",
      "numbers = [1, 2, 3, 4, 5, 6, 7, 8, 9, 10]\n",
      "\n",
      "for number in numbers:\n",
      "    print(number)"
     ],
     "language": "python",
     "metadata": {},
     "outputs": [
      {
       "output_type": "stream",
       "stream": "stdout",
       "text": [
        "1\n",
        "2\n",
        "3\n",
        "4\n",
        "5\n",
        "6\n",
        "7\n",
        "8\n",
        "9\n",
        "10\n"
       ]
      }
     ],
     "prompt_number": 23
    },
    {
     "cell_type": "markdown",
     "metadata": {},
     "source": [
      "<a name='range_function'></a>The *range()* function\n",
      "---\n",
      "This works, but it is not very efficient if we want to work with a large set of numbers. The *range()* function helps us generate long lists of numbers. Here are two ways to do the same thing, using the *range* function."
     ]
    },
    {
     "cell_type": "code",
     "collapsed": false,
     "input": [
      "# Print the first ten numbers.\n",
      "for number in range(1,11):\n",
      "    print(number)"
     ],
     "language": "python",
     "metadata": {},
     "outputs": [
      {
       "output_type": "stream",
       "stream": "stdout",
       "text": [
        "1\n",
        "2\n",
        "3\n",
        "4\n",
        "5\n",
        "6\n",
        "7\n",
        "8\n",
        "9\n",
        "10\n"
       ]
      }
     ],
     "prompt_number": 24
    },
    {
     "cell_type": "markdown",
     "metadata": {},
     "source": [
      "The range function takes in a starting number, and an end number. You get all integers, up to but not including the end number. You can also add a *step* value, which tells the *range* function how big of a step to take between numbers:"
     ]
    },
    {
     "cell_type": "code",
     "collapsed": false,
     "input": [
      "# Print the first ten odd numbers.\n",
      "for number in range(1,21,2):\n",
      "    print(number)"
     ],
     "language": "python",
     "metadata": {},
     "outputs": [
      {
       "output_type": "stream",
       "stream": "stdout",
       "text": [
        "1\n",
        "3\n",
        "5\n",
        "7\n",
        "9\n",
        "11\n",
        "13\n",
        "15\n",
        "17\n",
        "19\n"
       ]
      }
     ],
     "prompt_number": 25
    },
    {
     "cell_type": "markdown",
     "metadata": {},
     "source": [
      "If we want to store these numbers in a list, we can use the *list()* function. This function takes in a range, and turns it into a list:"
     ]
    },
    {
     "cell_type": "code",
     "collapsed": false,
     "input": [
      "# Create a list of the first ten numbers.\n",
      "numbers = list(range(1,11))\n",
      "print(numbers)"
     ],
     "language": "python",
     "metadata": {},
     "outputs": [
      {
       "output_type": "stream",
       "stream": "stdout",
       "text": [
        "[1, 2, 3, 4, 5, 6, 7, 8, 9, 10]\n"
       ]
      }
     ],
     "prompt_number": 26
    },
    {
     "cell_type": "markdown",
     "metadata": {},
     "source": [
      "This is incredibly powerful; we can now create a list of the first million numbers, just as easily as we made a list of the first ten numbers. It doesn't really make sense to print the million numbers here, but we can show that the list really does have one million items in it, and we can print the last ten items to show that the list is correct."
     ]
    },
    {
     "cell_type": "code",
     "collapsed": false,
     "input": [
      "# Store the first million numbers in a list.\n",
      "numbers = list(range(1,1000001))\n",
      "\n",
      "# Show the length of the list:\n",
      "print(\"The list 'numbers' has \" + str(len(numbers)) + \" numbers in it.\")\n",
      "\n",
      "# Show the last ten numbers:\n",
      "print(\"\\nThe last ten numbers in the list are:\")\n",
      "for number in numbers[-10:]:\n",
      "    print(number)"
     ],
     "language": "python",
     "metadata": {},
     "outputs": [
      {
       "output_type": "stream",
       "stream": "stdout",
       "text": [
        "The list 'numbers' has 1000000 numbers in it.\n",
        "\n",
        "The last ten numbers in the list are:\n",
        "999991\n",
        "999992\n",
        "999993\n",
        "999994\n",
        "999995\n",
        "999996\n",
        "999997\n",
        "999998\n",
        "999999\n",
        "1000000\n"
       ]
      }
     ],
     "prompt_number": 31
    },
    {
     "cell_type": "markdown",
     "metadata": {},
     "source": [
      "There are two things here that might be a little unclear. The expression\n",
      "\n",
      "    str(len(numbers))\n",
      "\n",
      "takes the length of the *numbers* list, and turns it into a string that can be printed.\n",
      "\n",
      "The expression \n",
      "\n",
      "    numbers[-10:]\n",
      "\n",
      "gives us a *slice* of the list. The index `-1` is the last item in the list, and the index `-10` is the item ten places from the end of the list. So the slice `numbers[-10:]` gives us everything from that item to the end of the list."
     ]
    },
    {
     "cell_type": "markdown",
     "metadata": {},
     "source": [
      "<a name='min_max_sum'></a>The *min()*, *max()*, and *sum()* functions\n",
      "---\n",
      "There are three functions you can easily use with numerical lists. As you might expect, the *min()* function returns the smallest number in the list, the *max()* function returns the largest number in the list, and the *sum()* function returns the total of all numbers in the list."
     ]
    },
    {
     "cell_type": "code",
     "collapsed": false,
     "input": [
      "ages = [23, 16, 14, 28, 19, 11, 38]\n",
      "\n",
      "youngest = min(ages)\n",
      "oldest = max(ages)\n",
      "total_years = sum(ages)\n",
      "\n",
      "print(\"Our youngest reader is \" + str(youngest) + \" years old.\")\n",
      "print(\"Our oldest reader is \" + str(oldest) + \" years old.\")\n",
      "print(\"Together, we have \" + str(total_years) + \" years worth of life experience.\")"
     ],
     "language": "python",
     "metadata": {},
     "outputs": [
      {
       "output_type": "stream",
       "stream": "stdout",
       "text": [
        "Our youngest reader is 11 years old.\n",
        "Our oldest reader is 38 years old.\n",
        "Together, we have 149 years worth of life experience.\n"
       ]
      }
     ],
     "prompt_number": 39
    },
    {
     "cell_type": "markdown",
     "metadata": {},
     "source": [
      "<a name='exercises_numerical'></a>Exercises\n",
      "---\n",
      "#### First Twenty\n",
      "- Use the *range()* function to store the first twenty numbers (1-20) in a list, and print them out.\n",
      "\n",
      "#### Larger Sets\n",
      "- Take the *first\\_twenty.py* program you just wrote. Change your end number to a much larger number. How long does it take your computer to print out the first million numbers? (Most people will never see a million numbers scroll before their eyes. You can now see this!)\n",
      "\n",
      "#### Five Wallets\n",
      "- Imagine five wallets with different amounts of cash in them. Store these five values in a list, and print out the following sentences:\n",
      "    - \"The fattest wallet has $ *value* in it.\"\n",
      "    - \"The skinniest wallet has $ *value* in it.\"\n",
      "    - \"All together, these wallets have $ *value* in them.\""
     ]
    },
    {
     "cell_type": "markdown",
     "metadata": {},
     "source": [
      "[top](#top)"
     ]
    },
    {
     "cell_type": "markdown",
     "metadata": {},
     "source": [
      "<a name='comprehensions'></a>List Comprehensions\n",
      "===\n",
      "I thought carefully before including this section. If you are brand new to programming, list comprehensions may look confusing at first. They are a shorthand way of creating and working with lists. It is good to be aware of list comprehensions, because you will see them in other people's code, and they are really useful when you understand how to use them. That said, if they don't make sense to you yet, don't worry about using them right away. When you have worked with enough lists, you will want to use comprehensions. For now, it is good enough to know they exist, and to recognize them when you see them. If you like them, go ahead and start trying to use them now.\n",
      "\n",
      "<a name='comprehensions_numerical'></a>Numerical Comprehensions\n",
      "---\n",
      "Let's consider how we might make a list of the first ten square numbers. We could do it like this:"
     ]
    },
    {
     "cell_type": "code",
     "collapsed": false,
     "input": [
      "# Store the first ten square numbers in a list.\n",
      "# Make an empty list that will hold our square numbers.\n",
      "squares = []\n",
      "\n",
      "# Go through the first ten numbers, square them, and add them to our list.\n",
      "for number in range(1,11):\n",
      "    new_square = number**2\n",
      "    squares.append(new_square)\n",
      "    \n",
      "# Show that our list is correct.\n",
      "for square in squares:\n",
      "    print(square)"
     ],
     "language": "python",
     "metadata": {},
     "outputs": [
      {
       "output_type": "stream",
       "stream": "stdout",
       "text": [
        "1\n",
        "4\n",
        "9\n",
        "16\n",
        "25\n",
        "36\n",
        "49\n",
        "64\n",
        "81\n",
        "100\n"
       ]
      }
     ],
     "prompt_number": 42
    },
    {
     "cell_type": "markdown",
     "metadata": {},
     "source": [
      "This should make sense at this point. If it doesn't, go over the code with these thoughts in mind:\n",
      "- We make an empty list called *squares* that will hold the values we are interested in.\n",
      "- Using the *range()* function, we start a loop that will go through the numbers 1-10.\n",
      "- Each time we pass through the loop, we find the square of the current number by raising it to the second power.\n",
      "- We add this new value to our list *squares*.\n",
      "- We go through our newly-defined list and print out each square.\n",
      "\n",
      "Now let's make this code more efficient. We don't really need to store the new square in its own variable *new_square*; we can just add it directly to the list of squares. The line\n",
      "\n",
      "    new_square = number**2\n",
      "\n",
      "is taken out, and the next line takes care of the squaring:"
     ]
    },
    {
     "cell_type": "code",
     "collapsed": false,
     "input": [
      "# Store the first ten square numbers in a list.\n",
      "# Make an empty list that will hold our square numbers.\n",
      "squares = []\n",
      "\n",
      "# Go through the first ten numbers, square them, and add them to our list.\n",
      "for number in range(1,11):\n",
      "    squares.append(number**2)\n",
      "    \n",
      "# Show that our list is correct.\n",
      "for square in squares:\n",
      "    print(square)"
     ],
     "language": "python",
     "metadata": {},
     "outputs": [
      {
       "output_type": "stream",
       "stream": "stdout",
       "text": [
        "1\n",
        "4\n",
        "9\n",
        "16\n",
        "25\n",
        "36\n",
        "49\n",
        "64\n",
        "81\n",
        "100\n"
       ]
      }
     ],
     "prompt_number": 43
    },
    {
     "cell_type": "markdown",
     "metadata": {},
     "source": [
      "List comprehensions allow us to collapse the first three lines of code into one line. Here's what it looks like:"
     ]
    },
    {
     "cell_type": "code",
     "collapsed": false,
     "input": [
      "# Store the first ten square numbers in a list.\n",
      "squares = [number**2 for number in range(1,11)]\n",
      "\n",
      "for square in squares:\n",
      "    print(square)"
     ],
     "language": "python",
     "metadata": {},
     "outputs": [
      {
       "output_type": "stream",
       "stream": "stdout",
       "text": [
        "1\n",
        "4\n",
        "9\n",
        "16\n",
        "25\n",
        "36\n",
        "49\n",
        "64\n",
        "81\n",
        "100\n"
       ]
      }
     ],
     "prompt_number": 44
    },
    {
     "cell_type": "markdown",
     "metadata": {},
     "source": [
      "It should be pretty clear that this code is more efficient than our previous approach, but it may not be clear what is happening. Let's take a look at everything that is happening in that first line:\n",
      "\n",
      "We define a list called *squares*.\n",
      "\n",
      "Look at the second part of what's in square brackets:\n",
      "\n",
      "    for number in range(1,11)\n",
      "\n",
      "This sets up a loop that goes through the numbers 1-10, storing each value in the variable *number*. Now we can see what happens to each *number* in the loop:\n",
      "\n",
      "    number**2\n",
      "\n",
      "Each number is raised to the second power, and this is the value that is stored in the list we defined. We might read this line in the following way:\n",
      "\n",
      "squares = [raise *number* to the second power, for each *number* in the range 1-10]"
     ]
    },
    {
     "cell_type": "markdown",
     "metadata": {},
     "source": [
      "### Another example\n",
      "It is probably helpful to see a few more examples of how comprehensions can be used. Let's try to make the first ten even numbers, the longer way:"
     ]
    },
    {
     "cell_type": "code",
     "collapsed": false,
     "input": [
      "# Make an empty list that will hold the even numbers.\n",
      "evens = []\n",
      "\n",
      "# Loop through the numbers 1-10, double each one, and add it to our list.\n",
      "for number in range(1,11):\n",
      "    evens.append(number*2)\n",
      "    \n",
      "# Show that our list is correct:\n",
      "for even in evens:\n",
      "    print(even)"
     ],
     "language": "python",
     "metadata": {},
     "outputs": [
      {
       "output_type": "stream",
       "stream": "stdout",
       "text": [
        "2\n",
        "4\n",
        "6\n",
        "8\n",
        "10\n",
        "12\n",
        "14\n",
        "16\n",
        "18\n",
        "20\n"
       ]
      }
     ],
     "prompt_number": 45
    },
    {
     "cell_type": "markdown",
     "metadata": {},
     "source": [
      "Here's how we might think of doing the same thing, using a list comprehension:\n",
      "\n",
      "evens = [multiply each *number* by 2, for each *number* in the range 1-10]\n",
      "\n",
      "Here is the same line in code:"
     ]
    },
    {
     "cell_type": "code",
     "collapsed": false,
     "input": [
      "# Make a list of the first ten even numbers.\n",
      "evens = [number*2 for number in range(1,11)]\n",
      "\n",
      "for even in evens:\n",
      "    print(even)"
     ],
     "language": "python",
     "metadata": {},
     "outputs": [
      {
       "output_type": "stream",
       "stream": "stdout",
       "text": [
        "2\n",
        "4\n",
        "6\n",
        "8\n",
        "10\n",
        "12\n",
        "14\n",
        "16\n",
        "18\n",
        "20\n"
       ]
      }
     ],
     "prompt_number": 46
    },
    {
     "cell_type": "markdown",
     "metadata": {},
     "source": [
      "<a name='comprehensions_non_numerical'></a>Non-numerical comprehensions\n",
      "---\n",
      "We can use comprehensions with non-numerical lists as well. In this case, we will create an initial list, and then use a comprehension to make a second list from the first one. Here is a simple example, without using comprehensions:"
     ]
    },
    {
     "cell_type": "code",
     "collapsed": false,
     "input": [
      "# Consider some students.\n",
      "students = ['bernice', 'aaron', 'cody']\n",
      "\n",
      "# Let's turn them into great students.\n",
      "great_students = []\n",
      "for student in students:\n",
      "    great_students.append(student.title() + \" the great!\")\n",
      "\n",
      "# Let's greet each great student.\n",
      "for great_student in great_students:\n",
      "    print(\"Hello, \" + great_student)"
     ],
     "language": "python",
     "metadata": {},
     "outputs": [
      {
       "output_type": "stream",
       "stream": "stdout",
       "text": [
        "Hello, Bernice the great!\n",
        "Hello, Aaron the great!\n",
        "Hello, Cody the great!\n"
       ]
      }
     ],
     "prompt_number": 47
    },
    {
     "cell_type": "markdown",
     "metadata": {},
     "source": [
      "To use a comprehension in this code, we want to write something like this:\n",
      "\n",
      "great_students = [add 'the great' to each *student*, for each *student* in the list of *students*]\n",
      "\n",
      "Here's what it looks like:"
     ]
    },
    {
     "cell_type": "code",
     "collapsed": false,
     "input": [
      "# Consider some students.\n",
      "students = ['bernice', 'aaron', 'cody']\n",
      "\n",
      "# Let's turn them into great students.\n",
      "great_students = [student.title() + \" the great!\" for student in students]\n",
      "\n",
      "# Let's greet each great student.\n",
      "for great_student in great_students:\n",
      "    print(\"Hello, \" + great_student)"
     ],
     "language": "python",
     "metadata": {},
     "outputs": [
      {
       "output_type": "stream",
       "stream": "stdout",
       "text": [
        "Hello, Bernice the great!\n",
        "Hello, Aaron the great!\n",
        "Hello, Cody the great!\n"
       ]
      }
     ],
     "prompt_number": 48
    },
    {
     "cell_type": "markdown",
     "metadata": {},
     "source": [
      "<a name='exercises_comprehensions'></a>Exercises\n",
      "---\n",
      "If these examples are making sense, go ahead and try to do the following exercises using comprehensions. If not, try the exercises without comprehensions. You may figure out how to use comprehensions after you have solved each exercise the longer way.\n",
      "\n",
      "#### Multiples of Ten\n",
      "- Make a list of the first ten multiples of ten (10, 20, 30... 90, 100). There are a number of ways to do this, but try to do it using a list comprehension. Print out your list.\n",
      "\n",
      "#### Cubes\n",
      "- We saw how to make a list of the first ten squares. Make a list of the first ten cubes (1, 8, 27... 1000), and print them out.\n",
      "\n",
      "#### Awesomeness\n",
      "- Store five names in a list. Make a second list that adds the phrase \"is awesome!\" to each name. Print out the awesome version of the names."
     ]
    },
    {
     "cell_type": "markdown",
     "metadata": {},
     "source": [
      "[top](#top)"
     ]
    },
    {
     "cell_type": "markdown",
     "metadata": {},
     "source": [
      "[Previous: Variables, Strings, and Numbers](http://nbviewer.ipython.org/urls/raw.github.com/ehmatthes/intro_programming/master/notebooks/var_string_num.ipynb) | \n",
      "[Introduction to Programming home page](http://nbviewer.ipython.org/urls/raw.github.com/ehmatthes/intro_programming/master/notebooks/intro_programming_index.ipynb)"
     ]
    }
   ],
   "metadata": {}
  }
 ]
}