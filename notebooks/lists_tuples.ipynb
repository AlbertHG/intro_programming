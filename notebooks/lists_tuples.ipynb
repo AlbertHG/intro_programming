{
 "metadata": {
  "name": "lists_tuples"
 },
 "nbformat": 3,
 "nbformat_minor": 0,
 "worksheets": [
  {
   "cells": [
    {
     "cell_type": "markdown",
     "metadata": {},
     "source": [
      "Lists and Tuples\n",
      "===\n",
      "In this notebook, you will learn to store more than one valuable in a single variable. This by itself is one of the most powerful ideas in programming, and it introduces a number of other central concepts such as loops. If this section ends up making sense to you, you will be able to start writing some interesting programs, and you can be more confident that you will be able to develop overall competence as a programmer."
     ]
    },
    {
     "cell_type": "markdown",
     "metadata": {},
     "source": [
      "[Previous: Variables, Strings, and Numbers](http://nbviewer.ipython.org/urls/raw.github.com/ehmatthes/intro_programming/master/notebooks/var_string_num.ipynb) --- \n",
      "[Introduction to Programming home page](http://nbviewer.ipython.org/urls/raw.github.com/ehmatthes/intro_programming/master/notebooks/intro_programming_index.ipynb)"
     ]
    },
    {
     "cell_type": "markdown",
     "metadata": {},
     "source": [
      "Contents\n",
      "===\n",
      "[Lists](lists)\n",
      "    - "
     ]
    },
    {
     "cell_type": "markdown",
     "metadata": {},
     "source": [
      "[top](#top)"
     ]
    },
    {
     "cell_type": "markdown",
     "metadata": {},
     "source": [
      "[Previous: Variables, Strings, and Numbers](http://nbviewer.ipython.org/urls/raw.github.com/ehmatthes/intro_programming/master/notebooks/var_string_num.ipynb) --- \n",
      "[Introduction to Programming home page](http://nbviewer.ipython.org/urls/raw.github.com/ehmatthes/intro_programming/master/notebooks/intro_programming_index.ipynb)"
     ]
    }
   ],
   "metadata": {}
  }
 ]
}