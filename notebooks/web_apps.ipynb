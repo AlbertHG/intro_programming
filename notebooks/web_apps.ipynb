{
 "metadata": {
  "name": ""
 },
 "nbformat": 3,
 "nbformat_minor": 0,
 "worksheets": [
  {
   "cells": [
    {
     "cell_type": "markdown",
     "metadata": {},
     "source": [
      "Web Applications\n",
      "===\n",
      "Many people who want to learn Python these days are looking to write web applications. Web apps are web sites that do something unique. If you understand how to develop web apps, you can ask for any input you want from users, and you can do just about anything you want with that input."
     ]
    },
    {
     "cell_type": "markdown",
     "metadata": {},
     "source": [
      "[Home](http://nbviewer.ipython.org/urls/raw.github.com/ehmatthes/intro_programming/master/notebooks/index.ipynb)"
     ]
    },
    {
     "cell_type": "markdown",
     "metadata": {},
     "source": [
      "Contents\n",
      "===\n",
      "- [What is a web app?](#what)\n",
      "- [How can Python help you create and maintain a web app?](#python_web_apps)"
     ]
    },
    {
     "cell_type": "markdown",
     "metadata": {},
     "source": [
      "[top](#)"
     ]
    },
    {
     "cell_type": "markdown",
     "metadata": {},
     "source": [
      "<a name='what'></a>What is a web app?\n",
      "---\n",
      "A web app takes in data from users, and does something with that data. There are all kinds of examples of web apps:\n",
      "\n",
      "- [Dropbox](http://dropbox.com) takes in files from users, and makes them available to that user and perhaps other users.\n",
      "- [Gittip](http://gittip.org) allows people to create recurring tips to people who are doing projects that benefit others.\n",
      "- [Twitter](http://twitter.com) allows people to send short messages to followers.\n",
      "\n",
      "These examples all go beyond just managing content online. If you are just looking to manage content, you should be looking at a mature content-management system (CMS)."
     ]
    },
    {
     "cell_type": "markdown",
     "metadata": {},
     "source": [
      "[top](#)"
     ]
    },
    {
     "cell_type": "markdown",
     "metadata": {},
     "source": [
      "- - -\n",
      "[Home](http://nbviewer.ipython.org/urls/raw.github.com/ehmatthes/intro_programming/master/notebooks/index.ipynb)"
     ]
    }
   ],
   "metadata": {}
  }
 ]
}