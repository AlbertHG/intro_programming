{
 "metadata": {
  "name": ""
 },
 "nbformat": 3,
 "nbformat_minor": 0,
 "worksheets": [
  {
   "cells": [
    {
     "cell_type": "markdown",
     "metadata": {},
     "source": [
      "Classes\n",
      "===\n",
      "So far you have learned about Python's core data types: strings, numbers, lists, tuples, and dictionaries. In this section you will learn about the last major data structure, classes. Classes are quite unlike the other data types, in that they are much more flexible. Classes allow you to define the information and behavior that characterize anything you want to model in your program. Classes are a rich topic, so you will learn just enough here to dive into the projects you'd like to get started on.\n",
      "\n",
      "There is a lot of new language that comes into play when you start learning about classes. If this is new to you, just read through and trust that it will start to make sense as you start to work with existing classes, and write your own classes."
     ]
    },
    {
     "cell_type": "markdown",
     "metadata": {},
     "source": [
      "[Previous: More Functions](http://nbviewer.ipython.org/urls/raw.github.com/ehmatthes/intro_programming/master/notebooks/more_functions.ipynb) | \n",
      "[Home](http://nbviewer.ipython.org/urls/raw.github.com/ehmatthes/intro_programming/master/notebooks/index.ipynb) |\n",
      "[Next: Exceptions](http://nbviewer.ipython.org/urls/raw.github.com/ehmatthes/intro_programming/master/notebooks/exceptions.ipynb)"
     ]
    },
    {
     "cell_type": "markdown",
     "metadata": {},
     "source": [
      "Contents\n",
      "===\n",
      "- [What are classes?](#what)\n",
      "- [Object-Oriented Terminology](#oop_terminology)\n",
      "    - [A closer look at the Rocket class](#closer_look)\n"
     ]
    },
    {
     "cell_type": "markdown",
     "metadata": {},
     "source": [
      "[top](#)"
     ]
    },
    {
     "cell_type": "markdown",
     "metadata": {},
     "source": [
      "<a name=\"what\"></a>What are classes?\n",
      "===\n",
      "Classes are a way of combining information and behavior. For example, let's consider what you'd need to do if you were creating a rocket ship in a game, or in a physics simulation. One of the first things you'd want to track are the x and y coordinates of the rocket. Here is what a simple rocket ship class looks like in code:"
     ]
    },
    {
     "cell_type": "code",
     "collapsed": false,
     "input": [
      "class Rocket():\n",
      "    # Rocket is a class that simulates a rocket ship for a game,\n",
      "    #  or a physics simulation.\n",
      "    \n",
      "    def __init__(self):\n",
      "        # Each rocket has an (x,y) position.\n",
      "        self.x = 0\n",
      "        self.y = 0"
     ],
     "language": "python",
     "metadata": {},
     "outputs": [],
     "prompt_number": 11
    },
    {
     "cell_type": "markdown",
     "metadata": {},
     "source": [
      "One of the first things you do with a class is to define the **\\__init\\__()** method. The \\_\\_init\\_\\_() method sets the values for any parameters that need to be defined when an object is first created. The *self* part will be explained later; basically, it's a syntax that allows you to access a variable from anywhere else in the class.\n",
      "\n",
      "The Rocket class stores two pieces of information so far, but it can't do anything. The first behavior to define is a core behavior of a rocket: moving up. Here is what that might look like in code:"
     ]
    },
    {
     "cell_type": "code",
     "collapsed": false,
     "input": [
      "###highlight=[11,12,13]\n",
      "class Rocket():\n",
      "    # Rocket is a class that simulates a rocket ship for a game,\n",
      "    #  or a physics simulation.\n",
      "    \n",
      "    def __init__(self):\n",
      "        # Each rocket has an (x,y) position.\n",
      "        self.x = 0\n",
      "        self.y = 0\n",
      "        \n",
      "    def move_up(self):\n",
      "        # Increment the y-position of the rocket.\n",
      "        self.y += 1"
     ],
     "language": "python",
     "metadata": {},
     "outputs": [],
     "prompt_number": 10
    },
    {
     "cell_type": "markdown",
     "metadata": {},
     "source": [
      "The Rocket class can now store some information, and it can do something. But this code has not actually created a rocket yet. Here is how you actually make a rocket:"
     ]
    },
    {
     "cell_type": "code",
     "collapsed": false,
     "input": [
      "###highlight=[15,16, 17]\n",
      "class Rocket():\n",
      "    # Rocket is a class that simulates a rocket ship for a game,\n",
      "    #  or a physics simulation.\n",
      "    \n",
      "    def __init__(self):\n",
      "        # Each rocket has an (x,y) position.\n",
      "        self.x = 0\n",
      "        self.y = 0\n",
      "        \n",
      "    def move_up(self):\n",
      "        # Increment the y-position of the rocket.\n",
      "        self.y += 1\n",
      "\n",
      "# Create a Rocket object.\n",
      "my_rocket = Rocket()\n",
      "print(my_rocket)"
     ],
     "language": "python",
     "metadata": {},
     "outputs": [
      {
       "output_type": "stream",
       "stream": "stdout",
       "text": [
        "<__main__.Rocket object at 0x7f6f50c39190>\n"
       ]
      }
     ],
     "prompt_number": 4
    },
    {
     "cell_type": "markdown",
     "metadata": {},
     "source": [
      "To actually use a class, you create a variable such as *my\\_rocket*. Then you set that equal to the name of the class, with an empty set of parentheses. Python creates an **object** from the class. An object is a single instance of the Rocket class; it has a copy of each of the class's variables, and it can do any action that is defined for the class. In this case, you can see that the variable my\\_rocket is a Rocket object from the \\_\\_main\\_\\_ program file, which is stored at a particular location in memory.\n",
      "\n",
      "Once you have a class, you can define an object and use its methods. Here is how you might define a rocket and have it start to move up:"
     ]
    },
    {
     "cell_type": "code",
     "collapsed": false,
     "input": [
      "###highlight=[15,16,17,18,19,20,21,22,23]\n",
      "class Rocket():\n",
      "    # Rocket is a class that simulates a rocket ship for a game,\n",
      "    #  or a physics simulation.\n",
      "    \n",
      "    def __init__(self):\n",
      "        # Each rocket has an (x,y) position.\n",
      "        self.x = 0\n",
      "        self.y = 0\n",
      "        \n",
      "    def move_up(self):\n",
      "        # Increment the y-position of the rocket.\n",
      "        self.y += 1\n",
      "\n",
      "# Create a Rocket object, and have it start to move up.\n",
      "my_rocket = Rocket()\n",
      "print(\"Rocket altitude:\", my_rocket.y)\n",
      "\n",
      "my_rocket.move_up()\n",
      "print(\"Rocket altitude:\", my_rocket.y)\n",
      "\n",
      "my_rocket.move_up()\n",
      "print(\"Rocket altitude:\", my_rocket.y)"
     ],
     "language": "python",
     "metadata": {},
     "outputs": [
      {
       "output_type": "stream",
       "stream": "stdout",
       "text": [
        "Rocket altitude: 0\n",
        "Rocket altitude: 1\n",
        "Rocket altitude: 2\n"
       ]
      }
     ],
     "prompt_number": 7
    },
    {
     "cell_type": "markdown",
     "metadata": {},
     "source": [
      "To access an object's variables or methods, you give the name of the object and then use *dot notation* to access the variables and methods. So to get the y-value of *my\\_rocket*, you use *my\\_rocket.y*. To use the move_up() method on my_rocket, you write *my\\_rocket.move\\_up()*.\n",
      "\n",
      "Once you have a class defined, you can create as many objects from that class as you want. Each object is its own instance of that class, with its own separate variables. All of the objects are capable of the same behavior, but each object's particular actions do not affect any of the other objects. Here is how you might make a simple fleet of rockets:"
     ]
    },
    {
     "cell_type": "code",
     "collapsed": false,
     "input": [
      "###highlight=[15,16,17,18,19,20,21,22,23]\n",
      "class Rocket():\n",
      "    # Rocket is a class that simulates a rocket ship for a game,\n",
      "    #  or a physics simulation.\n",
      "    \n",
      "    def __init__(self):\n",
      "        # Each rocket has an (x,y) position.\n",
      "        self.x = 0\n",
      "        self.y = 0\n",
      "        \n",
      "    def move_up(self):\n",
      "        # Increment the y-position of the rocket.\n",
      "        self.y += 1\n",
      "        \n",
      "# Create a fleet of 5 rockets, and store them in a list.\n",
      "my_rockets = []\n",
      "for x in range(0,5):\n",
      "    new_rocket = Rocket()\n",
      "    my_rockets.append(new_rocket)\n",
      "\n",
      "# Show that each rocket is a separate object.\n",
      "for rocket in my_rockets:\n",
      "    print(rocket)"
     ],
     "language": "python",
     "metadata": {},
     "outputs": [
      {
       "output_type": "stream",
       "stream": "stdout",
       "text": [
        "<__main__.Rocket object at 0x7f6f5073cd10>\n",
        "<__main__.Rocket object at 0x7f6f5073cc90>\n",
        "<__main__.Rocket object at 0x7f6f5073cbd0>\n",
        "<__main__.Rocket object at 0x7f6f5077e410>\n",
        "<__main__.Rocket object at 0x7f6f5077ead0>\n"
       ]
      }
     ],
     "prompt_number": 11
    },
    {
     "cell_type": "markdown",
     "metadata": {},
     "source": [
      "You can see that each rocket is at a separate place in memory. By the way, if you understand [list comprehensions](http://introtopython.org/lists_tuples.html#comprehensions), you can make the fleet of rockets in one line:"
     ]
    },
    {
     "cell_type": "code",
     "collapsed": false,
     "input": [
      "###highlight=[16]\n",
      "class Rocket():\n",
      "    # Rocket is a class that simulates a rocket ship for a game,\n",
      "    #  or a physics simulation.\n",
      "    \n",
      "    def __init__(self):\n",
      "        # Each rocket has an (x,y) position.\n",
      "        self.x = 0\n",
      "        self.y = 0\n",
      "        \n",
      "    def move_up(self):\n",
      "        # Increment the y-position of the rocket.\n",
      "        self.y += 1\n",
      "        \n",
      "# Create a fleet of 5 rockets, and store them in a list.\n",
      "my_rockets = [Rocket() for x in range(0,5)]\n",
      "\n",
      "# Show that each rocket is a separate object.\n",
      "for rocket in my_rockets:\n",
      "    print(rocket)"
     ],
     "language": "python",
     "metadata": {},
     "outputs": [
      {
       "output_type": "stream",
       "stream": "stdout",
       "text": [
        "<__main__.Rocket object at 0x7f6f50789190>\n",
        "<__main__.Rocket object at 0x7f6f50763450>\n",
        "<__main__.Rocket object at 0x7f6f507634d0>\n",
        "<__main__.Rocket object at 0x7f6f50763510>\n",
        "<__main__.Rocket object at 0x7f6f50763550>\n"
       ]
      }
     ],
     "prompt_number": 12
    },
    {
     "cell_type": "markdown",
     "metadata": {},
     "source": [
      "You can prove that each rocket has its own x and y values by moving just one of the rockets:"
     ]
    },
    {
     "cell_type": "code",
     "collapsed": false,
     "input": [
      "###highlight=[18,19,20,21,22,23]\n",
      "class Rocket():\n",
      "    # Rocket is a class that simulates a rocket ship for a game,\n",
      "    #  or a physics simulation.\n",
      "    \n",
      "    def __init__(self):\n",
      "        # Each rocket has an (x,y) position.\n",
      "        self.x = 0\n",
      "        self.y = 0\n",
      "        \n",
      "    def move_up(self):\n",
      "        # Increment the y-position of the rocket.\n",
      "        self.y += 1\n",
      "        \n",
      "# Create a fleet of 5 rockets, and store them in a list.\n",
      "my_rockets = [Rocket() for x in range(0,5)]\n",
      "\n",
      "# Move the first rocket up.\n",
      "my_rockets[0].move_up()\n",
      "\n",
      "# Show that only the first rocket has moved.\n",
      "for rocket in my_rockets:\n",
      "    print(\"Rocket altitude:\", rocket.y)"
     ],
     "language": "python",
     "metadata": {},
     "outputs": [
      {
       "output_type": "stream",
       "stream": "stdout",
       "text": [
        "Rocket altitude: 1\n",
        "Rocket altitude: 0\n",
        "Rocket altitude: 0\n",
        "Rocket altitude: 0\n",
        "Rocket altitude: 0\n"
       ]
      }
     ],
     "prompt_number": 15
    },
    {
     "cell_type": "markdown",
     "metadata": {},
     "source": [
      "The syntax for classes may not be very clear at this point, but consider for a moment how you might create a rocket without using classes. You might store the x and y values in a dictionary, but you would have to write a lot of ugly, hard-to-maintain code to manage even a small set of rockets. As more features become incorporated into the Rocket class, you will see how much more efficiently real-world objects can be modeled with classes than they could be using just lists and dictionaries."
     ]
    },
    {
     "cell_type": "markdown",
     "metadata": {},
     "source": [
      "[top](#)"
     ]
    },
    {
     "cell_type": "markdown",
     "metadata": {},
     "source": [
      "<a name='exercises_what'></a>Exercises\n",
      "---\n",
      "\n",
      "#### Rocket With No Class\n",
      "- Using just what you already know, try to write a program that simulates the above example about rockets.\n",
      "    - Store an x and y value for a rocket.\n",
      "    - Store an x and y value for each rocket in a set of 5 rockets. Store these 5 rockets in a list.\n",
      "- Don't take this exercise too far; it's really just a quick exercise to help you understand how useful the class structure is, especially as you start to see more capability added to the Rocket class."
     ]
    },
    {
     "cell_type": "markdown",
     "metadata": {},
     "source": [
      "[top](#)"
     ]
    },
    {
     "cell_type": "markdown",
     "metadata": {},
     "source": [
      "<a name='oop_terminology'></a>Object-Oriented terminology\n",
      "===\n",
      "Classes are part of a programming paradigm called **object-oriented programming**. Object-oriented programming, or OOP for short, focuses on building reusable blocks of code called classes. When you want to use a class in one of your programs, you make an **object** from that class, hence the name of this kind of programming. Python itself is not tied to object-oriented programming, but you will certainly be using objects in most or all of your Python projects. In order to understand classes, you have to understand some of the language that is used in OOP.\n",
      "\n",
      "A **class** is a body of code that defines the **attributes** and **behaviors** required to accurately model something you need for your program. You can model something from the real world, such as a rocket ship or a guitar string, or you can model something from a virtual world such as a rocket in a game, or a set of physical laws for a game engine.\n",
      "\n",
      "An **attribute** is a piece of information. It is a variable, or more properly the value associated with a variable. A **behavior** is an action that is defined within a class. These are made up of **methods**, which are just functions that are defined for the class.\n",
      "\n",
      "An **object** is a particular instance of a class. An object has a certain set of values for all of the attributes in the class. You can have as many objects as you want for any one class.\n",
      "\n",
      "There is much more to know, but these words will help you get started. They will make more sense as you see more examples, and start to use classes on your own."
     ]
    },
    {
     "cell_type": "markdown",
     "metadata": {},
     "source": [
      "[top](#)"
     ]
    },
    {
     "cell_type": "markdown",
     "metadata": {},
     "source": [
      "<a name='closer_look'></a>A closer look at the Rocket class\n",
      "---\n",
      "Now that you have seen a simple example of a class, and have thought a little more about OOP terminology, it will be helpful to take a closer look at the Rocket class."
     ]
    },
    {
     "cell_type": "markdown",
     "metadata": {},
     "source": [
      "<a name=\"init_method\"></a>The \\_\\_init()\\_\\_ method\n",
      "---\n",
      "Here is the initial code block that defined the Rocket class:"
     ]
    },
    {
     "cell_type": "code",
     "collapsed": false,
     "input": [
      "class Rocket():\n",
      "    # Rocket is a class that simulates a rocket ship for a game,\n",
      "    #  or a physics simulation.\n",
      "    \n",
      "    def __init__(self):\n",
      "        self.x = 0\n",
      "        self.y = 0"
     ],
     "language": "python",
     "metadata": {},
     "outputs": []
    },
    {
     "cell_type": "markdown",
     "metadata": {},
     "source": [
      "The first line shows how a class is created in Python. The keyword **class** tells Python that you are about to define a class. The only rules for naming your class are the same rules you learned about [naming variables](var_string_num.html#naming_rules), but there is a strong convention among Python programmers that classes are named using CamelCase. If you are unfamiliar with CamelCase, it is a convention where each letter that starts a word is capitalized, with no underscores in the name. The name of the class is followed by a set of parentheses. These parentheses will be empty for now, but later they will contain a class upon which the new class is based.\n",
      "\n",
      "It is good practice to write a comment at the beginning of your class, describing the class. There is a [more formal syntax](http://www.python.org/dev/peps/pep-0257/) for documenting your classes, but you can wait a little bit to get that formal. For now, just write a comment at the beginning of your class summarizing what you intend the class to do. Becoming more formal will be an easy transition later if you start with this habit.\n",
      "\n",
      "Function names that start and end with two underscores are special built-in functions that Python uses in certain ways. The \\_\\_init()\\_\\_ method is one of these special functions. It is called automatically when you create an object from your class. The \\_\\_init()\\_\\_ function lets you make sure that all relevant attributes are set to their proper values when an object is created from the class, before the class is used. In this case, The function initializes the x and y values of the rocket to 0.\n",
      "\n",
      "The **self** keyword is interesting, and often takes people a little while to understand. The word \"self\" refers to the current object that you are working with. When you are writing a class, it lets you refer to certain attributes from any other part of the class.\n",
      "\n",
      "Instead of jumping into behavior, let's create a Rocket object and see what we have:"
     ]
    },
    {
     "cell_type": "code",
     "collapsed": false,
     "input": [
      "###highlight=[10,11]\n",
      "class Rocket():\n",
      "    # Rocket is a class that simulates a rocket ship for a game,\n",
      "    #  or a physics simulation.\n",
      "    \n",
      "    def __init__(self):\n",
      "        self.x = 0\n",
      "        self.y = 0\n",
      "        \n",
      "rocket_0 = Rocket()\n",
      "print(rocket_0)"
     ],
     "language": "python",
     "metadata": {},
     "outputs": [
      {
       "output_type": "stream",
       "stream": "stdout",
       "text": [
        "<__main__.Rocket object at 0x7f6f50c39610>\n"
       ]
      }
     ],
     "prompt_number": 2
    },
    {
     "cell_type": "markdown",
     "metadata": {},
     "source": [
      "When *rocket_0* is printed, you can see that it is a \"Rocket object\". The \\_\\_main\\_\\_ refers to the fact that this class file is being executed. The *0x7f6f50c39610* value tells you where in your system's memory the Rocket object is stored. So you can read this as, \"rocket\\_0 is a Rocket object in the \\_\\_main\\_\\_ file, stored at the address 0x7f6f50c39610.\"\n",
      "\n",
      "When a second Rocket object is created, you can see that it is the same kind of thing, but it is stored in a different place in memory:"
     ]
    },
    {
     "cell_type": "code",
     "collapsed": false,
     "input": [
      "###highlight=[10,11]\n",
      "class Rocket():\n",
      "    # Rocket is a class that simulates a rocket ship for a game,\n",
      "    #  or a physics simulation.\n",
      "    \n",
      "    def __init__(self):\n",
      "        self.x = 0\n",
      "        self.y = 0\n",
      "\n",
      "# Make a rocket object.        \n",
      "rocket_0 = Rocket()\n",
      "print(rocket_0)\n",
      "\n",
      "# Make a second rocket object.\n",
      "rocket_1 = Rocket()\n",
      "print(rocket_1)"
     ],
     "language": "python",
     "metadata": {},
     "outputs": [
      {
       "output_type": "stream",
       "stream": "stdout",
       "text": [
        "<__main__.Rocket object at 0x7f6f50c39a50>\n",
        "<__main__.Rocket object at 0x7f6f50c39610>\n"
       ]
      }
     ],
     "prompt_number": 3
    },
    {
     "cell_type": "markdown",
     "metadata": {},
     "source": [
      "There are now two rocket objects. Each **instance** of Rocket is stored at a different place in memory."
     ]
    },
    {
     "cell_type": "markdown",
     "metadata": {},
     "source": [
      "[top](#)"
     ]
    },
    {
     "cell_type": "markdown",
     "metadata": {},
     "source": [
      "- - -\n",
      "[Previous: More Functions](http://nbviewer.ipython.org/urls/raw.github.com/ehmatthes/intro_programming/master/notebooks/more_functions.ipynb) | \n",
      "[Home](http://nbviewer.ipython.org/urls/raw.github.com/ehmatthes/intro_programming/master/notebooks/index.ipynb) |\n",
      "[Next: Exceptions](http://nbviewer.ipython.org/urls/raw.github.com/ehmatthes/intro_programming/master/notebooks/exceptions.ipynb)"
     ]
    }
   ],
   "metadata": {}
  }
 ]
}