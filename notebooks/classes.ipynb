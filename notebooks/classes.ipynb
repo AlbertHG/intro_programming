{
 "metadata": {
  "name": "classes"
 },
 "nbformat": 3,
 "nbformat_minor": 0,
 "worksheets": [
  {
   "cells": [
    {
     "cell_type": "markdown",
     "metadata": {},
     "source": [
      "Classes\n",
      "===\n",
      "So far you have learned about Python's core data types: strings, numbers, lists, tuples, and dictionaries. In this section you will learn about the last major data structure, classes. Classes are quite unlike the other data types, in that they are much more flexible. Classes allow you to define the information and behavior that characterize anything you want to model in your program. Classes are a rich topic, so you will learn just enough here to dive into the projects you'd like to get started on.\n",
      "\n",
      "There is a lot of new language that comes into play when you start learning about classes. If this is new to you, just read through and trust that it will start to make sense as you start to work with existing classes, and write your own classes."
     ]
    },
    {
     "cell_type": "markdown",
     "metadata": {},
     "source": [
      "[Previous: More Functions](http://nbviewer.ipython.org/urls/raw.github.com/ehmatthes/intro_programming/master/notebooks/more_functions.ipynb) | \n",
      "[Home](http://nbviewer.ipython.org/urls/raw.github.com/ehmatthes/intro_programming/master/notebooks/index.ipynb) |\n",
      "[Next: Exceptions](http://nbviewer.ipython.org/urls/raw.github.com/ehmatthes/intro_programming/master/notebooks/exceptions.ipynb)"
     ]
    },
    {
     "cell_type": "markdown",
     "metadata": {},
     "source": [
      "Contents\n",
      "===\n",
      "- [What are classes?](#what)"
     ]
    },
    {
     "cell_type": "markdown",
     "metadata": {},
     "source": [
      "[top](#)"
     ]
    },
    {
     "cell_type": "markdown",
     "metadata": {},
     "source": [
      "<a name=\"what\"></a>What are classes?\n",
      "---\n",
      "Classes are a way of combining information and behavior. For example, let's consider what you'd need to do if you were creating a rocket ship in a game, or in a physics simulation. One of the first things you'd want to track are the x and y coordinates of the rocket. Here is what a simple rocket ship class looks like in code:"
     ]
    },
    {
     "cell_type": "code",
     "collapsed": false,
     "input": [
      "class Rocket():\n",
      "    # Rocket is a class that simulates a rocket ship for a game,\n",
      "    #  or a physics simulation.\n",
      "    \n",
      "    def __init__(self):\n",
      "        self.x = 0\n",
      "        self.y = 0"
     ],
     "language": "python",
     "metadata": {},
     "outputs": [],
     "prompt_number": 11
    },
    {
     "cell_type": "markdown",
     "metadata": {},
     "source": [
      "One of the first things you do with a class is to define the **\\__init\\__()** method. The \\__init\\__() method sets the values for any parameters that need to be defined when an object is first created. The self part will be explained later; basically, it's a syntax that allows you to access a variable from anywhere else in the class.\n",
      "\n",
      "The Rocket class so far only stores two pieces of information, but it can't do anything. The first behavior to define is a simple ability to show the rocket's position. Here is what that might look like in code:"
     ]
    },
    {
     "cell_type": "code",
     "collapsed": false,
     "input": [
      "###highlight=[10,11]\n",
      "class Rocket():\n",
      "    # Rocket is a class that simulates a rocket ship for a game,\n",
      "    #  or a physics simulation.\n",
      "    \n",
      "    def __init__(self):\n",
      "        self.x = 0\n",
      "        self.y = 0\n",
      "        \n",
      "    def show_position():\n",
      "        print(\"The rocket is at (%d, %d).\" % (self.x, self.y))"
     ],
     "language": "python",
     "metadata": {},
     "outputs": [],
     "prompt_number": 10
    },
    {
     "cell_type": "markdown",
     "metadata": {},
     "source": [
      "The Rocket class can now store some information, and it can do something. But this code has not actually created a rocket yet. Here is how you actually make a rocket:"
     ]
    },
    {
     "cell_type": "code",
     "collapsed": false,
     "input": [
      "###highlight=[13,14]\n",
      "class Rocket():\n",
      "    # Rocket is a class that simulates a rocket ship for a game,\n",
      "    #  or a physics simulation.\n",
      "    \n",
      "    def __init__(self):\n",
      "        self.x = 0\n",
      "        self.y = 0\n",
      "        \n",
      "    def show_position(self):\n",
      "        print(\"The rocket is at (%d, %d).\" % (self.x, self.y))\n",
      "        \n",
      "my_rocket = Rocket()\n",
      "my_rocket.show_position()"
     ],
     "language": "python",
     "metadata": {},
     "outputs": [
      {
       "output_type": "stream",
       "stream": "stdout",
       "text": [
        "The rocket is at (0, 0).\n"
       ]
      }
     ],
     "prompt_number": 12
    },
    {
     "cell_type": "markdown",
     "metadata": {},
     "source": [
      "To actually use a class, you create a variable such as *my\\_rocket*. For the value of the variable, you give the name of the class with an empty set of parentheses (for now). You can then use any method that has been defined for the class, such as *show\\_position()*, using dot notation.\n",
      "\n",
      "The class Rocket defines the information and behavior that a rocket needs. Now that you have a simple class defined, you can create as many rockets as you want:"
     ]
    },
    {
     "cell_type": "code",
     "collapsed": false,
     "input": [
      "###highlight=[14,15,16,17,18,19,20,21]\n",
      "class Rocket():\n",
      "    # Rocket is a class that simulates a rocket ship for a game,\n",
      "    #  or a physics simulation.\n",
      "    \n",
      "    def __init__(self):\n",
      "        self.x = 0\n",
      "        self.y = 0\n",
      "        \n",
      "    def show_position(self):\n",
      "        print(\"The rocket is at (%d, %d).\" % (self.x, self.y))\n",
      "        \n",
      "\n",
      "# Create 5 rockets, and store them in a list.\n",
      "rockets = []\n",
      "for x in range(0,5):\n",
      "    rockets.append(Rocket())\n",
      "\n",
      "# Show the position for each rocket\n",
      "for rocket in rockets:\n",
      "    rocket.show_position()"
     ],
     "language": "python",
     "metadata": {},
     "outputs": [
      {
       "output_type": "stream",
       "stream": "stdout",
       "text": [
        "The rocket is at (0, 0).\n",
        "The rocket is at (0, 0).\n",
        "The rocket is at (0, 0).\n",
        "The rocket is at (0, 0).\n",
        "The rocket is at (0, 0).\n"
       ]
      }
     ],
     "prompt_number": 14
    },
    {
     "cell_type": "markdown",
     "metadata": {},
     "source": [
      "You can do this even more concisely if you are comfortable with list comprehensions:"
     ]
    },
    {
     "cell_type": "code",
     "collapsed": false,
     "input": [
      "###highlight=[15]\n",
      "class Rocket():\n",
      "    # Rocket is a class that simulates a rocket ship for a game,\n",
      "    #  or a physics simulation.\n",
      "    \n",
      "    def __init__(self):\n",
      "        self.x = 0\n",
      "        self.y = 0\n",
      "        \n",
      "    def show_position(self):\n",
      "        print(\"The rocket is at (%d, %d).\" % (self.x, self.y))\n",
      "        \n",
      "\n",
      "# Create 5 rockets, and store them in a list.\n",
      "rockets = [Rocket() for x in range(0,5)]\n",
      "\n",
      "# Show the position for each rocket\n",
      "for rocket in rockets:\n",
      "    rocket.show_position()"
     ],
     "language": "python",
     "metadata": {},
     "outputs": [
      {
       "output_type": "stream",
       "stream": "stdout",
       "text": [
        "The rocket is at (0, 0).\n",
        "The rocket is at (0, 0).\n",
        "The rocket is at (0, 0).\n",
        "The rocket is at (0, 0).\n",
        "The rocket is at (0, 0).\n"
       ]
      }
     ],
     "prompt_number": 15
    },
    {
     "cell_type": "markdown",
     "metadata": {},
     "source": [
      "The syntax for classes is probably not very clear at this point, but consider how you might create a rocket without using classes. You might store the x and y values in a dictionary, but you would write a lot of ugly, hard to maintain code to manage a large set of rockets. As more features become incorporated into our Rocket class, you will see how much more efficiently you can model real-world objects with classes than you could with just lists and dictionaries."
     ]
    },
    {
     "cell_type": "markdown",
     "metadata": {},
     "source": [
      "[top](#)"
     ]
    },
    {
     "cell_type": "markdown",
     "metadata": {},
     "source": [
      "- - -\n",
      "[Previous: More Functions](http://nbviewer.ipython.org/urls/raw.github.com/ehmatthes/intro_programming/master/notebooks/more_functions.ipynb) | \n",
      "[Home](http://nbviewer.ipython.org/urls/raw.github.com/ehmatthes/intro_programming/master/notebooks/index.ipynb) |\n",
      "[Next: Exceptions](http://nbviewer.ipython.org/urls/raw.github.com/ehmatthes/intro_programming/master/notebooks/exceptions.ipynb)"
     ]
    }
   ],
   "metadata": {}
  }
 ]
}