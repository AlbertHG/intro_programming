{
 "metadata": {
  "name": "programming_environment_linux"
 },
 "nbformat": 3,
 "nbformat_minor": 0,
 "worksheets": [
  {
   "cells": [
    {
     "cell_type": "markdown",
     "metadata": {},
     "source": [
      "<a name='top'></a>Programming Environment: Linux\n",
      "===\n",
      "This section will show you how to run your first Python program on a Linux computer."
     ]
    },
    {
     "cell_type": "markdown",
     "metadata": {},
     "source": [
      "[Home](http://nbviewer.ipython.org/urls/raw.github.com/ehmatthes/intro_programming/master/notebooks/index.ipynb) | \n",
      "[Next: Hello World](http://nbviewer.ipython.org/urls/raw.github.com/ehmatthes/intro_programming/master/notebooks/hello_world.ipynb)"
     ]
    },
    {
     "cell_type": "markdown",
     "metadata": {},
     "source": [
      "Contents\n",
      "===\n",
      "- [Python on Linux](#python_on_linux)\n",
      "- [Installing Python](#installing_python)\n",
      "    - [Installing Python 3](#installing_python_3)\n",
      "- [Installing Geany](#installing_geany)\n",
      "- [Hello World](#hello_world)\n",
      "- [Troubleshooting](#troubleshooting)"
     ]
    },
    {
     "cell_type": "markdown",
     "metadata": {},
     "source": [
      "<a name='python_on_linux'></a>Python on Linux\n",
      "===\n",
      "Congratulations for being a Linux user, or for wanting to learn how to use Linux. Linux developers trust you to do powerful things with your computer, which means modifying your system to write the programs you care to write will be easier. In the Linux world, if something doesn't make sense, find a place to ask your questions. Someone has an answer, you just need to find the right people to answer your questions."
     ]
    },
    {
     "cell_type": "markdown",
     "metadata": {},
     "source": [
      "<a name='installing_python'></a>Installing Python\n",
      "===\n",
      "Python is probably already installed on your system. To find out if it is installed, open a terminal and type the word `python`. You will probably see output something like this:"
     ]
    },
    {
     "cell_type": "markdown",
     "metadata": {},
     "source": [
      "    $ python\n",
      "    Python 2.7.3 (default, Sep 26 2013, 20:03:06) \n",
      "    [GCC 4.6.3] on linux2\n",
      "    Type \"help\", \"copyright\", \"credits\" or \"license\" for more information.\n",
      "    >>> \n"
     ]
    },
    {
     "cell_type": "markdown",
     "metadata": {},
     "source": [
      "From this output, we can see that Python is installed, and the currently installed version is Python 2.7.3. You can start typing Python commands here, and you will see your output immediately:"
     ]
    },
    {
     "cell_type": "markdown",
     "metadata": {},
     "source": [
      "    >>> print(\"Hello Python world!\")\n",
      "    Hello Python world!\n",
      "    >>> "
     ]
    },
    {
     "cell_type": "markdown",
     "metadata": {},
     "source": [
      "<a name='installing_python_3'></a>Installing Python 3\n",
      "---"
     ]
    },
    {
     "cell_type": "markdown",
     "metadata": {},
     "source": [
      "[top](#top)"
     ]
    },
    {
     "cell_type": "markdown",
     "metadata": {},
     "source": [
      "[Home](http://nbviewer.ipython.org/urls/raw.github.com/ehmatthes/intro_programming/master/notebooks/index.ipynb) | \n",
      "[Next: Hello World](http://nbviewer.ipython.org/urls/raw.github.com/ehmatthes/intro_programming/master/notebooks/hello_world.ipynb)"
     ]
    }
   ],
   "metadata": {}
  }
 ]
}