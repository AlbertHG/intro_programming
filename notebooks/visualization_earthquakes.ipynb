{
 "metadata": {
  "name": "visualization_earthquakes"
 },
 "nbformat": 3,
 "nbformat_minor": 0,
 "worksheets": [
  {
   "cells": [
    {
     "cell_type": "markdown",
     "metadata": {},
     "source": [
      "Visualization: Mapping Global Earthquake Activity\n",
      "===\n",
      "This project introduces the Basemap library, which can be used to create maps and plot geographical datasets."
     ]
    },
    {
     "cell_type": "markdown",
     "metadata": {},
     "source": [
      "Contents\n",
      "---\n",
      "- [Introduction](#introduction)\n",
      "- [Installing matplotlib and Basemap](#installing_mpl_basemap)\n",
      "    - [Installing Basemap using Ubuntu\u2019s standard packages](#install_standard)\n",
      "    - [Installing from source](#install_source)"
     ]
    },
    {
     "cell_type": "markdown",
     "metadata": {},
     "source": [
      "<a name='introduction'></a>Introduction\n",
      "---\n",
      "The main goal of this project is to help you get comfortable making maps of geographical data.  If you follow along with the tutorial, you will end up making this map:"
     ]
    },
    {
     "cell_type": "markdown",
     "metadata": {},
     "source": [
      "![Earthquakes of magnitude 1.0 or greater, for the last 7 days](/files/images/earthquake_plot_titled.png)"
     ]
    },
    {
     "cell_type": "markdown",
     "metadata": {},
     "source": [
      "It takes fewer than 50 lines of code to generate this map from a raw dataset!  This project will conclude with a list of datasets to explore, to help you find a project of your own to try."
     ]
    },
    {
     "cell_type": "markdown",
     "metadata": {},
     "source": [
      "[top](#)"
     ]
    },
    {
     "cell_type": "markdown",
     "metadata": {},
     "source": [
      "<a name='installing_mpl_basemap'></a>Installing matplotlib and Basemap\n",
      "===\n",
      "These instructions are written for Ubuntu first, and instructions specific to other operating systems will be added shortly.\n",
      "\n",
      "Python\u2019s [matplotlib](http://matplotlib.org/) package is an amazing resource, and the [Basemap toolkit](http://matplotlib.org/basemap/) extends matplotlib\u2019s capabilities to mapping applications.  Installing these packages is straightforward using Ubuntu\u2019s package management system, but these packages may not work for all maps you want to produce.  In that case, it is good to know how to install each package from source."
     ]
    },
    {
     "cell_type": "markdown",
     "metadata": {},
     "source": [
      "<a name='install_standard'></a>Installing Basemap using Ubuntu\u2019s standard packages\n",
      "---\n",
      "If you are running a newer version of Ubuntu, you may be able to get away with simply installing matplotlib and basemap through the standard repositories.  This approach should work well enough to get you started, but if you notice some odd behavior with your maps you might need to go back and install both packages from source.\n",
      "\n",
      "    sudo apt-get install python-matplotlib\n",
      "    sudo apt-get install python-mpltoolkits.basemap\n",
      "\n",
      "If these ran successfully, you can move on to [Making a simple map](#simple_map).  If not, you might want to try installing matplotlib and basemap from source."
     ]
    },
    {
     "cell_type": "markdown",
     "metadata": {},
     "source": [
      "<a name='install_source'></a>Installing from source\n",
      "---"
     ]
    },
    {
     "cell_type": "code",
     "collapsed": false,
     "input": [
      "from mpl_toolkits.basemap import Basemap\n",
      "import matplotlib.pyplot as plt\n",
      "import numpy as np\n",
      " \n",
      "# make sure the value of resolution is a lowercase L,\n",
      "#  for 'low', not a numeral 1\n",
      "map = Basemap(projection='ortho', lat_0=50, lon_0=-100,\n",
      "              resolution='l', area_thresh=1000.0)\n",
      " \n",
      "map.drawcoastlines()\n",
      " \n",
      "plt.show()"
     ],
     "language": "python",
     "metadata": {},
     "outputs": [
      {
       "ename": "ImportError",
       "evalue": "No module named mpl_toolkits.basemap",
       "output_type": "pyerr",
       "traceback": [
        "\u001b[0;31m---------------------------------------------------------------------------\u001b[0m\n\u001b[0;31mImportError\u001b[0m                               Traceback (most recent call last)",
        "\u001b[0;32m<ipython-input-1-18ac23bef5a0>\u001b[0m in \u001b[0;36m<module>\u001b[0;34m()\u001b[0m\n\u001b[0;32m----> 1\u001b[0;31m \u001b[0;32mfrom\u001b[0m \u001b[0mmpl_toolkits\u001b[0m\u001b[0;34m.\u001b[0m\u001b[0mbasemap\u001b[0m \u001b[0;32mimport\u001b[0m \u001b[0mBasemap\u001b[0m\u001b[0;34m\u001b[0m\u001b[0m\n\u001b[0m\u001b[1;32m      2\u001b[0m \u001b[0;32mimport\u001b[0m \u001b[0mmatplotlib\u001b[0m\u001b[0;34m.\u001b[0m\u001b[0mpyplot\u001b[0m \u001b[0;32mas\u001b[0m \u001b[0mplt\u001b[0m\u001b[0;34m\u001b[0m\u001b[0m\n\u001b[1;32m      3\u001b[0m \u001b[0;32mimport\u001b[0m \u001b[0mnumpy\u001b[0m \u001b[0;32mas\u001b[0m \u001b[0mnp\u001b[0m\u001b[0;34m\u001b[0m\u001b[0m\n\u001b[1;32m      4\u001b[0m \u001b[0;34m\u001b[0m\u001b[0m\n\u001b[1;32m      5\u001b[0m \u001b[0;31m# make sure the value of resolution is a lowercase L,\u001b[0m\u001b[0;34m\u001b[0m\u001b[0;34m\u001b[0m\u001b[0m\n",
        "\u001b[0;31mImportError\u001b[0m: No module named mpl_toolkits.basemap"
       ]
      }
     ],
     "prompt_number": 1
    },
    {
     "cell_type": "markdown",
     "metadata": {},
     "source": [
      "[top](#)"
     ]
    }
   ],
   "metadata": {}
  }
 ]
}