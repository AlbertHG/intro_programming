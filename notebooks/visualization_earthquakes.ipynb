{
 "metadata": {
  "name": "visualization_earthquakes"
 },
 "nbformat": 3,
 "nbformat_minor": 0,
 "worksheets": [
  {
   "cells": [
    {
     "cell_type": "markdown",
     "metadata": {},
     "source": [
      "Visualization: Mapping Global Earthquake Activity\n",
      "===\n",
      "This project introduces the Basemap library, which can be used to create maps and plot geographical datasets."
     ]
    },
    {
     "cell_type": "markdown",
     "metadata": {},
     "source": [
      "Contents\n",
      "---\n",
      "- [Introduction](#introduction)\n",
      "- [Installing matplotlib and Basemap](#installing_mpl_basemap)\n",
      "    - [Installing Basemap using Ubuntu\u2019s standard packages](#install_standard)\n",
      "    - [Installing from source](#install_source)\n",
      "- [Making a simple map](#simple_map)"
     ]
    },
    {
     "cell_type": "markdown",
     "metadata": {},
     "source": [
      "<a name='introduction'></a>Introduction\n",
      "---\n",
      "The main goal of this project is to help you get comfortable making maps of geographical data.  If you follow along with the tutorial, you will end up making this map:"
     ]
    },
    {
     "cell_type": "markdown",
     "metadata": {},
     "source": [
      "![Earthquakes of magnitude 1.0 or greater, for the last 7 days](/files/images/earthquake_plot_titled.png)"
     ]
    },
    {
     "cell_type": "markdown",
     "metadata": {},
     "source": [
      "It takes fewer than 50 lines of code to generate this map from a raw dataset!  This project will conclude with a list of datasets to explore, to help you find a project of your own to try."
     ]
    },
    {
     "cell_type": "markdown",
     "metadata": {},
     "source": [
      "[top](#)"
     ]
    },
    {
     "cell_type": "markdown",
     "metadata": {},
     "source": [
      "<a name='installing_mpl_basemap'></a>Installing matplotlib and Basemap\n",
      "===\n",
      "These instructions are written for Ubuntu first, and instructions specific to other operating systems will be added shortly.\n",
      "\n",
      "Python\u2019s [matplotlib](http://matplotlib.org/) package is an amazing resource, and the [Basemap toolkit](http://matplotlib.org/basemap/) extends matplotlib\u2019s capabilities to mapping applications.  Installing these packages is straightforward using Ubuntu\u2019s package management system, but these packages may not work for all maps you want to produce.  In that case, it is good to know how to install each package from source."
     ]
    },
    {
     "cell_type": "markdown",
     "metadata": {},
     "source": [
      "<a name='install_standard'></a>Installing Basemap using Ubuntu\u2019s standard packages\n",
      "---\n",
      "If you are running a newer version of Ubuntu, you may be able to get away with simply installing matplotlib and basemap through the standard repositories.  This approach should work well enough to get you started, but if you notice some odd behavior with your maps you might need to go back and install both packages from source.\n",
      "\n",
      "    sudo apt-get install python-matplotlib\n",
      "    sudo apt-get install python-mpltoolkits.basemap\n",
      "\n",
      "If these ran successfully, you can move on to [Making a simple map](#simple_map).  If not, you might want to try installing matplotlib and basemap from source."
     ]
    },
    {
     "cell_type": "markdown",
     "metadata": {},
     "source": [
      "[top](#)"
     ]
    },
    {
     "cell_type": "markdown",
     "metadata": {},
     "source": [
      "<a name='install_source'></a>Installing from source\n",
      "---"
     ]
    },
    {
     "cell_type": "markdown",
     "metadata": {},
     "source": [
      "It is quite possible that the packages for your system are out of date, and you will need to install both matplot lib and Basemap from source."
     ]
    },
    {
     "cell_type": "markdown",
     "metadata": {},
     "source": [
      "[top](#)"
     ]
    },
    {
     "cell_type": "markdown",
     "metadata": {},
     "source": [
      "<a name='simple_map'></a>Making a simple map\n",
      "---\n",
      "Let's start out by trying to make a simple map of the world:"
     ]
    },
    {
     "cell_type": "code",
     "collapsed": false,
     "input": [
      "from mpl_toolkits.basemap import Basemap\n",
      "import matplotlib.pyplot as plt\n",
      "import numpy as np\n",
      " \n",
      "# make sure the value of resolution is a lowercase L,\n",
      "#  for 'low', not a numeral 1\n",
      "map = Basemap(projection='ortho', lat_0=50, lon_0=-100,\n",
      "              resolution='l', area_thresh=1000.0)\n",
      " \n",
      "map.drawcoastlines()\n",
      " \n",
      "plt.show()"
     ],
     "language": "python",
     "metadata": {},
     "outputs": []
    },
    {
     "cell_type": "markdown",
     "metadata": {},
     "source": [
      "You should get a nice map of the globe, with good clean coastlines:\n",
      "\n",
      "If you get a map that looks incomplete, such as the one below, you may want to try installing matplotlib and Basemap from source.\n",
      "\n",
      "![Map drawn from outdated matplotlib Basemap](/files/images/globe_poor.png)"
     ]
    },
    {
     "cell_type": "markdown",
     "metadata": {},
     "source": [
      "[top](#)"
     ]
    }
   ],
   "metadata": {}
  }
 ]
}