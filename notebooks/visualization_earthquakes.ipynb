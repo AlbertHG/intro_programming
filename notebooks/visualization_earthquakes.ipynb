{
 "metadata": {
  "name": "visualization_earthquakes"
 },
 "nbformat": 3,
 "nbformat_minor": 0,
 "worksheets": [
  {
   "cells": [
    {
     "cell_type": "markdown",
     "metadata": {},
     "source": [
      "Visualization: Mapping Global Earthquake Activity\n",
      "===\n",
      "This project shows you how to make maps using the matplotlib Basemap library. "
     ]
    },
    {
     "cell_type": "markdown",
     "metadata": {},
     "source": [
      "Contents\n",
      "---\n",
      "- [Introduction](#introduction)"
     ]
    },
    {
     "cell_type": "markdown",
     "metadata": {},
     "source": [
      "<a name='introduction'></a>Introduction\n",
      "---\n",
      "The goal of this section is to teach you how to plot global datasets using the matplotlib Basemap library. If you work through this section, you should be able to take any dataset that involves latitude and longitude coordinates, and turn it into a map. You will also learn a number of things about making visualizations in general.\n",
      "\n",
      "In this project, we are aiming to make a map of global earthquake activity in the last seven days:"
     ]
    },
    {
     "cell_type": "markdown",
     "metadata": {},
     "source": [
      "![Earthquakes of magnitude 1.0 or greater, for the last 7 days](/files/images/earthquake_plot_titled.png)"
     ]
    },
    {
     "cell_type": "markdown",
     "metadata": {},
     "source": [
      "[top](#)"
     ]
    }
   ],
   "metadata": {}
  }
 ]
}