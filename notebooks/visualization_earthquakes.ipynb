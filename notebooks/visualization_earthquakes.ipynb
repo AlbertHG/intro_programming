{
 "metadata": {
  "name": "visualization_earthquakes"
 },
 "nbformat": 3,
 "nbformat_minor": 0,
 "worksheets": [
  {
   "cells": [
    {
     "cell_type": "markdown",
     "metadata": {},
     "source": [
      "Visualization: Mapping Global Earthquake Activity\n",
      "===\n",
      "This project introduces the Basemap library, which can be used to create maps and plot geographical datasets."
     ]
    },
    {
     "cell_type": "markdown",
     "metadata": {},
     "source": [
      "Contents\n",
      "---\n",
      "- [Introduction](#introduction)"
     ]
    },
    {
     "cell_type": "markdown",
     "metadata": {},
     "source": [
      "<a name='introduction'></a>Introduction\n",
      "---\n",
      "The main goal of this project is to help you get comfortable making maps of geographical data.  If you follow along with the tutorial, you will end up making this map:"
     ]
    },
    {
     "cell_type": "markdown",
     "metadata": {},
     "source": [
      "![Earthquakes of magnitude 1.0 or greater, for the last 7 days](/files/images/earthquake_plot_titled.png)"
     ]
    },
    {
     "cell_type": "markdown",
     "metadata": {},
     "source": [
      "It takes fewer than 50 lines of code to generate this map from a raw dataset!  This project will conclude with a list of datasets to explore, to help you find a project of your own to try."
     ]
    },
    {
     "cell_type": "markdown",
     "metadata": {},
     "source": [
      "[top](#)"
     ]
    }
   ],
   "metadata": {}
  }
 ]
}