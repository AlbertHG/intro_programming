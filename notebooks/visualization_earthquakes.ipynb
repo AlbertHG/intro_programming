{
 "metadata": {
  "name": "visualization_earthquakes"
 },
 "nbformat": 3,
 "nbformat_minor": 0,
 "worksheets": [
  {
   "cells": [
    {
     "cell_type": "markdown",
     "metadata": {},
     "source": [
      "Visualization: Mapping Global Earthquake Activity\n",
      "===\n",
      "This project introduces the Basemap library, which can be used to create maps and plot geographical datasets."
     ]
    },
    {
     "cell_type": "markdown",
     "metadata": {},
     "source": [
      "[Home](http://nbviewer.ipython.org/urls/raw.github.com/ehmatthes/intro_programming/master/notebooks/index.ipynb)"
     ]
    },
    {
     "cell_type": "markdown",
     "metadata": {},
     "source": [
      "Contents\n",
      "---\n",
      "- [Introduction](#introduction)\n",
      "- [Installing matplotlib and Basemap](#installing_mpl_basemap)\n",
      "    - [Installing Basemap using Ubuntu\u2019s standard packages](#install_standard)\n",
      "    - [Installing from source](#install_source)\n",
      "- [Making a simple map](#simple_map)"
     ]
    },
    {
     "cell_type": "markdown",
     "metadata": {},
     "source": [
      "<a name='introduction'></a>Introduction\n",
      "---\n",
      "The main goal of this project is to help you get comfortable making maps of geographical data.  If you follow along with the tutorial, you will end up making this map:"
     ]
    },
    {
     "cell_type": "markdown",
     "metadata": {},
     "source": [
      "![Earthquakes of magnitude 1.0 or greater, for the last 7 days](/files/images/earthquake_plot_titled.png)"
     ]
    },
    {
     "cell_type": "markdown",
     "metadata": {},
     "source": [
      "It takes fewer than 50 lines of code to generate this map from a raw dataset!  This project will conclude with a list of datasets to explore, to help you find a project of your own to try."
     ]
    },
    {
     "cell_type": "markdown",
     "metadata": {},
     "source": [
      "[top](#)"
     ]
    },
    {
     "cell_type": "markdown",
     "metadata": {},
     "source": [
      "### Inline output\n",
      "\n",
      "The following code helps make all of the code samples in this notebook work. If you are not using IPython notebook, you can disregard this code."
     ]
    },
    {
     "cell_type": "code",
     "collapsed": false,
     "input": [
      "%pylab inline\n",
      "from pylab import *"
     ],
     "language": "python",
     "metadata": {},
     "outputs": [
      {
       "output_type": "stream",
       "stream": "stdout",
       "text": [
        "\n",
        "Welcome to pylab, a matplotlib-based Python environment [backend: module://IPython.zmq.pylab.backend_inline].\n",
        "For more information, type 'help(pylab)'.\n"
       ]
      }
     ],
     "prompt_number": 2
    },
    {
     "cell_type": "markdown",
     "metadata": {},
     "source": [
      "<a name='installing_mpl_basemap'></a>Installing matplotlib and Basemap\n",
      "===\n",
      "These instructions are written for Ubuntu first, and instructions specific to other operating systems will be added shortly.\n",
      "\n",
      "Python\u2019s [matplotlib](http://matplotlib.org/) package is an amazing resource, and the [Basemap toolkit](http://matplotlib.org/basemap/) extends matplotlib\u2019s capabilities to mapping applications.  Installing these packages is straightforward using Ubuntu\u2019s package management system, but these packages may not work for all maps you want to produce.  In that case, it is good to know how to install each package from source."
     ]
    },
    {
     "cell_type": "markdown",
     "metadata": {},
     "source": [
      "<a name='install_standard'></a>Installing Basemap using Ubuntu\u2019s standard packages\n",
      "---\n",
      "If you are running a newer version of Ubuntu, you may be able to get away with simply installing matplotlib and basemap through the standard repositories.  This approach should work well enough to get you started, but if you notice some odd behavior with your maps you might need to go back and install both packages from source.\n",
      "\n",
      "    sudo apt-get install python-matplotlib\n",
      "    sudo apt-get install python-mpltoolkits.basemap\n",
      "\n",
      "If these ran successfully, you can move on to [Making a simple map](#simple_map).  If not, you might want to try installing matplotlib and basemap from source."
     ]
    },
    {
     "cell_type": "markdown",
     "metadata": {},
     "source": [
      "[top](#)"
     ]
    },
    {
     "cell_type": "markdown",
     "metadata": {},
     "source": [
      "<a name='install_source'></a>Installing from source\n",
      "---"
     ]
    },
    {
     "cell_type": "markdown",
     "metadata": {},
     "source": [
      "It is quite possible that the packages for your system are out of date, and you will need to install both matplot lib and Basemap from source. These are fairly large packages to download and install, so do this when you have a little time on your hands.\n",
      "\n",
      "These instructions are adapted from the [matplotlib documentation](http://matplotlib.org/faq/installing_faq.html#how-to-install).\n",
      "\n",
      "### Install matplotlib dependencies\n",
      "\n",
      "We start by installing dependencies.  This is a 200-500MB download, depending on what you already have installed. When I did this most recently, it was a 220MB download, and it used 661MB of disk space after installation:\n",
      "\n",
      "    sudo apt-get build-dep python-matplotlib\n",
      "\n",
      "Matplotlib also depends on pyparsing. I install most of these non-system packages to my home directory, but you can also use a location such as `/usr/local`. I have read not to use `sudo` with `easy_install`, but I will admit having taken the easy way for some of these steps.\n",
      "\n",
      "I test installation instructions for projects like this on a fresh version of Ubuntu in Virtualbox. The next time I try the whole process, I'm going to try using the `--install-dir` flag for `easy_install`: `easy_install --install-dir pyparsing`. If you are feeling adventurous, or if you understand these kinds of installations better than I do, feel free to install these packages where you wish. (If you know how to improve these instructions, please consider [contributing to the project](https://github.com/ehmatthes/intro_programming).)\n",
      "\n",
      "    sudo easy_install pyparsing\n",
      "\n",
      "### Install git\n",
      "\n",
      "Now install git, if you have not done so already:\n",
      "\n",
      "    sudo apt-get install git\n",
      "\n",
      "### Download and install matplotlib\n",
      "\n",
      "Now we need to clone the git repository for matplotlib.  You can do this in your home folder, or somewhere like /usr/local/ if that is where you normally install packages from source.  Once we have a local matplotlib repository, we need to run the install script:\n",
      "\n",
      "    ~$ git clone git://github.com/matplotlib/matplotlib.git\n",
      "    ~$ cd matplotlib\n",
      "    ~$ sudo python setup.py install\n",
      "\n",
      "If you want, you can test your installation of matplotlib. Open a text editor, and save the following file as simple_plot.py. Run the file using the command `python simple_plot.py --verbose-helpful`. You should see a simple linear plot. If you don't, the flag `--verbose-helpful` may give you some output that helps troubleshoot our installation process."
     ]
    },
    {
     "cell_type": "code",
     "collapsed": false,
     "input": [
      "from pylab import *\n",
      "plot([1,2,3])\n",
      "show()"
     ],
     "language": "python",
     "metadata": {},
     "outputs": [],
     "prompt_number": 3
    },
    {
     "cell_type": "markdown",
     "metadata": {},
     "source": [
      "[top](#)"
     ]
    },
    {
     "cell_type": "markdown",
     "metadata": {},
     "source": [
      "<a name='simple_map'></a>Making a simple map\n",
      "---\n",
      "Let's start out by trying to make a simple map of the world."
     ]
    },
    {
     "cell_type": "code",
     "collapsed": false,
     "input": [
      "%pylab inline\n",
      "from pylab import *"
     ],
     "language": "python",
     "metadata": {},
     "outputs": [
      {
       "output_type": "stream",
       "stream": "stdout",
       "text": [
        "\n",
        "Welcome to pylab, a matplotlib-based Python environment [backend: module://IPython.zmq.pylab.backend_inline].\n",
        "For more information, type 'help(pylab)'.\n"
       ]
      }
     ],
     "prompt_number": 4
    },
    {
     "cell_type": "code",
     "collapsed": true,
     "input": [
      "from mpl_toolkits.basemap import Basemap\n",
      "import matplotlib.pyplot as plt\n",
      "import numpy as np\n",
      " \n",
      "# make sure the value of resolution is a lowercase L,\n",
      "#  for 'low', not a numeral 1\n",
      "map = Basemap(projection='ortho', lat_0=50, lon_0=-100,\n",
      "              resolution='l', area_thresh=1000.0)\n",
      " \n",
      "map.drawcoastlines()\n",
      " \n",
      "plt.show()"
     ],
     "language": "python",
     "metadata": {},
     "outputs": [],
     "prompt_number": 5
    },
    {
     "cell_type": "markdown",
     "metadata": {},
     "source": [
      "You should get a nice map of the globe, with good clean coastlines:\n",
      "\n",
      "If you get a map that looks incomplete, such as the one below, you may want to try installing matplotlib and Basemap from source.\n",
      "\n",
      "![Map drawn from outdated matplotlib Basemap](/files/images/globe_poor.png)"
     ]
    },
    {
     "cell_type": "code",
     "collapsed": false,
     "input": [
      "import six\n",
      "print(six)"
     ],
     "language": "python",
     "metadata": {},
     "outputs": []
    },
    {
     "cell_type": "code",
     "collapsed": false,
     "input": [
      "from mpl_toolkits.basemap import Basemap\n",
      "import matplotlib.pyplot as plt\n",
      "import numpy as np\n",
      " \n",
      "# make sure the value of resolution is a lowercase L,\n",
      "#  for 'low', not a numeral 1\n",
      "map = Basemap(projection='ortho', lat_0=50, lon_0=-100,\n",
      "              resolution='l', area_thresh=1000.0)\n",
      " \n",
      "map.drawcoastlines()\n",
      " \n",
      "plt.show()"
     ],
     "language": "python",
     "metadata": {},
     "outputs": [
      {
       "metadata": {},
       "output_type": "display_data",
       "png": "[encoded data removed]",
       "text": [
        "<matplotlib.figure.Figure at 0x513a250>"
       ]
      }
     ],
     "prompt_number": 4
    },
    {
     "cell_type": "markdown",
     "metadata": {},
     "source": [
      "[top](#)"
     ]
    },
    {
     "cell_type": "markdown",
     "metadata": {},
     "source": [
      "- - -\n",
      "[Home](http://nbviewer.ipython.org/urls/raw.github.com/ehmatthes/intro_programming/master/notebooks/index.ipynb)"
     ]
    }
   ],
   "metadata": {}
  }
 ]
}