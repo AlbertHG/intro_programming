{
 "metadata": {
  "name": ""
 },
 "nbformat": 3,
 "nbformat_minor": 0,
 "worksheets": [
  {
   "cells": [
    {
     "cell_type": "markdown",
     "metadata": {},
     "source": [
      "<a name='top'></a>If Statements\n",
      "===\n",
      "By allowing you to respond selectively to different situations and conditions, if statements open up whole new possibilities for your programs. In this section, you will learn how to test for certain conditions, and then respond in appropriate ways to those conditions."
     ]
    },
    {
     "cell_type": "markdown",
     "metadata": {},
     "source": [
      "[Previous: Introducing Functions](http://nbviewer.ipython.org/urls/raw.github.com/ehmatthes/intro_programming/master/notebooks/introducing_functions.ipynb) | \n",
      "[Introduction to Programming home page](http://nbviewer.ipython.org/urls/raw.github.com/ehmatthes/intro_programming/master/notebooks/index.ipynb) |\n",
      "[Next: Dictionaries](http://nbviewer.ipython.org/urls/raw.github.com/ehmatthes/intro_programming/master/notebooks/dictionaries.ipynb) | "
     ]
    },
    {
     "cell_type": "markdown",
     "metadata": {},
     "source": [
      "Contents\n",
      "===\n",
      "- [What is an *if* statement?](#what)\n",
      "    - [Example](#example)"
     ]
    },
    {
     "cell_type": "markdown",
     "metadata": {},
     "source": [
      "<a name='what'></a>What is an *if* statement?\n",
      "===\n",
      "An *if* statement tests for a condition, and then responds to that condition. If the condition is true, then whatever action is listed next gets carried out. You can test for multiple conditions at the same time, and respond appropriately to each condition.\n",
      "\n",
      "<a name='example'></a>Example\n",
      "---\n",
      "Here is an example that shows a number of the desserts I like. It lists those desserts, but lets you know which one is my favorite."
     ]
    },
    {
     "cell_type": "code",
     "collapsed": false,
     "input": [
      "# A list of desserts I like.\n",
      "desserts = ['ice cream', 'chocolate', 'apple crisp', 'cookies']\n",
      "favorite_dessert = 'apple crisp'\n",
      "\n",
      "# Print the desserts out, but let everyone know my favorite dessert.\n",
      "for dessert in desserts:\n",
      "    if dessert == favorite_dessert:\n",
      "        # This dessert is my favorite, let's let everyone know!\n",
      "        print(\"%s is my favorite dessert!\" % dessert.title())\n",
      "    else:\n",
      "        # I like these desserts, but they are not my favorite.\n",
      "        print(\"I like %s.\" % dessert)"
     ],
     "language": "python",
     "metadata": {},
     "outputs": [
      {
       "output_type": "stream",
       "stream": "stdout",
       "text": [
        "I like ice cream.\n",
        "I like chocolate.\n",
        "Apple Crisp is my favorite dessert!\n",
        "I like cookies.\n"
       ]
      }
     ],
     "prompt_number": 2
    },
    {
     "cell_type": "markdown",
     "metadata": {},
     "source": [
      "#### What happens in this program?\n",
      "\n",
      "- The program starts out with a list of desserts, and one dessert is identified as a favorite.\n",
      "- The for loop runs through all the desserts.\n",
      "- Inside the for loop, each item in the list is tested.\n",
      "    - If the current value of *dessert* is equal to the value of *favorite_dessert*, a message is printed that this is my favorite.\n",
      "    - If the current value of *dessert* is not equal to the value of *favorite_dessert*, a message is printed that I just like the dessert.\n",
      "    \n",
      "You can test as many conditions as you want in an if statement, as you will see in a little bit."
     ]
    },
    {
     "cell_type": "markdown",
     "metadata": {},
     "source": [
      "[top](top)"
     ]
    },
    {
     "cell_type": "markdown",
     "metadata": {},
     "source": [
      "[Previous: Introducing Functions](http://nbviewer.ipython.org/urls/raw.github.com/ehmatthes/intro_programming/master/notebooks/introducing_functions.ipynb) | \n",
      "[Introduction to Programming home page](http://nbviewer.ipython.org/urls/raw.github.com/ehmatthes/intro_programming/master/notebooks/index.ipynb) |\n",
      "[Next: Dictionaries](http://nbviewer.ipython.org/urls/raw.github.com/ehmatthes/intro_programming/master/notebooks/dictionaries.ipynb) | "
     ]
    }
   ],
   "metadata": {}
  }
 ]
}