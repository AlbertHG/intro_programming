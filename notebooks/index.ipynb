{
 "metadata": {
  "name": "index"
 },
 "nbformat": 3,
 "nbformat_minor": 0,
 "worksheets": [
  {
   "cells": [
    {
     "cell_type": "markdown",
     "metadata": {},
     "source": [
      "<a name='top'></a>Introduction to Python\n",
      "===\n",
      "Introduction to Python is a resource for students who want to learn Python as their first language, and for teachers who want a free and open curriculum to use with their students."
     ]
    },
    {
     "cell_type": "markdown",
     "metadata": {},
     "source": [
      "Quick Start\n",
      "---\n",
      "If your computer is already set up to run Python programs, you can get started with [Hello World](http://nbviewer.ipython.org/urls/raw.github.com/ehmatthes/intro_programming/master/notebooks/hello_world.ipynb), your very first Python program."
     ]
    },
    {
     "cell_type": "markdown",
     "metadata": {},
     "source": [
      "Contents\n",
      "---\n",
      "You can also see the [Contents](http://nbviewer.ipython.org/urls/raw.github.com/ehmatthes/intro_programming/master/notebooks/contents.ipynb) to see what Introduction to Python covers."
     ]
    },
    {
     "cell_type": "code",
     "collapsed": false,
     "input": [],
     "language": "python",
     "metadata": {},
     "outputs": []
    }
   ],
   "metadata": {}
  }
 ]
}