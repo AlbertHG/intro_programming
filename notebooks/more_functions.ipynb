{
 "metadata": {
  "name": "more_functions"
 },
 "nbformat": 3,
 "nbformat_minor": 0,
 "worksheets": [
  {
   "cells": [
    {
     "cell_type": "markdown",
     "metadata": {},
     "source": [
      "<a name='top'></a>More Functions\n",
      "===\n",
      "Earlier we learned the most bare-boned versions of functions. In this section we will learn more general concepts about functions, such as how to use functions to return values, and how to pass different kinds of data structures between functions."
     ]
    },
    {
     "cell_type": "markdown",
     "metadata": {},
     "source": [
      "[Previous: Dictionaries](http://nbviewer.ipython.org/urls/raw.github.com/ehmatthes/intro_programming/master/notebooks/dictionaries.ipynb) | \n",
      "[Home](http://nbviewer.ipython.org/urls/raw.github.com/ehmatthes/intro_programming/master/notebooks/index.ipynb) |\n",
      "[Next: Classes](http://nbviewer.ipython.org/urls/raw.github.com/ehmatthes/intro_programming/master/notebooks/classes.ipynb) | "
     ]
    },
    {
     "cell_type": "markdown",
     "metadata": {},
     "source": [
      "Contents\n",
      "===\n",
      "- [Default argument values](#default_values)"
     ]
    },
    {
     "cell_type": "markdown",
     "metadata": {},
     "source": [
      "<a name='default_values'></a>Default argument values\n",
      "===\n",
      "When we first introduced functions, we started with this example:"
     ]
    },
    {
     "cell_type": "code",
     "collapsed": false,
     "input": [
      "def thank_you(name):\n",
      "    # This function prints a two-line personalized thank you message.\n",
      "    print(\"\\nYou are doing good work, %s!\" % name)\n",
      "    print(\"Thank you very much for your efforts on this project.\")\n",
      "    \n",
      "thank_you('Adriana')\n",
      "thank_you('Billy')\n",
      "thank_you('Caroline')"
     ],
     "language": "python",
     "metadata": {},
     "outputs": [
      {
       "output_type": "stream",
       "stream": "stdout",
       "text": [
        "\n",
        "You are doing good work, Adriana!\n",
        "Thank you very much for your efforts on this project.\n",
        "\n",
        "You are doing good work, Billy!\n",
        "Thank you very much for your efforts on this project.\n",
        "\n",
        "You are doing good work, Caroline!\n",
        "Thank you very much for your efforts on this project.\n"
       ]
      }
     ],
     "prompt_number": 1
    },
    {
     "cell_type": "markdown",
     "metadata": {},
     "source": [
      "This function works fine, but it fails if you don't pass in a value:"
     ]
    },
    {
     "cell_type": "code",
     "collapsed": false,
     "input": [
      "def thank_you(name):\n",
      "    # This function prints a two-line personalized thank you message.\n",
      "    print(\"\\nYou are doing good work, %s!\" % name)\n",
      "    print(\"Thank you very much for your efforts on this project.\")\n",
      "    \n",
      "thank_you('Adriana')\n",
      "thank_you('Billy')\n",
      "thank_you('Caroline')\n",
      "thank_you()"
     ],
     "language": "python",
     "metadata": {},
     "outputs": [
      {
       "ename": "TypeError",
       "evalue": "thank_you() takes exactly 1 argument (0 given)",
       "output_type": "pyerr",
       "traceback": [
        "\u001b[0;31m---------------------------------------------------------------------------\u001b[0m\n\u001b[0;31mTypeError\u001b[0m                                 Traceback (most recent call last)",
        "\u001b[0;32m<ipython-input-2-a964f1e96d9b>\u001b[0m in \u001b[0;36m<module>\u001b[0;34m()\u001b[0m\n\u001b[1;32m      7\u001b[0m \u001b[0mthank_you\u001b[0m\u001b[0;34m(\u001b[0m\u001b[0;34m'Billy'\u001b[0m\u001b[0;34m)\u001b[0m\u001b[0;34m\u001b[0m\u001b[0m\n\u001b[1;32m      8\u001b[0m \u001b[0mthank_you\u001b[0m\u001b[0;34m(\u001b[0m\u001b[0;34m'Caroline'\u001b[0m\u001b[0;34m)\u001b[0m\u001b[0;34m\u001b[0m\u001b[0m\n\u001b[0;32m----> 9\u001b[0;31m \u001b[0mthank_you\u001b[0m\u001b[0;34m(\u001b[0m\u001b[0;34m)\u001b[0m\u001b[0;34m\u001b[0m\u001b[0m\n\u001b[0m",
        "\u001b[0;31mTypeError\u001b[0m: thank_you() takes exactly 1 argument (0 given)"
       ]
      },
      {
       "output_type": "stream",
       "stream": "stdout",
       "text": [
        "\n",
        "You are doing good work, Adriana!\n",
        "Thank you very much for your efforts on this project.\n",
        "\n",
        "You are doing good work, Billy!\n",
        "Thank you very much for your efforts on this project.\n",
        "\n",
        "You are doing good work, Caroline!\n",
        "Thank you very much for your efforts on this project.\n"
       ]
      }
     ],
     "prompt_number": 2
    },
    {
     "cell_type": "markdown",
     "metadata": {},
     "source": [
      "That makes sense; the function needs to have a name in order to do its work, so without a name it is stuck.\n",
      "\n",
      "If you want your function to do something by default, even if no information is passed to it, you can do so by giving your arguments default values. You do this by specifying the default values when you define the function:"
     ]
    },
    {
     "cell_type": "code",
     "collapsed": false,
     "input": [
      "def thank_you(name='everyone'):\n",
      "    # This function prints a two-line personalized thank you message.\n",
      "    #  If no name is passed in, it prints a general thank you message\n",
      "    #  to everyone.\n",
      "    print(\"\\nYou are doing good work, %s!\" % name)\n",
      "    print(\"Thank you very much for your efforts on this project.\")\n",
      "    \n",
      "thank_you('Adriana')\n",
      "thank_you('Billy')\n",
      "thank_you('Caroline')\n",
      "thank_you()"
     ],
     "language": "python",
     "metadata": {},
     "outputs": [
      {
       "output_type": "stream",
       "stream": "stdout",
       "text": [
        "\n",
        "You are doing good work, Adriana!\n",
        "Thank you very much for your efforts on this project.\n",
        "\n",
        "You are doing good work, Billy!\n",
        "Thank you very much for your efforts on this project.\n",
        "\n",
        "You are doing good work, Caroline!\n",
        "Thank you very much for your efforts on this project.\n",
        "\n",
        "You are doing good work, everyone!\n",
        "Thank you very much for your efforts on this project.\n"
       ]
      }
     ],
     "prompt_number": 5
    },
    {
     "cell_type": "markdown",
     "metadata": {},
     "source": [
      "This is particularly useful when you have a number of arguments in your function, and some of those arguments almost always have the same value. This allows people who use the function to only specify the values that are unique to their use of the function."
     ]
    },
    {
     "cell_type": "markdown",
     "metadata": {},
     "source": [
      "[top](#top)"
     ]
    },
    {
     "cell_type": "markdown",
     "metadata": {},
     "source": [
      "- - -\n",
      "[Previous: Dictionaries](http://nbviewer.ipython.org/urls/raw.github.com/ehmatthes/intro_programming/master/notebooks/dictionaries.ipynb) | \n",
      "[Home](http://nbviewer.ipython.org/urls/raw.github.com/ehmatthes/intro_programming/master/notebooks/index.ipynb) |\n",
      "[Next: Classes](http://nbviewer.ipython.org/urls/raw.github.com/ehmatthes/intro_programming/master/notebooks/classes.ipynb) | "
     ]
    }
   ],
   "metadata": {}
  }
 ]
}