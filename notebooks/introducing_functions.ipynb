{
 "metadata": {
  "name": "introducing_functions"
 },
 "nbformat": 3,
 "nbformat_minor": 0,
 "worksheets": [
  {
   "cells": [
    {
     "cell_type": "markdown",
     "metadata": {},
     "source": [
      "Introducing Functions\n",
      "===\n",
      "One of the core principles of any programming language is, \"Don't Repeat Yourself\". If you have an action that should occur many times, you can define that action once and then call that code whenever you need to carry out that action.\n",
      "\n",
      "We are already repeating ourselves in our code, so this is a good time to introduce simple functions. Functions mean less work for us as programmers, and effective use of functions results in code that is less error-prone."
     ]
    },
    {
     "cell_type": "markdown",
     "metadata": {},
     "source": [
      "[Previous: Lists and Tuples](http://nbviewer.ipython.org/urls/raw.github.com/ehmatthes/intro_programming/master/notebooks/lists_tuples.ipynb) | \n",
      "[Introduction to Programming home page](http://nbviewer.ipython.org/urls/raw.github.com/ehmatthes/intro_programming/master/notebooks/intro_programming_index.ipynb)"
     ]
    },
    {
     "cell_type": "markdown",
     "metadata": {},
     "source": [
      "Contents\n",
      "===\n",
      "- [Example](#example)"
     ]
    },
    {
     "cell_type": "markdown",
     "metadata": {},
     "source": [
      "Example\n",
      "---\n",
      "For a simple first example, we will look at the situation of setting a message and then printing the message. We won't really save ourselves any work in this example, but we will see how functions work.\n",
      "\n",
      "Let's look at the example, and then try to understand the code. First we will look at a sample program with no functions."
     ]
    },
    {
     "cell_type": "code",
     "collapsed": false,
     "input": [
      "message = \"Hello non-function world.\"\n",
      "print(message)\n",
      "\n",
      "message = \"This is going to get repetitive.\"\n",
      "print(message)\n",
      "\n",
      "message = \"Gee, I wish I knew how to use functions.\"\n",
      "print(message)"
     ],
     "language": "python",
     "metadata": {},
     "outputs": [
      {
       "output_type": "stream",
       "stream": "stdout",
       "text": [
        "Hello non-function world.\n",
        "This is going to get repetitive.\n",
        "Gee, I wish I knew how to use functions.\n"
       ]
      }
     ],
     "prompt_number": 1
    },
    {
     "cell_type": "markdown",
     "metadata": {},
     "source": [
      "Functions take repeated code, put it in one place, and then you call that code when you want to use it. Here's what the same program looks like with a function."
     ]
    },
    {
     "cell_type": "code",
     "collapsed": false,
     "input": [
      "def show_message(message_in):\n",
      "    # This function takes in a message, and prints that message to the screen.\n",
      "    print(message_in)\n",
      "\n",
      "message = \"Hello non-function world.\"\n",
      "show_message(message)\n",
      "\n",
      "message = \"This is going to get repetitive.\"\n",
      "show_message(message)\n",
      "\n",
      "message = \"Gee, I wish I knew how to use functions.\"\n",
      "show_message(message)"
     ],
     "language": "python",
     "metadata": {},
     "outputs": [
      {
       "output_type": "stream",
       "stream": "stdout",
       "text": [
        "Hello non-function world.\n",
        "This is going to get repetitive.\n",
        "Gee, I wish I knew how to use functions.\n"
       ]
      }
     ],
     "prompt_number": 3
    },
    {
     "cell_type": "markdown",
     "metadata": {},
     "source": [
      "In our original code, the line \"print(message)\" was used three times, so that is what we want to put into a function.\n",
      "\n",
      "The keyword *def* tells Python that we are about to define a function. We give our function a name, *show_message* in this case. We then put parentheses.\n",
      "\n",
      "Inside these parenthese we create variable names for any variable the function will need to be given in order to do its job. In this case the function will need a message to show, so we call this 'message_in' to distinguish it from the 'message' variable we will use later. 'message_in' will hold the value that is passed into the function *show_message()*.\n",
      "\n",
      "For the rest of the program, we define a message and then send that message to our function. To use a function, we give the function's name, and then put any values the function needs in order to do its work. In this case, we give the function the message that we want to show."
     ]
    },
    {
     "cell_type": "markdown",
     "metadata": {},
     "source": [
      "### A common error\n",
      "A function must be defined before you use it in your program. For example, putting the function at the end of the program would not work."
     ]
    },
    {
     "cell_type": "code",
     "collapsed": false,
     "input": [
      "message = \"Hello non-function world.\"\n",
      "show_message(message)\n",
      "\n",
      "message = \"This is going to get repetitive.\"\n",
      "show_message(message)\n",
      "\n",
      "message = \"Gee, I wish I knew how to use functions.\"\n",
      "show_message(message)\n",
      "\n",
      "def show_message(message_in):\n",
      "    # This function takes in a message, and prints that message to the screen.\n",
      "    print(message_in)"
     ],
     "language": "python",
     "metadata": {},
     "outputs": [
      {
       "ename": "NameError",
       "evalue": "name 'show_message' is not defined",
       "output_type": "pyerr",
       "traceback": [
        "\u001b[0;31m---------------------------------------------------------------------------\u001b[0m\n\u001b[0;31mNameError\u001b[0m                                 Traceback (most recent call last)",
        "\u001b[0;32m<ipython-input-1-ede87273ac41>\u001b[0m in \u001b[0;36m<module>\u001b[0;34m()\u001b[0m\n\u001b[1;32m      1\u001b[0m \u001b[0mmessage\u001b[0m \u001b[0;34m=\u001b[0m \u001b[0;34m\"Hello non-function world.\"\u001b[0m\u001b[0;34m\u001b[0m\u001b[0m\n\u001b[0;32m----> 2\u001b[0;31m \u001b[0mshow_message\u001b[0m\u001b[0;34m(\u001b[0m\u001b[0mmessage\u001b[0m\u001b[0;34m)\u001b[0m\u001b[0;34m\u001b[0m\u001b[0m\n\u001b[0m\u001b[1;32m      3\u001b[0m \u001b[0;34m\u001b[0m\u001b[0m\n\u001b[1;32m      4\u001b[0m \u001b[0mmessage\u001b[0m \u001b[0;34m=\u001b[0m \u001b[0;34m\"This is going to get repetitive.\"\u001b[0m\u001b[0;34m\u001b[0m\u001b[0m\n\u001b[1;32m      5\u001b[0m \u001b[0mshow_message\u001b[0m\u001b[0;34m(\u001b[0m\u001b[0mmessage\u001b[0m\u001b[0;34m)\u001b[0m\u001b[0;34m\u001b[0m\u001b[0m\n",
        "\u001b[0;31mNameError\u001b[0m: name 'show_message' is not defined"
       ]
      }
     ],
     "prompt_number": 1
    },
    {
     "cell_type": "markdown",
     "metadata": {},
     "source": [
      "In line 2 we ask Python to run the function *show_message()*, but Python does not yet know how to do this function. We define our functions at the beginning of our program, and then we can use them when we need to."
     ]
    }
   ],
   "metadata": {}
  }
 ]
}