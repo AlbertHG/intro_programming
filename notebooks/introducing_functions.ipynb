{
 "metadata": {
  "name": ""
 },
 "nbformat": 3,
 "nbformat_minor": 0,
 "worksheets": [
  {
   "cells": [
    {
     "cell_type": "markdown",
     "metadata": {},
     "source": [
      "<a name='top'></a>Introducing Functions\n",
      "===\n",
      "One of the core principles of any programming language is, \"Don't Repeat Yourself\". If you have an action that should occur many times, you can define that action once and then call that code whenever you need to carry out that action.\n",
      "\n",
      "We are already repeating ourselves in our code, so this is a good time to introduce simple functions. Functions mean less work for us as programmers, and effective use of functions results in code that is less error-prone."
     ]
    },
    {
     "cell_type": "markdown",
     "metadata": {},
     "source": [
      "[Previous: Lists and Tuples](http://nbviewer.ipython.org/urls/raw.github.com/ehmatthes/intro_programming/master/notebooks/lists_tuples.ipynb) | \n",
      "[Introduction to Programming home page](http://nbviewer.ipython.org/urls/raw.github.com/ehmatthes/intro_programming/master/notebooks/index.ipynb) |\n",
      "[Next: If Statements](http://nbviewer.ipython.org/urls/raw.github.com/ehmatthes/intro_programming/master/notebooks/if_statements.ipynb) | "
     ]
    },
    {
     "cell_type": "markdown",
     "metadata": {},
     "source": [
      "Contents\n",
      "===\n",
      "- [What are functions?](#what)\n",
      "- [Examples](#examples)\n",
      "- [Exercises](#exercises)\n",
      "- [Challenges](#challenges)"
     ]
    },
    {
     "cell_type": "markdown",
     "metadata": {},
     "source": [
      "<a name='what'></a>What are functions?\n",
      "===\n",
      "Functions are a set of actions that we group together, and give a name to. You have already used a number of functions from the core Python language, such as *string.title()* and *list.sort()*. We can define our own functions, which allows us to \"teach\" Python new behavior."
     ]
    },
    {
     "cell_type": "markdown",
     "metadata": {},
     "source": [
      "<a name='examples'></a>Examples\n",
      "---\n",
      "For a simple first example, we will look at the situation of setting a message and then printing the message. We won't really save ourselves any work in this example, but we will see how functions work.\n",
      "\n",
      "Let's look at the example, and then try to understand the code. First we will look at a sample program with no functions."
     ]
    },
    {
     "cell_type": "code",
     "collapsed": false,
     "input": [
      "message = \"Hello non-function world.\"\n",
      "print(message)\n",
      "\n",
      "message = \"This is going to get repetitive.\"\n",
      "print(message)\n",
      "\n",
      "message = \"Gee, I wish I knew how to use functions.\"\n",
      "print(message)"
     ],
     "language": "python",
     "metadata": {},
     "outputs": [
      {
       "output_type": "stream",
       "stream": "stdout",
       "text": [
        "Hello non-function world.\n",
        "This is going to get repetitive.\n",
        "Gee, I wish I knew how to use functions.\n"
       ]
      }
     ],
     "prompt_number": 1
    },
    {
     "cell_type": "markdown",
     "metadata": {},
     "source": [
      "Functions take repeated code, put it in one place, and then you call that code when you want to use it. Here's what the same program looks like with a function."
     ]
    },
    {
     "cell_type": "code",
     "collapsed": false,
     "input": [
      "def show_message(message_in):\n",
      "    # This function takes in a message, and prints that message to the screen.\n",
      "    print(message_in)\n",
      "\n",
      "message = \"Hello function world.\"\n",
      "show_message(message)\n",
      "\n",
      "message = \"This is way less repetitive.\"\n",
      "show_message(message)\n",
      "\n",
      "message = \"Gee, I'm so happy I know how to use functions.\"\n",
      "show_message(message)"
     ],
     "language": "python",
     "metadata": {},
     "outputs": [
      {
       "output_type": "stream",
       "stream": "stdout",
       "text": [
        "Hello function world.\n",
        "This is way less repetitive.\n",
        "Gee, I'm so happy I know how to use functions.\n"
       ]
      }
     ],
     "prompt_number": 2
    },
    {
     "cell_type": "markdown",
     "metadata": {},
     "source": [
      "In our original code, the line \"print(message)\" was used three times, so that is what we want to put into a function.\n",
      "\n",
      "The keyword *def* tells Python that we are about to define a function. We give our function a name, *show\\_message()* in this case. We then put parentheses. Inside these parenthese we create variable names for any variable the function will need to be given in order to do its job. In this case the function will need a message to show, so we call this 'message_in' to distinguish it from the 'message' variable we will use later. 'message_in' will hold the value that is passed into the function *show_message()*.\n",
      "\n",
      "For the rest of the program, we define a message and then send that message to our function. To use a function, we give the function's name, and then put any values the function needs in order to do its work. In this case, we give the function the message that we want to show."
     ]
    },
    {
     "cell_type": "markdown",
     "metadata": {},
     "source": [
      "### A common error\n",
      "A function must be defined before you use it in your program. For example, putting the function at the end of the program would not work."
     ]
    },
    {
     "cell_type": "code",
     "collapsed": false,
     "input": [
      "message = \"Hello non-function world.\"\n",
      "show_message(message)\n",
      "\n",
      "message = \"This is going to get repetitive.\"\n",
      "show_message(message)\n",
      "\n",
      "message = \"Gee, I wish I knew how to use functions.\"\n",
      "show_message(message)\n",
      "\n",
      "def show_message(message_in):\n",
      "    # This function takes in a message, and prints that message to the screen.\n",
      "    print(message_in)"
     ],
     "language": "python",
     "metadata": {},
     "outputs": [
      {
       "ename": "NameError",
       "evalue": "name 'show_message' is not defined",
       "output_type": "pyerr",
       "traceback": [
        "\u001b[0;31m---------------------------------------------------------------------------\u001b[0m\n\u001b[0;31mNameError\u001b[0m                                 Traceback (most recent call last)",
        "\u001b[0;32m<ipython-input-1-ede87273ac41>\u001b[0m in \u001b[0;36m<module>\u001b[0;34m()\u001b[0m\n\u001b[1;32m      1\u001b[0m \u001b[0mmessage\u001b[0m \u001b[0;34m=\u001b[0m \u001b[0;34m\"Hello non-function world.\"\u001b[0m\u001b[0;34m\u001b[0m\u001b[0m\n\u001b[0;32m----> 2\u001b[0;31m \u001b[0mshow_message\u001b[0m\u001b[0;34m(\u001b[0m\u001b[0mmessage\u001b[0m\u001b[0;34m)\u001b[0m\u001b[0;34m\u001b[0m\u001b[0m\n\u001b[0m\u001b[1;32m      3\u001b[0m \u001b[0;34m\u001b[0m\u001b[0m\n\u001b[1;32m      4\u001b[0m \u001b[0mmessage\u001b[0m \u001b[0;34m=\u001b[0m \u001b[0;34m\"This is going to get repetitive.\"\u001b[0m\u001b[0;34m\u001b[0m\u001b[0m\n\u001b[1;32m      5\u001b[0m \u001b[0mshow_message\u001b[0m\u001b[0;34m(\u001b[0m\u001b[0mmessage\u001b[0m\u001b[0;34m)\u001b[0m\u001b[0;34m\u001b[0m\u001b[0m\n",
        "\u001b[0;31mNameError\u001b[0m: name 'show_message' is not defined"
       ]
      }
     ],
     "prompt_number": 1
    },
    {
     "cell_type": "markdown",
     "metadata": {},
     "source": [
      "In line 2 we ask Python to run the function *show\\_message()*, but Python does not yet know how to do this function. We define our functions at the beginning of our program, and then we can use them when we need to."
     ]
    },
    {
     "cell_type": "markdown",
     "metadata": {},
     "source": [
      "A second example\n",
      "---\n",
      "When we introduced the different methods for [sorting a list](http://nbviewer.ipython.org/urls/raw.github.com/ehmatthes/intro_programming/master/notebooks/lists_tuples.ipynb#sorting_list), our code got very repetitive. It takes two lines of code to print a list using a for loop, so these two lines are repeated whenever you want to print out the contents of a list. This is the perfect opportunity to use a function, so let's see how the code looks with a function.\n",
      "\n",
      "First, let's see the code we had without a function:"
     ]
    },
    {
     "cell_type": "code",
     "collapsed": false,
     "input": [
      "students = ['bernice', 'aaron', 'cody']\n",
      "\n",
      "# Put students in alphabetical order.\n",
      "students.sort()\n",
      "\n",
      "# Display the list in its current order.\n",
      "print(\"Our students are currently in alphabetical order.\")\n",
      "for student in students:\n",
      "    print(student.title())\n",
      "\n",
      "#Put students in reverse alphabetical order.\n",
      "students.sort(reverse=True)\n",
      "\n",
      "# Display the list in its current order.\n",
      "print(\"\\nOur students are now in reverse alphabetical order.\")\n",
      "for student in students:\n",
      "    print(student.title())"
     ],
     "language": "python",
     "metadata": {},
     "outputs": [
      {
       "output_type": "stream",
       "stream": "stdout",
       "text": [
        "Our students are currently in alphabetical order.\n",
        "Aaron\n",
        "Bernice\n",
        "Cody\n",
        "\n",
        "Our students are now in reverse alphabetical order.\n",
        "Cody\n",
        "Bernice\n",
        "Aaron\n"
       ]
      }
     ],
     "prompt_number": 3
    },
    {
     "cell_type": "markdown",
     "metadata": {},
     "source": [
      "Here's what the same code looks like, using a function to print out the list:"
     ]
    },
    {
     "cell_type": "code",
     "collapsed": false,
     "input": [
      "def show_students(students, message):\n",
      "    # Print out a message, and then the list of students\n",
      "    print(message)\n",
      "    for student in students:\n",
      "        print(student.title())\n",
      "\n",
      "students = ['bernice', 'aaron', 'cody']\n",
      "\n",
      "# Put students in alphabetical order.\n",
      "students.sort()\n",
      "show_students(students, \"Our students are currently in alphabetical order.\")\n",
      "\n",
      "#Put students in reverse alphabetical order.\n",
      "students.sort(reverse=True)\n",
      "show_students(students, \"\\nOur students are now in reverse alphabetical order.\")"
     ],
     "language": "python",
     "metadata": {},
     "outputs": [
      {
       "output_type": "stream",
       "stream": "stdout",
       "text": [
        "Our students are currently in alphabetical order.\n",
        "Aaron\n",
        "Bernice\n",
        "Cody\n",
        "\n",
        "Our students are now in reverse alphabetical order.\n",
        "Cody\n",
        "Bernice\n",
        "Aaron\n"
       ]
      }
     ],
     "prompt_number": 9
    },
    {
     "cell_type": "markdown",
     "metadata": {},
     "source": [
      "This is much cleaner code. We have an action we want to take, which is to show the students in our list along with a message. We give this action a name, *show\\_students()*. \n",
      "\n",
      "This function needs two pieces of information to do its work, the list of students and a message to display. Inside the function, the code for printing the message and looping through the list is exactly as it was in the non-function code.\n",
      "\n",
      "Now the rest of our program is cleaner, because it gets to focus on the things we are changing in the list, rather than having code for printing the list. We define the list, then we sort it and call our function to print the list. We sort it again, and then call the printing function a second time, with a different message. This is much more readable code.\n",
      "\n",
      "### Advantages of using functions\n",
      "You might be able to see some advantages of using functions, through this example:\n",
      "\n",
      "- We write a set of instructions once. We save some work in this simple example, and we save even more work in larger programs.\n",
      "- When our function works, we don't have to worry about that code anymore. Every time you repeat code in your program, you introduce an opportunity to make a mistake. Writing a function means there is one place to fix mistakes, and when those bugs are fixed, we can be confident that this function will continue to work correctly.\n",
      "- We can modify our function's behavior, and that change takes effect every time the function is called. This is much better than deciding we need some new behavior, and then having to change code in many different places in our program."
     ]
    },
    {
     "cell_type": "markdown",
     "metadata": {},
     "source": [
      "For a quick example, let's say we decide our printed output would look better with some form of a bulleted list. Without functions, we'd have to change each print statement. With a function, we change just the print statement in the function:"
     ]
    },
    {
     "cell_type": "code",
     "collapsed": false,
     "input": [
      "def show_students(students, message):\n",
      "    # Print out a message, and then the list of students\n",
      "    print(message)\n",
      "    for student in students:\n",
      "        print(\"- \" + student.title())\n",
      "\n",
      "students = ['bernice', 'aaron', 'cody']\n",
      "\n",
      "# Put students in alphabetical order.\n",
      "students.sort()\n",
      "show_students(students, \"Our students are currently in alphabetical order.\")\n",
      "\n",
      "#Put students in reverse alphabetical order.\n",
      "students.sort(reverse=True)\n",
      "show_students(students, \"\\nOur students are now in reverse alphabetical order.\")"
     ],
     "language": "python",
     "metadata": {},
     "outputs": [
      {
       "output_type": "stream",
       "stream": "stdout",
       "text": [
        "Our students are currently in alphabetical order.\n",
        "- Aaron\n",
        "- Bernice\n",
        "- Cody\n",
        "\n",
        "Our students are now in reverse alphabetical order.\n",
        "- Cody\n",
        "- Bernice\n",
        "- Aaron\n"
       ]
      }
     ],
     "prompt_number": 10
    },
    {
     "cell_type": "markdown",
     "metadata": {},
     "source": [
      "You can think of functions as a way to \"teach\" Python some new behavior. In this case, we taught Python how to create a list of students using hyphens; now we can tell Python to do this with our students whenever we want to."
     ]
    },
    {
     "cell_type": "markdown",
     "metadata": {},
     "source": [
      "More Later\n",
      "---\n",
      "There is much more to learn about functions, but we will get to those details later. For now, feel free to use functions whenever you find yourself writing the same code several times in a program. Some of the things you will learn when we focus on functions:\n",
      "\n",
      "- How to use functions to return values, rather than just printing out messages.\n",
      "- How to give the arguments in your function default values.\n",
      "- How to let your functions accept different numbers of arguments."
     ]
    },
    {
     "cell_type": "markdown",
     "metadata": {},
     "source": [
      "[top](#top)"
     ]
    },
    {
     "cell_type": "markdown",
     "metadata": {},
     "source": [
      "<a name='exercises'></a>Exercises\n",
      "---\n",
      "#### Greeter\n",
      "- Write a function that takes in a person's name, and prints out a greeting.\n",
      "    - The greeting must be at least three lines, and the person's name must be in each line.\n",
      "- Use your function to greet at least three different people.\n",
      "- **Bonus:** Store your three people in a list, and call your function from a `for` loop.\n",
      "\n",
      "#### Full Names\n",
      "- Write a function that takes in a first name and a last name, and prints out a nicely formatted full name, in a sentence. Your sentence could be as simple as, \"Hello, *full\\_name*.\"\n",
      "- Call your function three times, with a different name each time.\n",
      "\n",
      "#### Addition Calculator\n",
      "- Write a function that takes in two numbers, and adds them together. Make your function print out a sentence showing the two numbers, and the result.\n",
      "- Call your function with three different sets of numbers.\n",
      "\n",
      "#### List Exercises - Functions\n",
      "- Go back and solve each of the following exercises from the section on [Lists and Tuples](http://nbviewer.ipython.org/urls/raw.github.com/ehmatthes/intro_programming/master/notebooks/lists_tuples.ipynb), using functions to avoid repetetive code:\n",
      "    - [Ordered Working List](http://nbviewer.ipython.org/urls/raw.github.com/ehmatthes/intro_programming/master/notebooks/lists_tuples.ipynb#exercises_common_operations)\n",
      "    - [Ordered Numbers](http://nbviewer.ipython.org/urls/raw.github.com/ehmatthes/intro_programming/master/notebooks/lists_tuples.ipynb#exercises_common_operations)\n",
      "\n"
     ]
    },
    {
     "cell_type": "markdown",
     "metadata": {},
     "source": [
      "[top](#top)"
     ]
    },
    {
     "cell_type": "markdown",
     "metadata": {},
     "source": [
      "<a name='challenges'></a>Challenges\n",
      "===\n",
      "#### Lyrics\n",
      "- Many songs follow a familiar variation of the pattern of *verse*, *refrain*, *verse*, *refrain*. The verses are the parts of the song that tell a story - they are not repeated in the song. The refrain is the part of the song that is repeated throughout the song.\n",
      "- Find the lyrics to a [song you like](http://www.metrolyrics.com/dont-stop-believin-lyrics-journey.html) that follows this pattern. Write a program that prints out the lyrics to this song, using as few lines of Python code as possible. [hint](#hint_challenges_lyrics)"
     ]
    },
    {
     "cell_type": "markdown",
     "metadata": {},
     "source": [
      "[top](#top)"
     ]
    },
    {
     "cell_type": "markdown",
     "metadata": {},
     "source": [
      "[Previous: Lists and Tuples](http://nbviewer.ipython.org/urls/raw.github.com/ehmatthes/intro_programming/master/notebooks/lists_tuples.ipynb) | \n",
      "[Introduction to Programming home page](http://nbviewer.ipython.org/urls/raw.github.com/ehmatthes/intro_programming/master/notebooks/index.ipynb)"
     ]
    },
    {
     "cell_type": "markdown",
     "metadata": {},
     "source": [
      "Hints\n",
      "===\n",
      "These are placed at the bottom, so you can have a chance to solve exercises without seeing any hints.\n",
      "\n",
      "#### <a name='hints_lyrics'></a>Lyrics\n",
      "- Define a function that prints out the lyrics of the refrain. Use this function any time the refrain comes up in the song."
     ]
    }
   ],
   "metadata": {}
  }
 ]
}