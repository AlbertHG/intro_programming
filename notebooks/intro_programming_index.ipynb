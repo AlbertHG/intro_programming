{
 "metadata": {
  "name": "intro_programming_index"
 },
 "nbformat": 3,
 "nbformat_minor": 0,
 "worksheets": [
  {
   "cells": [
    {
     "cell_type": "markdown",
     "metadata": {},
     "source": [
      "<a name='top'></a>Introduction to Programming (using Python)\n",
      "==="
     ]
    },
    {
     "cell_type": "markdown",
     "metadata": {},
     "source": [
      "This is a collection of notebooks that form the \"lecture\" notes for an Introduction to Programming class that I teach each year.\n",
      "\n",
      "I put \"lecture\" in quotes because these are really presented as brief mini-lessons. After participating in a mini-lesson, students are presented with a set of exercises and challenges that ask them to use and apply what they have just learned. Students have access to the notebooks as they are working through the exercises and challenges.\n",
      "\n",
      "This approach aims to maximize the time students spend applying what they have seen, which is the fun part of programming. This approach minimizes the time students spend asking me to repeat what I showed them in the lesson, which is the boring part of teaching and learning."
     ]
    },
    {
     "cell_type": "markdown",
     "metadata": {},
     "source": [
      "Contents\n",
      "---\n",
      "- [Syllabus](#syllabus)\n",
      "- [Programming Environment](#programming_environment)\n",
      "- [Hello World](#hello_world)\n",
      "- [Variables, Strings, and Numbers](#var_string_num)\n",
      "- [Lists and Tuples](#lists_tuples)\n",
      "- [Introducing Functions](#functions)\n",
      "- [If Statements](#if_statements)\n",
      "- [Dictionaries](#dictionaries)\n",
      "- [More Functions](#more_functions)\n",
      "- [Classes](#classes)\n",
      "- [Exceptions](#exceptions)\n",
      "- [Testing](#testing)"
     ]
    },
    {
     "cell_type": "markdown",
     "metadata": {},
     "source": [
      "<a name=\"syllabus\"></a>Syllabus\n",
      "---\n",
      "The syllabus for the course.\n",
      "\n",
      "[Syllabus notebook](http://nbviewer.ipython.org/urls/raw.github.com/ehmatthes/intro_programming/master/notebooks/syllabus.ipynb)"
     ]
    },
    {
     "cell_type": "markdown",
     "metadata": {},
     "source": [
      "<a name='programming_environment'></a>Programming Environment\n",
      "---\n",
      "We use Ubuntu Linux as our main programming environment, for a number of reasons. This page covers a number of things we need to be aware of to help use and maintain a Linux computer.\n",
      "\n",
      "[Programming Environment notebook](http://nbviewer.ipython.org/urls/raw.github.com/ehmatthes/intro_programming/master/notebooks/programming_environment.ipynb)"
     ]
    },
    {
     "cell_type": "markdown",
     "metadata": {},
     "source": [
      "<a name=\"hello_world\"></a>Hello World\n",
      "---\n",
      "The classic \"Hello world\" program in Python. Use this to make sure your computer is set up to run Python programs properly.\n",
      "\n",
      "[Hello World notebook](http://nbviewer.ipython.org/urls/raw.github.com/ehmatthes/intro_programming/master/notebooks/hello_world.ipynb)"
     ]
    },
    {
     "cell_type": "markdown",
     "metadata": {},
     "source": [
      "<a name='var_string_num'></a>Variables, Strings, and Numbers\n",
      "---\n",
      "In this section, you will learn to store information in variables. You will learn about two types of data: strings, which are sets of characters, and numerical data types.\n",
      "\n",
      "[Variables Strings Numbers noteboook](http://nbviewer.ipython.org/urls/raw.github.com/ehmatthes/intro_programming/master/notebooks/var_string_num.ipynb)"
     ]
    },
    {
     "cell_type": "markdown",
     "metadata": {},
     "source": [
      "<a name='lists_tuples'></a>Lists and Tuples\n",
      "---\n",
      "In this notebook, you will learn to store more than one valuable in a single variable. This by itself is one of the most powerful ideas in programming, and it introduces a number of other central concepts such as loops. If this section ends up making sense to you, you will be able to start writing some interesting programs, and you can be more confident that you will be able to develop overall competence as a programmer.\n",
      "\n",
      "[Lists and Tuples notebook](http://nbviewer.ipython.org/urls/raw.github.com/ehmatthes/intro_programming/master/notebooks/lists_tuples.ipynb)"
     ]
    },
    {
     "cell_type": "markdown",
     "metadata": {},
     "source": [
      "<a name='functions'></a>Introducing Functions\n",
      "---\n",
      "One of the core principles of any programming language is, \"Don't Repeat Yourself\". If you have an action that should occur many times, you can define that action once and then call that code whenever you need to carry out that action.\n",
      "\n",
      "[Lists and Tuples notebook](http://nbviewer.ipython.org/urls/raw.github.com/ehmatthes/intro_programming/master/notebooks/introducing_functions.ipynb)"
     ]
    },
    {
     "cell_type": "markdown",
     "metadata": {},
     "source": [
      "<a name='if_statements'></a>If Statements\n",
      "---\n",
      "By allowing you to respond selectively to different situations and conditions, if statements open up whole new possibilities for your programs. In this section, you will learn how to test for certain conditions, and then respond in appropriate ways to those conditions.\n",
      "\n",
      "[If Statements notebook](http://nbviewer.ipython.org/urls/raw.github.com/ehmatthes/intro_programming/master/notebooks/if_statements.ipynb)"
     ]
    },
    {
     "cell_type": "markdown",
     "metadata": {},
     "source": [
      "<a name='dictionaries'></a>Dictionaries\n",
      "---\n",
      "Dictionaries allow us to store connected bits of information. For example, you might store a person's name and age together.\n",
      "\n",
      "[Dictionaries notebook](http://nbviewer.ipython.org/urls/raw.github.com/ehmatthes/intro_programming/master/notebooks/dictionaries.ipynb)"
     ]
    },
    {
     "cell_type": "markdown",
     "metadata": {},
     "source": [
      "<a name='more_functions'></a>More Functions\n",
      "---\n",
      "Earlier we learned the most bare-boned versions of functions. In this section we will learn more general concepts about functions, such as how to use functions to return values, and how to pass different kinds of data structures between functions.\n",
      "\n",
      "[More Functions notebook](http://nbviewer.ipython.org/urls/raw.github.com/ehmatthes/intro_programming/master/notebooks/more_functions.ipynb)"
     ]
    },
    {
     "cell_type": "markdown",
     "metadata": {},
     "source": [
      "<a name='classes'></a>Classes\n",
      "---\n",
      "So far we have learned about Python's core data types: strings, numbers, lists, tuples, and dictionaries. In this section we learn about the last major data structure, classes. Classes are quite unlike the other data types, in that they are much more flexible. Classes allow you to define the information and behavior that characterize anything you want to model in your program. Classes are a rich topic, so we will learn just enough here to dive into the projects you'd like to get started on.\n",
      "\n",
      "[Classes notebook](http://nbviewer.ipython.org/urls/raw.github.com/ehmatthes/intro_programming/master/notebooks/classes.ipynb)"
     ]
    },
    {
     "cell_type": "markdown",
     "metadata": {},
     "source": [
      "<a name='exceptions'></a>Exceptions\n",
      "---\n",
      "Every program has errors while it runs, and has to deal with unexpected behavior and bad input. Exceptions provide a clean way to deal with these situations.\n",
      "\n",
      "[Exceptions notebook](http://nbviewer.ipython.org/urls/raw.github.com/ehmatthes/intro_programming/master/notebooks/exceptions.ipynb)"
     ]
    },
    {
     "cell_type": "markdown",
     "metadata": {},
     "source": [
      "<a name='testing'></a>Testing\n",
      "---\n",
      "The programs that we write can quickly become complicated, and with complexity comes bugs. Programmers have long accepted that every program will have its share of bugs. To deal with this, we have come up with many ways to defend against avoidable bugs. Learning to write tests is one of the best things you can do to guard against avoidable bugs creeping into your own programs. Basically, you write a set of tests that you then run against your program every time you or someone else changes the program. These tests, if written correctly, prove that changes to the code do not break anything that was working previously.\n",
      "\n",
      "[Testing notebook](http://nbviewer.ipython.org/urls/raw.github.com/ehmatthes/intro_programming/master/notebooks/testing.ipynb)"
     ]
    },
    {
     "cell_type": "markdown",
     "metadata": {},
     "source": [
      "[top](#top)"
     ]
    }
   ],
   "metadata": {}
  }
 ]
}