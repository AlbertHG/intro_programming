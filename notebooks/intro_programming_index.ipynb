{
 "metadata": {
  "name": "intro_programming_index"
 }, 
 "nbformat": 2, 
 "worksheets": [
  {
   "cells": [
    {
     "cell_type": "markdown", 
     "source": [
      "Introduction to Programming (using Python)", 
      "==="
     ]
    }, 
    {
     "cell_type": "markdown", 
     "source": [
      "This is a collection of notebooks that form the \"lecture\" notes for an Introduction to Programming class that I teach each year.", 
      "", 
      "I put \"lecture\" in quotes because these are really presented as brief mini-lessons. After participating in a mini-lesson, students are presented with a set of exercises and challenges that ask them to use and apply what they have just learned. Students have access to the notebooks as they are working through the exercises and challenges.", 
      "", 
      "This approach aims to maximize the time students spend applying what they have seen, which is the fun part of programming. This approach minimizes the time students spend asking me to repeat what I showed them in the lesson, which is the boring part of teaching and learning."
     ]
    }, 
    {
     "cell_type": "markdown", 
     "source": [
      "Contents", 
      "---", 
      "- Syllabus", 
      "- Programming Environment", 
      "- Hello World", 
      "- Variables, Strings, and Numbers"
     ]
    }, 
    {
     "cell_type": "markdown", 
     "source": [
      "<a name=\"syllabus\"></a>Syllabus", 
      "---", 
      "The syllabus for the course.", 
      "", 
      "[Syllabus notebook](http://nbviewer.ipython.org/urls/raw.github.com/ehmatthes/intro_programming/master/notebooks/syllabus.ipynb)"
     ]
    }, 
    {
     "cell_type": "markdown", 
     "source": [
      "Programming Environment", 
      "---", 
      "Maintaining our Ubuntu Linux computers.", 
      "", 
      "[Programming Environment notebook](http://nbviewer.ipython.org/urls/raw.github.com/ehmatthes/intro_programming/master/notebooks/programming_environment.ipynb)"
     ]
    }, 
    {
     "cell_type": "markdown", 
     "source": [
      "<a name=\"hello_world\"></a>Hello World", 
      "---", 
      "The classic \"Hello world\" program in Python. Use this to make sure your computer is set up to run Python programs properly.", 
      "", 
      "[Hello World notebook](http://nbviewer.ipython.org/urls/raw.github.com/ehmatthes/intro_programming/master/notebooks/hello_world.ipynb)"
     ]
    }, 
    {
     "cell_type": "markdown", 
     "source": [
      "Variables, Strings, and Numbers", 
      "---", 
      "Learn how to store valuables in variables, learn about text-based data, and learn how Python deals with numbers.", 
      "", 
      "[Variables Strings Numbers noteboook](http://nbviewer.ipython.org/urls/raw.github.com/ehmatthes/intro_programming/master/notebooks/var_string_num.ipynb)"
     ]
    }
   ]
  }
 ]
}