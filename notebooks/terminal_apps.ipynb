{
 "metadata": {
  "name": ""
 },
 "nbformat": 3,
 "nbformat_minor": 0,
 "worksheets": [
  {
   "cells": [
    {
     "cell_type": "markdown",
     "metadata": {},
     "source": [
      "<a name='top'></a>Basic Terminal Apps\n",
      "===\n",
      "By this point, you have learned enough Python to start building interactive apps. If you are set on the larger projects such as building a video game, making a visualization, or making a web app, you can skip this section. But if you would like to start building some simpler apps that run directly in your terminal, check out this notebook.\n",
      "\n",
      "Terminal apps are a great way to build the core functionality of a program you are interested in, which can then be extended into a more accessible format."
     ]
    },
    {
     "cell_type": "markdown",
     "metadata": {},
     "source": [
      "[Previous: While Loops and Input](http://nbviewer.ipython.org/urls/raw.github.com/ehmatthes/intro_programming/master/notebooks/while_input.ipynb) | \n",
      "[Introduction to Programming home page](http://nbviewer.ipython.org/urls/raw.github.com/ehmatthes/intro_programming/master/notebooks/index.ipynb) |\n",
      "[Next: Dictionaries](http://nbviewer.ipython.org/urls/raw.github.com/ehmatthes/intro_programming/master/notebooks/dictionaries.ipynb)"
     ]
    },
    {
     "cell_type": "markdown",
     "metadata": {},
     "source": [
      "Contents\n",
      "===\n",
      "- [What are terminal apps?](#what)\n",
      "    - [Why write terminal apps?](#why)\n",
      "- [Exercises](#exercises)\n",
      "- [Overall Challenges](#overall_challenges)"
     ]
    },
    {
     "cell_type": "markdown",
     "metadata": {},
     "source": [
      "[top](#top)"
     ]
    },
    {
     "cell_type": "markdown",
     "metadata": {},
     "source": [
      "<a name='what'></a>What are terminal apps?\n",
      "===\n",
      "A terminal application is simply an application that runs inside the terminal. By now, you have seen that most of the output from your programs is printed to the terminal. By learning a few more techniques such as clearing the terminal screen and \"pickling\" data, you can create full-fledged standalone applications that run in the terminal.\n",
      "\n",
      "A terminal app starts just like any other program, but it finishes when the user selects an action that causes the program to quit. In terminal applications, this often means something like entering 'q' or 'quit'.\n",
      "\n",
      "If you are on a linux system, you can run some terminal apps right now. Many of these are not written in Python, but that doesn't matter. They are applications that run in the terminal, and you can write your own apps in Python. If you are on Linux, try the following:\n",
      "\n",
      "- Open a terminal and enter `top`.\n",
      "    - You will see a bunch of processes that are running on your system, sorted by which ones are using the most resources.\n",
      "    - You can press 'q' to quit this application.\n",
      "- Open a terminal and enter `nano test_file.txt`. \n",
      "    - This is a text editor that runs in the terminal. It is useful for quick edits.\n",
      "    - If you are editing files on a remote server, you need a terminal-based editor. Nano is one of the simplest.\n",
      "    - Press Ctrl-x to exit. If you have typed anything, you will be given the option to save your file.\n",
      "- Open a terminal and enter `vi`.\n",
      "    - This is another text editor. It is much less intuitive than nano at first, but once you learn how to use it you can edit files extremely quickly.\n",
      "    - Enter `:q` to exit.\n",
      "    \n",
      "There are quite a few other terminal apps. Let's figure out how to write some of our own."
     ]
    },
    {
     "cell_type": "markdown",
     "metadata": {},
     "source": [
      "<a name='why'></a>Why write terminal apps?\n",
      "---\n",
      "Unless you see people working in technical fields on a regular basis, it's quite possible you have not seen many people using terminal applications. Even so, there are a number of reasons to consider writing a few terminal apps of your own.\n",
      "\n",
      "- **They can be much more fun and satisfying to write than simpler programs.**\n",
      "    - Applications, by their nature, solve interesting problems. When you write an application, you are creating an environment in which people work and play. That's pretty satisfying.\n",
      "- **Terminal apps let you play with complex code, without layers of abstraction between you and the user.**\n",
      "    - When you write more complex graphical applications, there are layers of abstraction between you and the user. To get input in a terminal, you issue the command `input(\"Please tell me some information: \")`. When you want some information in a graphical program, you have to build text boxes and buttons for submitting information. That has gotten pretty simple these days, but it is still more complicated than what you will do when writing terminal applications. Terminal applications let you focus on getting the logic right, rather than building a graphical interface.\n",
      "- **You will learn about user interaction issues.**\n",
      "    - Terminal apps do have users, even if that is just you, and maybe your friends or family. If you see people using your applications at an early stage, you will write better code. There is nothing like watching people use your programs to make you code more defensively. You know to enter a string in some places, but what keeps your users from entering numbers? Influencing your users to give you the right information the first time, and being prepared to deal with the wrong kind of data are good skills as a programmer. Having real users at an early stage in your programming career is a good thing."
     ]
    },
    {
     "cell_type": "markdown",
     "metadata": {},
     "source": [
      "[top](#top)"
     ]
    },
    {
     "cell_type": "markdown",
     "metadata": {},
     "source": [
      "<a name='overall_exercises'></a>Overall Exercises\n",
      "#### Word Wall\n",
      "- A word wall is a place on your wall where you keep track of new words you are learning when you are studying a certain topic. "
     ]
    },
    {
     "cell_type": "markdown",
     "metadata": {},
     "source": [
      "<a name='overall_challenges'></a>Overall Challenges\n",
      "===\n",
      "#### Hangman\n",
      "- If it's been a while since you played Hangman, play it with someone first.\n",
      "    - Play both sides, so you remember how it feels as a player and as the person making up the word.\n",
      "- Write a terminal app that replicates Hangman.\n",
      "- [hints](#hints_hangman)\n",
      "\n",
      "#### Abacus\n",
      "- The following text could be used to represent the number 1972 on an abacus:\n",
      "    - |xxxxxxxx------xx|\n",
      "    - |xxx------xxxxxxx|\n",
      "    - |x------xxxxxxxxx|\n",
      "    - |xxxxxxxxx------x|\n",
      "- Write a terminal app that asks the user for a number, and then displays that number on a simple abacus.\n",
      "- [hints](#hints_abacus)"
     ]
    },
    {
     "cell_type": "markdown",
     "metadata": {},
     "source": [
      "[top](#top)"
     ]
    },
    {
     "cell_type": "markdown",
     "metadata": {},
     "source": [
      "[Previous: While Loops and Input](http://nbviewer.ipython.org/urls/raw.github.com/ehmatthes/intro_programming/master/notebooks/while_input.ipynb) | \n",
      "[Introduction to Programming home page](http://nbviewer.ipython.org/urls/raw.github.com/ehmatthes/intro_programming/master/notebooks/index.ipynb) |\n",
      "[Next: Dictionaries](http://nbviewer.ipython.org/urls/raw.github.com/ehmatthes/intro_programming/master/notebooks/dictionaries.ipynb)"
     ]
    },
    {
     "cell_type": "markdown",
     "metadata": {},
     "source": [
      "Hints\n",
      "===\n",
      "####<a name='hints_hangman'></a>Hangman\n",
      "- Print a line that identifies the game people are playing.\n",
      "- Store a list of words that can be chosen from.\n",
      "- Make a for loop that runs through the words in the list.\n",
      "    - Bonus: learn about [randomly selecting an item from a list](http://stackoverflow.com/questions/306400/how-do-i-randomly-select-an-item-from-a-list-using-python), and choose the next word randomly.\n",
      "- Print a series of underscores, showing how many letters are in the word.\n",
      "- Ask the user for a letter.\n",
      "- Use an if statement to either place the appropriate letters over the underscores, or to add a part to a text-based hangman.\n",
      "- Keep track of the guesses that have been made, and when too many wrong guesses have been made, print a message that the game is over.\n",
      "- Place your entire game inside of a while loop, with an option for the user to enter a value that will make the loop fail.\n",
      "\n",
      "####<a name='hints_abacus'></a>Abacus\n",
      "- Print a line that identifies the application that is running.\n",
      "- Ask the user for a number between 1 and 9999.\n",
      "- There are some mathematical ways to get each digit in the number. If you know can use any of these methods on paper, feel free to try to code them. But you can just treat the number as a string, and use a for loop to get each number in turn. You may have to turn the number into a string first.\n",
      "- Use each digit, along with the range function, to print the appropriate number of beads on each line of the abacus.\n",
      "    - You can use subtraction to figure out how many beads to put on the other side of the abacus.\n",
      "    - You may need to turn each digit back into a number before you can use the range function.\n",
      "    - If your for loop prints each bead on a separate line, store your beads in a variable. Rather than printing all beads out immediately, add them to the string representing the bar on the abacus. Then print the abacus bar out all at once.\n",
      "        - `abacus_bar = ''`\n",
      "        - `for...`\n",
      "        -     `abacus_bar = abacus_bar + 'x'`\n",
      "        - `print(abacus_bar)`\n",
      "- Put a call to clear the screen in the right place in your code, and you will have a nice simple abacus app.\n",
      "- **Bonus:** Make a more complicated abacus, and make your abacus work in different bases."
     ]
    },
    {
     "cell_type": "markdown",
     "metadata": {},
     "source": [
      "[top](#top)"
     ]
    }
   ],
   "metadata": {}
  }
 ]
}