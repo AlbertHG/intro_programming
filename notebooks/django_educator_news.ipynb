{
 "metadata": {
  "name": ""
 },
 "nbformat": 3,
 "nbformat_minor": 0,
 "worksheets": [
  {
   "cells": [
    {
     "cell_type": "markdown",
     "metadata": {},
     "source": [
      "Educator News - A Django Tutorial\n",
      "===\n",
      "I have learned a lot from reading Hacker News over the last few years, and I have wished there was a similar forum for gathering and discussing articles related to education. I have seen at least one attempt at making a clone of HN for education, but the project did not go anywhere. This is an attempt to make an HN-inspired site for education. In the process, you will see how to build, deploy, and maintain a web application using the Django framework."
     ]
    },
    {
     "cell_type": "markdown",
     "metadata": {},
     "source": [
      "[Home](http://nbviewer.ipython.org/urls/raw.github.com/ehmatthes/intro_programming/master/notebooks/index.ipynb)"
     ]
    },
    {
     "cell_type": "markdown",
     "metadata": {},
     "source": [
      "Contents\n",
      "==="
     ]
    },
    {
     "cell_type": "markdown",
     "metadata": {},
     "source": [
      "[top](#)"
     ]
    },
    {
     "cell_type": "markdown",
     "metadata": {},
     "source": [
      "- - -\n",
      "[Home](http://nbviewer.ipython.org/urls/raw.github.com/ehmatthes/intro_programming/master/notebooks/index.ipynb)"
     ]
    }
   ],
   "metadata": {}
  }
 ]
}