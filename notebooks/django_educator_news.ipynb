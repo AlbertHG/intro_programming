{
 "metadata": {
  "name": ""
 },
 "nbformat": 3,
 "nbformat_minor": 0,
 "worksheets": [
  {
   "cells": [
    {
     "cell_type": "markdown",
     "metadata": {},
     "source": [
      "Educator News - A Django Tutorial\n",
      "===\n",
      "I have learned a lot from reading [Hacker News](http://news.ycombinator.com) over the last few years, and I have wished there was a similar forum for gathering and discussing articles related to education. I have seen at least one attempt at making a clone of HN for education, but the project did not go anywhere. This is an attempt to make an HN-inspired site for education. In the process, you will see how to build, deploy, and maintain a web application using the Django framework."
     ]
    },
    {
     "cell_type": "markdown",
     "metadata": {},
     "source": [
      "[Home](http://nbviewer.ipython.org/urls/raw.github.com/ehmatthes/intro_programming/master/notebooks/index.ipynb)"
     ]
    },
    {
     "cell_type": "markdown",
     "metadata": {},
     "source": [
      "Contents\n",
      "===\n",
      "- [Overview and Specifications](#overview)\n",
      "    - [One sentence](#one_sentence)\n",
      "    - [Elevator pitch](#elevator_pitch)\n",
      "    - [Specifications](#specifications)\n",
      "        - [Educator News - what users see](#users_see)\n",
      "        - [Development outline](#development_outline)\n",
      "        - [Other notes](#other_notes)\n",
      "- [Starting the project](#starting_project)\n",
      "    - [Setting up a virtual environment](#setting_up_environment)"
     ]
    },
    {
     "cell_type": "markdown",
     "metadata": {},
     "source": [
      "[top](#)"
     ]
    },
    {
     "cell_type": "markdown",
     "metadata": {},
     "source": [
      "<a name='overview'></a>Overview\n",
      "===\n",
      "When creating a new project that you are excited about, it is tempting to jump right into writing code. This is rarely a recipe for success; it is almost always good to put some of your ideas and goals into writing first. Before writing any code it is good to lay out a clear vision, and then lay out a series of goals that you aim to achieve. This will help guide you into developing the product you want, rather than being pulled into something that is easy or satisfying to code but may be less useful."
     ]
    },
    {
     "cell_type": "markdown",
     "metadata": {},
     "source": [
      "<a name='one_sentence'></a>One sentence\n",
      "---\n",
      "It is helpful to come up with a one-sentence description of your project. Here is a one-sentence description of Educator News:\n",
      "\n",
      "#### \"Educator News is a place to share and discuss articles of interest to educators, with a focus on improving the professionalism of the field as a whole.\"\n",
      "    \n",
      "This sentence, if written carefully, can help you evaluate whether you are staying true to your original vision as you begin to write code."
     ]
    },
    {
     "cell_type": "markdown",
     "metadata": {},
     "source": [
      "<a name='elevator_pitch'></a>Elevator pitch\n",
      "---\n",
      "An *elevator pitch* is a slightly longer description that still gets at the heart of what the project should be. It answers the question, \"If you were in an elevator for a brief ride with someone you really wanted on board your project, what would you say?\" Here is an elevator pitch for Educator News:\n",
      "\n",
      "#### \"A professional sharing of ideas between educators is good for everyone. It allows teachers to do the best job possible, and it allows their students to have the best opportunity for learning. Most online communities for educators, however, devolve into online versions of a bad teachers' lounge. They are very negative, with a constant focus on complaints with little constructive and professional thinking. Educator News aims to help teachers and people interested in education share high-quality articles about the profession of teaching, and engage in constructive conversations about how to increase the professionalism of the education field.\""
     ]
    },
    {
     "cell_type": "markdown",
     "metadata": {},
     "source": [
      "[top](#)"
     ]
    },
    {
     "cell_type": "markdown",
     "metadata": {},
     "source": [
      "<a name='specifications'></a>Specifications\n",
      "---\n",
      "Good programming projects have a clear set of specifications that need to be met. These specifications are often open to revision as the project moves forward, but there should be a clear road map that outlines critical features and design parameters. It tells you what users of a project will see, and what they will be able to do."
     ]
    },
    {
     "cell_type": "markdown",
     "metadata": {},
     "source": [
      "<a name='users_see'></a>Educator News - What users see\n",
      "---\n",
      "Here are the major goals of the Educator News project:\n",
      "\n",
      "- A landing page will tell people what Educator News is, and why they should get involved.\n",
      "    - It will allow people to register.\n",
      "    - It will link to the \"front page\" of articles.\n",
      "- A \"submit\" page will allow registered users to submit new articles.\n",
      "    - Users can submit a url and title.\n",
      "- A \"new\" page will list the newest articles that have been submitted.\n",
      "    - Any registered user can upvote an article.\n",
      "    - Registered users with enough karma can downvote an article.\n",
      "    - Any registered user can comment on an article.\n",
      "- A \"front page\" will list the top articles that have been submitted."
     ]
    },
    {
     "cell_type": "markdown",
     "metadata": {},
     "source": [
      "[top](#)"
     ]
    },
    {
     "cell_type": "markdown",
     "metadata": {},
     "source": [
      "<a name='development_outline'></a>Development outline\n",
      "---\n",
      "The overall steps to make this happen are roughly the following:\n",
      "\n",
      "- Set up a Django project within a virtual environment (virtualenv).\n",
      "- Develop the user model.\n",
      "- Build a landing page, allowing users to register.\n",
      "- Deploy the landing page.\n",
      "    - This is mostly to start a realistic cycle of develop -> deploy -> revise -> deploy.\n",
      "    - In most projects, you'd do more local development before bothering to deploy.\n",
      "    - Use twitter bootstrap for styling.\n",
      "- Develop the article model.\n",
      "- Build the \"submit\" page.\n",
      "    - Deploy the submit page.\n",
      "- Build the \"new\" page.\n",
      "    - Deploy the new page.\n",
      "- Build the \"front\" page.\n",
      "    - Deploy the front page.\n",
      "- Share with a small audience.\n",
      "    - Gauge initial interest.\n",
      "    - Gather initial feedback.\n",
      "- Identify rest of needed features\n",
      "    - Build and deploy.\n",
      "- Identify and start to implement other infrastructure:\n",
      "    - Monitoring traffic\n",
      "    - Issue tracker\n",
      "    - Backup routines\n",
      "    - Fighting spam\n",
      "    - Montoring quality of submissions"
     ]
    },
    {
     "cell_type": "markdown",
     "metadata": {},
     "source": [
      "[top](#)"
     ]
    },
    {
     "cell_type": "markdown",
     "metadata": {},
     "source": [
      "<a name='other_notes'></a>Other notes\n",
      "---\n",
      "A few other notes:\n",
      "\n",
      "- This is an open-source project, which will be hosted on Github.\n",
      "- This is a non-profit project. It will be free, and users will not see any ads."
     ]
    },
    {
     "cell_type": "markdown",
     "metadata": {},
     "source": [
      "[top](#)"
     ]
    },
    {
     "cell_type": "markdown",
     "metadata": {},
     "source": [
      "<a name='starting_project'></a>Starting the project\n",
      "===\n",
      "Some of the terminology can be a little confusing when you first start working with Django. A site that is built in Django is called a *project*, and a project can be made up of any number of *apps*. Every project has at least one app.\n",
      "\n",
      "When you start building a project in Django, your project will use a number of different packages. It is quite possible your system will evolve over the life of your project, so that your system's packages no longer match the packages you used in your Django project. To manage these kinds of issues, it is strongly recommended that you do your project work in a virtual environment.\n",
      "\n",
      "A virtual environment is an isolated environment on your system that has a specific set of packages. This way you can even have projects that use different versions of Django on the same computer. This also allows you to choose when to upgrade the packages you use for a project, based on that particular project's schedule. You can update each project on its own timeframe, rather than having to upgrade everything on your system at once. You can also easily help other developers create an environment that is identical to your own, so that everyone involved in a project can be working with the exact same set of packages."
     ]
    },
    {
     "cell_type": "markdown",
     "metadata": {},
     "source": [
      "<a name='setting_up_environment'></a>Setting up a virtual environment\n",
      "---\n"
     ]
    },
    {
     "cell_type": "code",
     "collapsed": false,
     "input": [
      "$ mkdir -p /srv/projects/educator_news\n",
      "$ cd /srv/projects/educator_news\n",
      "$ virtualenv venv\n",
      "$ source venv/bin/activate\n",
      "(venv)$ pip install Django psycopg2 South dj-database-url\n",
      "(venv)$ django-admin.py startproject educator_news\n",
      "(venv)$ cd educator_news\n",
      "(venv)educator_news$ python manage.py runserver\n",
      "...\n",
      "Starting development server at http://127.0.0.1:8000/\n",
      "Quit the server with CONTROL-C."
     ],
     "language": "python",
     "metadata": {},
     "outputs": []
    },
    {
     "cell_type": "markdown",
     "metadata": {},
     "source": [
      "If this worked, you will see a browser tab showing an active, empty Django project:\n",
      "\n",
      "![Django new project page](/files/images/django_it_worked.png)"
     ]
    },
    {
     "cell_type": "markdown",
     "metadata": {},
     "source": [
      "[top](#)"
     ]
    },
    {
     "cell_type": "markdown",
     "metadata": {},
     "source": [
      "- - -\n",
      "[Home](http://nbviewer.ipython.org/urls/raw.github.com/ehmatthes/intro_programming/master/notebooks/index.ipynb)"
     ]
    }
   ],
   "metadata": {}
  }
 ]
}