{
 "metadata": {
  "name": ""
 },
 "nbformat": 3,
 "nbformat_minor": 0,
 "worksheets": [
  {
   "cells": [
    {
     "cell_type": "markdown",
     "metadata": {},
     "source": [
      "Educator News - A Django Tutorial\n",
      "===\n",
      "I have learned a lot from reading [Hacker News](http://news.ycombinator.com) over the last few years, and I have wished there was a similar forum for gathering and discussing articles related to education. I have seen at least one attempt at making a clone of HN for education, but the project did not go anywhere. This is an attempt to make an HN-inspired site for education. In the process, you will see how to build, deploy, and maintain a web application using the Django framework."
     ]
    },
    {
     "cell_type": "markdown",
     "metadata": {},
     "source": [
      "[Home](http://nbviewer.ipython.org/urls/raw.github.com/ehmatthes/intro_programming/master/notebooks/index.ipynb)"
     ]
    },
    {
     "cell_type": "markdown",
     "metadata": {},
     "source": [
      "Contents\n",
      "===\n",
      "- [Overview and Specifications](#overview)\n",
      "    - [One sentence](#one_sentence)\n",
      "    - [Elevator pitch](#elevator_pitch)\n",
      "    - [Specifications](#specifications)\n",
      "        - [Educator News - what users see](#users_see)\n",
      "        - [Development outline](#development_outline)\n",
      "        - [Other notes](#other_notes)"
     ]
    },
    {
     "cell_type": "markdown",
     "metadata": {},
     "source": [
      "[top](#)"
     ]
    },
    {
     "cell_type": "markdown",
     "metadata": {},
     "source": [
      "<a name='overview'></a>Overview\n",
      "===\n",
      "When creating a new project that you are excited about, it is tempting to jump right into writing code. This is rarely a recipe for success; it is almost always good to put some of your ideas and goals into writing first. Before writing any code it is good to lay out a clear vision, and then lay out a series of goals that you aim to achieve. This will help guide you into developing the product you want, rather than being pulled into something that is easy or satisfying to code but may be less useful."
     ]
    },
    {
     "cell_type": "markdown",
     "metadata": {},
     "source": [
      "<a name='one_sentence'></a>One sentence\n",
      "---\n",
      "It is helpful to come up with a one-sentence description of your project. Here is a one-sentence description of Educator News:\n",
      "\n",
      "#### \"Educator News is a place to share and discuss articles of interest to educators, with a focus on improving the professionalism of the field as a whole.\"\n",
      "    \n",
      "This sentence, if written carefully, can help you evaluate whether you are staying true to your original vision as you begin to write code."
     ]
    },
    {
     "cell_type": "markdown",
     "metadata": {},
     "source": [
      "<a name='elevator_pitch'></a>Elevator pitch\n",
      "---\n",
      "An *elevator pitch* is a slightly longer description that still gets at the heart of what the project should be. It answers the question, \"If you were in an elevator for a brief ride with someone you really wanted on board your project, what would you say?\" Here is an elevator pitch for Educator News:\n",
      "\n",
      "#### \"A professional sharing of ideas between educators is good for everyone. It allows teachers to do the best job possible, and it allows their students to have the best opportunity for learning. Most online communities for educators, however, devolve into online versions of a bad teachers' lounge. They are very negative, with a constant focus on complaints with little constructive and professional thinking. Educator News aims to help teachers and people interested in education share high-quality articles about the profession of teaching, and engage in constructive conversations about how to increase the professionalism of the education field.\""
     ]
    },
    {
     "cell_type": "markdown",
     "metadata": {},
     "source": [
      "[top](#)"
     ]
    },
    {
     "cell_type": "markdown",
     "metadata": {},
     "source": [
      "<a name='specifications'></a>Specifications\n",
      "---\n",
      "Good programming projects have a clear set of specifications that need to be met. These specifications are often open to revision as the project moves forward, but there should be a clear road map that outlines critical features and design parameters. It tells you what users of a project will see, and what they will be able to do."
     ]
    },
    {
     "cell_type": "markdown",
     "metadata": {},
     "source": [
      "<a name='users_see'></a>Educator News - What users see\n",
      "---\n",
      "Here are the major goals of the Educator News project:\n",
      "\n",
      "- A landing page will tell people what Educator News is, and why they should get involved.\n",
      "    - It will allow people to register.\n",
      "    - It will link to the \"front page\" of articles.\n",
      "- A \"submit\" page will allow registered users to submit new articles.\n",
      "    - Users can submit a url and title.\n",
      "- A \"new\" page will list the newest articles that have been submitted.\n",
      "    - Any registered user can upvote an article.\n",
      "    - Registered users with enough karma can downvote an article.\n",
      "    - Any registered user can comment on an article.\n",
      "- A \"front page\" will list the top articles that have been submitted."
     ]
    },
    {
     "cell_type": "markdown",
     "metadata": {},
     "source": [
      "[top](#)"
     ]
    },
    {
     "cell_type": "markdown",
     "metadata": {},
     "source": [
      "<a name='development_outline'></a>Development outline\n",
      "---\n",
      "The overall steps to make this happen are roughly the following:\n",
      "\n",
      "- Set up a Django project within a virtual environment (virtualenv).\n",
      "- Develop the user model.\n",
      "- Build a landing page, allowing users to register.\n",
      "- Deploy the landing page.\n",
      "    - This is mostly to start a realistic cycle of develop -> deploy -> revise -> deploy.\n",
      "    - In most projects, you'd do more local development before bothering to deploy.\n",
      "    - Use twitter bootstrap for styling.\n",
      "- Develop the article model.\n",
      "- Build the \"submit\" page.\n",
      "    - Deploy the submit page.\n",
      "- Build the \"new\" page.\n",
      "    - Deploy the new page.\n",
      "- Build the \"front\" page.\n",
      "    - Deploy the front page.\n",
      "- Share with a small audience.\n",
      "    - Gauge initial interest.\n",
      "    - Gather initial feedback.\n",
      "- Identify rest of needed features\n",
      "    - Build and deploy.\n",
      "- Identify and start to implement other infrastructure:\n",
      "    - Monitoring traffic\n",
      "    - Issue tracker\n",
      "    - Backup routines\n",
      "    - Fighting spam\n",
      "    - Montoring quality of submissions"
     ]
    },
    {
     "cell_type": "markdown",
     "metadata": {},
     "source": [
      "[top](#)"
     ]
    },
    {
     "cell_type": "markdown",
     "metadata": {},
     "source": [
      "<a name='other_notes'></a>Other notes\n",
      "---\n",
      "A few other notes:\n",
      "\n",
      "- This is an open-source project, which will be hosted on Github.\n",
      "- This is a non-profit project. It will be free, and users will not see any ads."
     ]
    },
    {
     "cell_type": "markdown",
     "metadata": {},
     "source": [
      "- - -\n",
      "[Home](http://nbviewer.ipython.org/urls/raw.github.com/ehmatthes/intro_programming/master/notebooks/index.ipynb)"
     ]
    }
   ],
   "metadata": {}
  }
 ]
}