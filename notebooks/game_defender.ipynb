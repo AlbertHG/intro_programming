{
 "metadata": {
  "name": ""
 },
 "nbformat": 3,
 "nbformat_minor": 0,
 "worksheets": [
  {
   "cells": [
    {
     "cell_type": "markdown",
     "metadata": {},
     "source": [
      "2d Game: Defender Clone\n",
      "===\n",
      "This project introduces the Pygame framework, by creating a simple clone of the classic game [Defender](http://en.wikipedia.org/wiki/Defender_(video_game). Defender is a 2d horizontal scrolling game. You move your ship up and down, and a bit left and right, and destroy aliens that come at you from the right."
     ]
    },
    {
     "cell_type": "markdown",
     "metadata": {},
     "source": [
      "Contents\n",
      "---\n",
      "- [Overview](#overview)\n",
      "- [Installing Pygame](#installing)\n",
      "- [Create a Ship](#create_ship)"
     ]
    },
    {
     "cell_type": "markdown",
     "metadata": {},
     "source": [
      "<a name='overview'></a>Overview\n",
      "---\n",
      "We'll focus on just a few main objectives:\n",
      "\n",
      "- Create a ship that can fly anywhere on the screen using the arrow keys.\n",
      "- Allow the ship to fire bullets that travel to the right.\n",
      "- Create aliens that travel from right to left.\n",
      "- Create a ground that passes from right to left."
     ]
    },
    {
     "cell_type": "markdown",
     "metadata": {},
     "source": [
      "<a name='installing'></a>Installing Pygame\n",
      "---\n",
      "To install Pygame on an Ubuntu system,\n",
      "\n",
      "    sudo apt-get install python-pygame"
     ]
    },
    {
     "cell_type": "markdown",
     "metadata": {},
     "source": [
      "<a name='create_ship'></a>Create a Ship\n",
      "---\n",
      "\n",
      "## Create a screen\n",
      "\n",
      "First we need to create a screen that we can draw to. Save the following as *defender.py*:\n"
     ]
    },
    {
     "cell_type": "code",
     "collapsed": true,
     "input": [
      "import pygame\n",
      " \n",
      "def run_game():\n",
      "    # screen and game parameters\n",
      "    screen_width, screen_height = 800, 600\n",
      " \n",
      "    # initialize game\n",
      "    pygame.init()\n",
      "    screen = pygame.display.set_mode( (screen_width, screen_height), 0, 32)\n",
      " \n",
      "run_game()"
     ],
     "language": "python",
     "metadata": {},
     "outputs": []
    },
    {
     "cell_type": "markdown",
     "metadata": {},
     "source": [
      "We import Pygame, and then define a function that will run the overall game. This function is almost empty for now; it defines screen dimensions, and initializes the game. It builds a screen object.\n",
      "\n",
      "When you run this, you should see a game screen appear briefly, and then disappear. To make the window stick around, we need to add an *event loop* to the game. The event loop watches for events that affect gameplay such as key presses and mouse movement. The loop also provides a way to make periodic adjustments to the screen such as making the background scroll to the right."
     ]
    },
    {
     "cell_type": "code",
     "collapsed": false,
     "input": [
      "###highlight=[3,13,14,15,16,17]\n",
      "import pygame\n",
      "import sys\n",
      " \n",
      "def run_game():\n",
      "    # screen and game parameters\n",
      "    screen_width, screen_height = 800, 600\n",
      " \n",
      "    # initialize game\n",
      "    pygame.init()\n",
      "    screen = pygame.display.set_mode( (screen_width, screen_height), 0, 32)\n",
      "    \n",
      "    # Main event loop.\n",
      "    while True:\n",
      "        for event in pygame.event.get():\n",
      "            if event.type == pygame.QUIT:\n",
      "                sys.exit()\n",
      " \n",
      "run_game()"
     ],
     "language": "python",
     "metadata": {},
     "outputs": []
    }
   ],
   "metadata": {}
  }
 ]
}