{
 "metadata": {
  "name": ""
 },
 "nbformat": 3,
 "nbformat_minor": 0,
 "worksheets": [
  {
   "cells": [
    {
     "cell_type": "markdown",
     "metadata": {},
     "source": [
      "2d Game: Defender Clone\n",
      "===\n",
      "This project introduces the Pygame framework, by creating a simple clone of the classic game [Defender](http://en.wikipedia.org/wiki/Defender_(video_game). Defender is a 2d horizontal scrolling game. You move your ship up and down, and a bit left and right, and destroy aliens that come at you from the right."
     ]
    },
    {
     "cell_type": "markdown",
     "metadata": {},
     "source": [
      "Contents\n",
      "---\n",
      "- [Overview](#overview)\n",
      "- [Installing Pygame](#installing)\n",
      "- [Create a Ship](#create_ship)\n",
      "- [Making the Ship Move](#ship_moves)"
     ]
    },
    {
     "cell_type": "markdown",
     "metadata": {},
     "source": [
      "<a name='overview'></a>Overview\n",
      "---\n",
      "We'll focus on just a few main objectives:\n",
      "\n",
      "- Create a ship that can fly anywhere on the screen using the arrow keys.\n",
      "- Allow the ship to fire bullets that travel to the right.\n",
      "- Create aliens that travel from right to left.\n",
      "  - Aliens appear at random intervals, with the rate increasing as the game goes on.\n",
      "  - If you don't shoot an alien before it disappears to the left, it reappears on the right.\n",
      "- Create a ground that passes from right to left."
     ]
    },
    {
     "cell_type": "markdown",
     "metadata": {},
     "source": [
      "<a name='installing'></a>Installing Pygame\n",
      "---\n",
      "To install Pygame on an Ubuntu system,\n",
      "\n",
      "    sudo apt-get install python-pygame"
     ]
    },
    {
     "cell_type": "markdown",
     "metadata": {},
     "source": [
      "<a name='create_ship'></a>Create a Ship\n",
      "---\n",
      "\n",
      "### Creating a screen\n",
      "\n",
      "First we need to create a screen that we can draw to. Save the following as *defender.py*:\n"
     ]
    },
    {
     "cell_type": "code",
     "collapsed": true,
     "input": [
      "import pygame\n",
      " \n",
      "def run_game():\n",
      "    # screen and game parameters\n",
      "    screen_width, screen_height = 800, 600\n",
      " \n",
      "    # initialize game\n",
      "    pygame.init()\n",
      "    screen = pygame.display.set_mode( (screen_width, screen_height), 0, 32)\n",
      " \n",
      "run_game()"
     ],
     "language": "python",
     "metadata": {},
     "outputs": []
    },
    {
     "cell_type": "markdown",
     "metadata": {},
     "source": [
      "We import Pygame, and then define a function that will run the overall game. This function is almost empty for now; it defines screen dimensions, and initializes the game. It builds a screen object.\n",
      "\n",
      "When you run this, you should see a game screen appear briefly, and then disappear. To make the window stick around, we need to add an *event loop* to the game. The event loop watches for events that affect gameplay such as key presses and mouse movement. The loop also provides a way to make periodic adjustments to the screen such as making the background scroll to the right."
     ]
    },
    {
     "cell_type": "code",
     "collapsed": false,
     "input": [
      "###highlight=[3,13,14,15,16,17]\n",
      "import pygame\n",
      "import sys\n",
      " \n",
      "def run_game():\n",
      "    # screen and game parameters\n",
      "    screen_width, screen_height = 800, 600\n",
      " \n",
      "    # initialize game\n",
      "    pygame.init()\n",
      "    screen = pygame.display.set_mode( (screen_width, screen_height), 0, 32)\n",
      "    \n",
      "    # Main event loop.\n",
      "    while True:\n",
      "        for event in pygame.event.get():\n",
      "            if event.type == pygame.QUIT:\n",
      "                sys.exit()\n",
      " \n",
      "run_game()"
     ],
     "language": "python",
     "metadata": {},
     "outputs": []
    },
    {
     "cell_type": "markdown",
     "metadata": {},
     "source": [
      "The `import sys` call allows us to use the `sys.exit()` function, which ends the program and closes the window. The orange close button on the top left of the window triggers a `pygame.QUIT` event, which we use to trigger a call to `sys.exit()`.\n",
      "\n",
      "When you run *defender.py* now, you should see an empty window appear, and stay on the screen until you close it:\n",
      "\n",
      "![Empty Pygame window](/files/images/pygame_empty_window.png)"
     ]
    },
    {
     "cell_type": "markdown",
     "metadata": {},
     "source": [
      "Now let's set a background color for the window. The game takes place in space, so let's use a dark gray color:"
     ]
    },
    {
     "cell_type": "code",
     "collapsed": false,
     "input": [
      "###highlight=[8,20,21,22]\n",
      "import pygame\n",
      "import sys\n",
      " \n",
      "def run_game():\n",
      "    # screen and game parameters\n",
      "    screen_width, screen_height = 800, 600\n",
      "    bg_color = 50, 50, 50\n",
      " \n",
      "    # initialize game\n",
      "    pygame.init()\n",
      "    screen = pygame.display.set_mode( (screen_width, screen_height), 0, 32)\n",
      "    \n",
      "    # Main event loop.\n",
      "    while True:\n",
      "        for event in pygame.event.get():\n",
      "            if event.type == pygame.QUIT:\n",
      "                sys.exit()\n",
      " \n",
      "        # Redraw the screen on each pass through the event loop.\n",
      "        screen.fill(bg_color)\n",
      "        pygame.display.flip()\n",
      "\n",
      "run_game()"
     ],
     "language": "python",
     "metadata": {},
     "outputs": []
    },
    {
     "cell_type": "markdown",
     "metadata": {},
     "source": [
      "We set the background color with the values `50, 50, 50`. These are three numbers from 0 to 255, representing the red green and blue values of the color you want. `0,0,0` is black, `255, 255, 255` is white, and `255, 0, 0` is red.\n",
      "\n",
      "We also add two lines to the main event loop which redraw the screen on each pass through the loop. At this point that only means filling the screen with the background color again, and then *flipping* from the old screen to the new screen. This is where Pygame is saving you some significant work. If you were writing a game without the help of a framework such as Pygame, you'd have to draw a new screen in the background, and then tell Python to tell your system to hide the old screen and show the new one. Pygame lets you do this in one line; `pygame.display.flip()`.\n",
      "\n",
      "If you run the game again, you'll see a dark gray background."
     ]
    },
    {
     "cell_type": "markdown",
     "metadata": {},
     "source": [
      "###Drawing a Ship\n",
      "\n",
      "The simplest way to get a ship is to find an image online that you can use in your game. If you are artistically inclined, or have an artistic colleague, you can create an image in any standard file format and use it in your game. This project will focus on `.png` files.\n",
      "\n",
      "The site [openclipart.org[(https://openclipart.org/) is a great resource for finding simple images and icons when you are learning to make games. I found a [rocket](https://openclipart.org/detail/21988/toy-rocket-by-nicubunu) I like, and used Gimp to scale it down to 50 pixels wide. Feel free to right click on this image, save it to your project folder, and use this rocket in your game:\n",
      "\n",
      "![rocket for defender.py](/files/images/defender_rocket_50px.png)\n",
      "\n",
      "Now we need to describe the ship in a way that it can be used in a program. We'll do this by making a class that represents our ship. Save the following code as *ship.py*:"
     ]
    },
    {
     "cell_type": "code",
     "collapsed": false,
     "input": [
      "import pygame\n",
      "from pygame.sprite import Sprite\n",
      "\n",
      "class Ship(Sprite):\n",
      "    \"\"\"A class representing the player's ship.\"\"\"\n",
      "    def __init__(self, screen):\n",
      "        \"\"\"Initialize the screen that this ship is associated with,\n",
      "        and set some initial parameters for the ship.\n",
      "        \"\"\"\n",
      "        Sprite.__init__(self)\n",
      "        self.screen = screen\n",
      "        self.image = pygame.image.load('defender_ship_50px.png').convert_alpha()\n",
      "        self.image_w, self.image_h = self.image.get_size()\n",
      "        \n",
      "        screen_w, screen_h = self.screen.get_size()        \n",
      "        self.x_position = screen_w/4 - self.image_w/2\n",
      "        self.y_position = screen_h/2 - self.image_h/2\n",
      "        \n",
      "    def blitme(self):\n",
      "        \"\"\"Draws the ship to the screen.\"\"\"\n",
      "        draw_pos = self.image.get_rect().move(self.x_position, self.y_position)\n",
      "        self.screen.blit(self.image, draw_pos)"
     ],
     "language": "python",
     "metadata": {},
     "outputs": []
    },
    {
     "cell_type": "markdown",
     "metadata": {},
     "source": [
      "This file doesn't do anything by itself; it just defines what a `Ship` is, and what a `ship` can do.\n",
      "\n",
      "For now the `__init__()` function only needs one piece of information, the `screen` object that the ship will be displayed on. \n",
      "\n",
      "The ship is really just an image right now. We need to tell Pygame where to find the ship's image, and we tell Pygame to load the image. The call to `convert_alpha()` is needed to turn the .png image into an object that Pygame can work with. After this, we can use `self.image` to refer to the image of the ship in the game.\n",
      "\n",
      "We use `self.image.get_size()` to store the ship's width and height. We'll use these values to draw the ship, centered at the point we want to. If you are new to screen coordinates, it's useful to note that the y-axis has its zero at the top of the screen, where we tend to start reading. This is also a useful convention in that we always have a top of a window, but many windows such as browsers, can extend off the screen at the bottom.\n",
      "\n",
      "The `blitme()` function is critical to understanding how to use Pygame. The word *blit* refers to redrawing an object to the screen. Good game animation is all about managing how, when, and where you draw objects that have changed. Pygame manages most of this for us, and the `blitme()` function is where we specify what needs to be redrawn. In this case, we tell the ship to draw itself at its current x and y position. The `self.screen.blit()` call applies this drawing to our screen.\n",
      "\n",
      "Now we need to modify *defender.py* a bit, so that the ship appears on the game screen:"
     ]
    },
    {
     "cell_type": "code",
     "collapsed": false,
     "input": [
      "###highlight=[4,15,16,27,28]\n",
      "import pygame\n",
      "import sys\n",
      "from ship import Ship\n",
      " \n",
      "def run_game():\n",
      "    # screen and game parameters\n",
      "    screen_width, screen_height = 800, 600\n",
      "    bg_color = 50, 50, 50\n",
      " \n",
      "    # initialize game\n",
      "    pygame.init()\n",
      "    screen = pygame.display.set_mode( (screen_width, screen_height), 0, 32)\n",
      "    \n",
      "    # Create a ship.\n",
      "    new_ship = Ship(screen)\n",
      "\n",
      "    # Main event loop.\n",
      "    while True:\n",
      "        for event in pygame.event.get():\n",
      "            if event.type == pygame.QUIT:\n",
      "                sys.exit()\n",
      " \n",
      "        # Redraw the screen on each pass through the event loop.\n",
      "        screen.fill(bg_color)\n",
      "\n",
      "        # Draw player's ship to the screen.\n",
      "        new_ship.blitme()\n",
      "\n",
      "        pygame.display.flip()\n",
      "\n",
      "run_game()"
     ],
     "language": "python",
     "metadata": {},
     "outputs": []
    },
    {
     "cell_type": "markdown",
     "metadata": {},
     "source": [
      "There are a few changes here. First we need to import the `Ship` class into the main *defender.py* file. We need to make a `ship` object from the `Ship` class, and pass it a reference to the game's screen object. Then we need to draw the ship on each pass through the main event loop. We do this by calling the ship's `blitme()` function. Whenever something causes the ship's x or y coordinates to change, the ship will move.\n",
      "\n",
      "When you run *defender.py* again, you'll see the ship on the left part of the screen, halfway between the top and bottom of the screen:\n",
      "\n",
      "![ship drawn on screen](/files/images/defender_ship_appears.png)"
     ]
    },
    {
     "cell_type": "markdown",
     "metadata": {},
     "source": [
      "<a name='ship_moves'></a>Making the Ship Move\n",
      "---\n",
      "\n",
      "Now that we have a ship, we want to give the player the ability to move the ship. Let's first let the player move the ship up:"
     ]
    },
    {
     "cell_type": "code",
     "collapsed": false,
     "input": [],
     "language": "python",
     "metadata": {},
     "outputs": []
    }
   ],
   "metadata": {}
  }
 ]
}