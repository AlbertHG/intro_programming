{
 "metadata": {
  "name": ""
 },
 "nbformat": 3,
 "nbformat_minor": 0,
 "worksheets": [
  {
   "cells": [
    {
     "cell_type": "markdown",
     "metadata": {},
     "source": [
      "2d Game: Defender Clone\n",
      "===\n",
      "This project introduces the Pygame framework, by creating a simple clone of the classic game [Defender](http://en.wikipedia.org/wiki/Defender_(video_game). Defender is a 2d horizontal scrolling game. You move your ship up and down, and a bit left and right, and destroy aliens that come at you from the right."
     ]
    },
    {
     "cell_type": "markdown",
     "metadata": {},
     "source": [
      "Contents\n",
      "---\n",
      "- [Overview](#overview)\n",
      "- [Installing Pygame](#installing)\n",
      "- [Create a Ship](#create_ship)"
     ]
    },
    {
     "cell_type": "markdown",
     "metadata": {},
     "source": [
      "<a name='overview'></a>Overview\n",
      "---\n",
      "We'll focus on just a few main objectives:\n",
      "\n",
      "- Create a ship that can fly anywhere on the screen using the arrow keys.\n",
      "- Allow the ship to fire bullets that travel to the right.\n",
      "- Create aliens that travel from right to left.\n",
      "- Create a ground that passes from right to left."
     ]
    },
    {
     "cell_type": "markdown",
     "metadata": {},
     "source": [
      "<a name='installing'></a>Installing Pygame\n",
      "---\n",
      "To install Pygame on an Ubuntu system,\n",
      "\n",
      "    sudo apt-get install python-pygame"
     ]
    },
    {
     "cell_type": "markdown",
     "metadata": {},
     "source": [
      "<a name='create_ship'></a>Create a Ship\n",
      "---\n",
      "\n",
      "### Create a screen\n",
      "\n",
      "First we need to create a screen that we can draw to. Save the following as *defender.py*:\n"
     ]
    },
    {
     "cell_type": "code",
     "collapsed": true,
     "input": [
      "import pygame\n",
      " \n",
      "def run_game():\n",
      "    # screen and game parameters\n",
      "    screen_width, screen_height = 800, 600\n",
      " \n",
      "    # initialize game\n",
      "    pygame.init()\n",
      "    screen = pygame.display.set_mode( (screen_width, screen_height), 0, 32)\n",
      " \n",
      "run_game()"
     ],
     "language": "python",
     "metadata": {},
     "outputs": []
    },
    {
     "cell_type": "markdown",
     "metadata": {},
     "source": [
      "We import Pygame, and then define a function that will run the overall game. This function is almost empty for now; it defines screen dimensions, and initializes the game. It builds a screen object.\n",
      "\n",
      "When you run this, you should see a game screen appear briefly, and then disappear. To make the window stick around, we need to add an *event loop* to the game. The event loop watches for events that affect gameplay such as key presses and mouse movement. The loop also provides a way to make periodic adjustments to the screen such as making the background scroll to the right."
     ]
    },
    {
     "cell_type": "code",
     "collapsed": false,
     "input": [
      "###highlight=[3,13,14,15,16,17]\n",
      "import pygame\n",
      "import sys\n",
      " \n",
      "def run_game():\n",
      "    # screen and game parameters\n",
      "    screen_width, screen_height = 800, 600\n",
      " \n",
      "    # initialize game\n",
      "    pygame.init()\n",
      "    screen = pygame.display.set_mode( (screen_width, screen_height), 0, 32)\n",
      "    \n",
      "    # Main event loop.\n",
      "    while True:\n",
      "        for event in pygame.event.get():\n",
      "            if event.type == pygame.QUIT:\n",
      "                sys.exit()\n",
      " \n",
      "run_game()"
     ],
     "language": "python",
     "metadata": {},
     "outputs": []
    },
    {
     "cell_type": "markdown",
     "metadata": {},
     "source": [
      "The `import sys` call allows us to use the `sys.exit()` function, which ends the program and closes the window. The orange close button on the top left of the window triggers a `pygame.QUIT` event, which we use to trigger a call to `sys.exit()`.\n",
      "\n",
      "When you run *defender.py* now, you should see an empty window appear, and stay on the screen until you close it:\n",
      "\n",
      "![Empty Pygame window](/files/images/pygame_empty_window.png)"
     ]
    },
    {
     "cell_type": "markdown",
     "metadata": {},
     "source": [
      "Now let's set a background color for the window. The game takes place in space, so let's use a dark gray color:"
     ]
    },
    {
     "cell_type": "code",
     "collapsed": false,
     "input": [
      "###highlight=[8,20,21,22]\n",
      "import pygame\n",
      "import sys\n",
      " \n",
      "def run_game():\n",
      "    # screen and game parameters\n",
      "    screen_width, screen_height = 800, 600\n",
      "    bg_color = 50, 50, 50\n",
      " \n",
      "    # initialize game\n",
      "    pygame.init()\n",
      "    screen = pygame.display.set_mode( (screen_width, screen_height), 0, 32)\n",
      "    \n",
      "    # Main event loop.\n",
      "    while True:\n",
      "        for event in pygame.event.get():\n",
      "            if event.type == pygame.QUIT:\n",
      "                sys.exit()\n",
      " \n",
      "        # Redraw the screen on each pass through the event loop.\n",
      "        screen.fill(bg_color)\n",
      "        pygame.display.flip()\n",
      "\n",
      "run_game()"
     ],
     "language": "python",
     "metadata": {},
     "outputs": []
    },
    {
     "cell_type": "markdown",
     "metadata": {},
     "source": [
      "We set the background color with the values `50, 50, 50`. These are three numbers from 0 to 255, representing the red green and blue values of the color you want. `0,0,0` is black, `255, 255, 255` is white, and `255, 0, 0` is red.\n",
      "\n",
      "We also add two lines to the main event loop which redraw the screen on each pass through the loop. At this point that only means filling the screen with the background color again, and then *flipping* from the old screen to the new screen. This is where Pygame is saving you some significant work. If you were writing a game without the help of a framework such as Pygame, you'd have to draw a new screen in the background, and then tell Python to tell your system to hide the old screen and show the new one. Pygame lets you do this in one line; `pygame.display.flip()`.\n",
      "\n",
      "If you run the game again, you'll see a dark gray background."
     ]
    }
   ],
   "metadata": {}
  }
 ]
}