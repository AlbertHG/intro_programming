{
 "metadata": {
  "name": ""
 },
 "nbformat": 3,
 "nbformat_minor": 0,
 "worksheets": [
  {
   "cells": [
    {
     "cell_type": "markdown",
     "metadata": {},
     "source": [
      "<a name='top'></a>Dictionaries\n",
      "===\n",
      "Dictionaries allow us to store connected bits of information. For example, you might store a person's name and age together."
     ]
    },
    {
     "cell_type": "markdown",
     "metadata": {},
     "source": [
      "[Previous: Basic Terminal Apps](http://nbviewer.ipython.org/urls/raw.github.com/ehmatthes/intro_programming/master/notebooks/terminal_apps.ipynb) | \n",
      "[Introduction to Programming home page](http://nbviewer.ipython.org/urls/raw.github.com/ehmatthes/intro_programming/master/notebooks/index.ipynb) |\n",
      "[Next: More Functions](http://nbviewer.ipython.org/urls/raw.github.com/ehmatthes/intro_programming/master/notebooks/more_functions.ipynb)"
     ]
    },
    {
     "cell_type": "markdown",
     "metadata": {},
     "source": [
      "Contents\n",
      "===\n",
      "- [What are dictionaries?](#what)\n",
      "    - [General Syntax](#general_syntax)\n",
      "    - [Example](#example)\n",
      "    - [Exercises](#exercises_what)\n",
      "- [Common operations with dictionaries](#common_operations)\n",
      "    - [Adding new key-value pairs](#adding_pairs)"
     ]
    },
    {
     "cell_type": "markdown",
     "metadata": {},
     "source": [
      "[top](#top)"
     ]
    },
    {
     "cell_type": "markdown",
     "metadata": {},
     "source": [
      "<a name='what'></a>What are dictionaries?\n",
      "===\n",
      "Dictionaries are a way to store information that is connected in some way. Dictionaries store information in *key-value* pairs, so that any one piece of information in a dictionary is connected to at least one other piece of information."
     ]
    },
    {
     "cell_type": "markdown",
     "metadata": {},
     "source": [
      "<a name='general_syntax'></a>General Syntax\n",
      "---\n",
      "A general dictionary in Python looks something like this:"
     ]
    },
    {
     "cell_type": "code",
     "collapsed": false,
     "input": [
      "dictionary_name = {key_1: value_1, key_2: value_2, key_3: value_3}"
     ],
     "language": "python",
     "metadata": {},
     "outputs": []
    },
    {
     "cell_type": "markdown",
     "metadata": {},
     "source": [
      "Since the keys and values in dictionaries can be long, we often write just one key-value pair on a line. You might see dictionaries that look more like this:"
     ]
    },
    {
     "cell_type": "code",
     "collapsed": false,
     "input": [
      "dictionary_name = {key_1: value_1,\n",
      "                   key_2: value_2,\n",
      "                   key_3: value_3,\n",
      "                   }"
     ],
     "language": "python",
     "metadata": {},
     "outputs": []
    },
    {
     "cell_type": "markdown",
     "metadata": {},
     "source": [
      "This is a bit easier to read, especially if the values are long."
     ]
    },
    {
     "cell_type": "markdown",
     "metadata": {},
     "source": [
      "<a name='example'></a>Example\n",
      "---\n",
      "A simple example involves modeling an actual dictionary."
     ]
    },
    {
     "cell_type": "code",
     "collapsed": false,
     "input": [
      "python_words = {'list': 'A collection of values that are not connected, but have an order.',\n",
      "                'dictionary': 'A collection of key-value pairs.',\n",
      "                'function': 'A named set of instructions that defines a set of actions in Python.',\n",
      "                }"
     ],
     "language": "python",
     "metadata": {},
     "outputs": [],
     "prompt_number": 2
    },
    {
     "cell_type": "markdown",
     "metadata": {},
     "source": [
      "We can get individual items out of the dictionary, by giving the dictionary's name, and the key in square brackets:"
     ]
    },
    {
     "cell_type": "code",
     "collapsed": false,
     "input": [
      "python_words = {'list': 'A collection of values that are not connected, but have an order.',\n",
      "                'dictionary': 'A collection of key-value pairs.',\n",
      "                'function': 'A named set of instructions that defines a set of actions in Python.',\n",
      "                }\n",
      "\n",
      "print(\"\\nWord: %s\" % 'list')\n",
      "print(\"Meaning: %s\" % python_words['list'])\n",
      "      \n",
      "print(\"\\nWord: %s\" % 'dictionary')\n",
      "print(\"Meaning: %s\" % python_words['dictionary'])\n",
      "\n",
      "print(\"\\nWord: %s\" % 'function')\n",
      "print(\"Meaning: %s\" % python_words['function'])"
     ],
     "language": "python",
     "metadata": {},
     "outputs": [
      {
       "output_type": "stream",
       "stream": "stdout",
       "text": [
        "\n",
        "Word: list\n",
        "Meaning: A collection of values that are not connected, but have an order.\n",
        "\n",
        "Word: dictionary\n",
        "Meaning: A collection of key-value pairs.\n",
        "\n",
        "Word: function\n",
        "Meaning: A named set of instructions that defines a set of actions in Python.\n"
       ]
      }
     ],
     "prompt_number": 7
    },
    {
     "cell_type": "markdown",
     "metadata": {},
     "source": [
      "This code looks pretty repetitive, and it is. Dictionaries have their own for-loop syntax, but since there are two kinds of information in dictionaries, the structure is a bit more complicated than it is for lists. Here is how to use a for loop with a dictionary:"
     ]
    },
    {
     "cell_type": "code",
     "collapsed": false,
     "input": [
      "python_words = {'list': 'A collection of values that are not connected, but have an order.',\n",
      "                'dictionary': 'A collection of key-value pairs.',\n",
      "                'function': 'A named set of instructions that defines a set of actions in Python.',\n",
      "                }\n",
      "\n",
      "for word in python_words:\n",
      "    print(\"\\nWord: %s\" % word)\n",
      "    print(\"Meaning: %s\" % python_words[word])"
     ],
     "language": "python",
     "metadata": {},
     "outputs": [
      {
       "output_type": "stream",
       "stream": "stdout",
       "text": [
        "\n",
        "Word: function\n",
        "Meaning: A named set of instructions that defines a set of actions in Python.\n",
        "\n",
        "Word: list\n",
        "Meaning: A collection of values that are not connected, but have an order.\n",
        "\n",
        "Word: dictionary\n",
        "Meaning: A collection of key-value pairs.\n"
       ]
      }
     ],
     "prompt_number": 9
    },
    {
     "cell_type": "markdown",
     "metadata": {},
     "source": [
      "The output is identical, but we did it in 3 lines instead of 6. If we had 100 terms in our dictionary, we would still be able to print them out with just 3 lines.\n",
      "\n",
      "The only tricky part about using for loops with dictionaries is figuring out what to call that first variable. The general syntax for this for loop is:"
     ]
    },
    {
     "cell_type": "code",
     "collapsed": false,
     "input": [
      "for key_name in dictionary_name:\n",
      "    print(key_name) # The key is stored in whatever you called the first variable.\n",
      "    print(dictionary_name[key_name]) # You use the key to unlock the value from the dictionary."
     ],
     "language": "python",
     "metadata": {},
     "outputs": []
    },
    {
     "cell_type": "markdown",
     "metadata": {},
     "source": [
      "<a name='exercises_what'></a>Exercises\n",
      "---\n",
      "#### Pet Names\n",
      "- Create a dictionary to hold information about pets. Each key is an animal's name, and each value is the kind of animal.\n",
      "    - For example, 'Willie': 'dog'\n",
      "- Put at least 3 key-value pairs in your dictionary.\n",
      "- Use a for loop to print out a series of statements such as \"Willie is a dog.\""
     ]
    },
    {
     "cell_type": "markdown",
     "metadata": {},
     "source": [
      "[top](#top)"
     ]
    },
    {
     "cell_type": "markdown",
     "metadata": {},
     "source": [
      "<a name='common_operations'></a>Common operations with dictionaries\n",
      "===\n",
      "There are a few common things you will want to do with dictionaries. These include adding new key-value pairs, modifying information in the dictionary, and removing items from dictionaries."
     ]
    },
    {
     "cell_type": "markdown",
     "metadata": {},
     "source": [
      "<a name='adding_pairs'></a>Adding new key-value pairs\n",
      "---\n",
      "To add a new key-value pair, you give the dictionary name followed by the new key in square brackets, and set that equal to the new value. We will show this by starting with an empty dictionary, and re-creating the dictionary from the example above."
     ]
    },
    {
     "cell_type": "code",
     "collapsed": false,
     "input": [
      "# Create an empty dictionary.\n",
      "python_words = {}\n",
      "\n",
      "# Fill the dictionary, pair by pair.\n",
      "python_words['list'] ='A collection of values that are not connected, but have an order.'\n",
      "python_words['dictionary'] = 'A collection of key-value pairs.'\n",
      "python_words['function'] = 'A named set of instructions that defines a set of actions in Python.'\n",
      "\n",
      "# Print out the items in the dictionary.\n",
      "for word in python_words:\n",
      "    print(\"\\nWord: %s\" % word)\n",
      "    print(\"Meaning: %s\" % python_words[word])"
     ],
     "language": "python",
     "metadata": {},
     "outputs": [
      {
       "output_type": "stream",
       "stream": "stdout",
       "text": [
        "\n",
        "Word: function\n",
        "Meaning: A named set of instructions that defines a set of actions in Python.\n",
        "\n",
        "Word: list\n",
        "Meaning: A collection of values that are not connected, but have an order.\n",
        "\n",
        "Word: dictionary\n",
        "Meaning: A collection of key-value pairs.\n"
       ]
      }
     ],
     "prompt_number": 10
    },
    {
     "cell_type": "markdown",
     "metadata": {},
     "source": [
      "[top](#top)"
     ]
    },
    {
     "cell_type": "markdown",
     "metadata": {},
     "source": [
      "[Previous: Basic Terminal Apps](http://nbviewer.ipython.org/urls/raw.github.com/ehmatthes/intro_programming/master/notebooks/terminal_apps.ipynb) | \n",
      "[Introduction to Programming home page](http://nbviewer.ipython.org/urls/raw.github.com/ehmatthes/intro_programming/master/notebooks/index.ipynb) |\n",
      "[Next: More Functions](http://nbviewer.ipython.org/urls/raw.github.com/ehmatthes/intro_programming/master/notebooks/more_functions.ipynb)"
     ]
    }
   ],
   "metadata": {}
  }
 ]
}