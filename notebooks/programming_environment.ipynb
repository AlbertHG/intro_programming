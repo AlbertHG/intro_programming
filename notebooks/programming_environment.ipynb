{
 "metadata": {
  "name": "programming_environment"
 }, 
 "nbformat": 2, 
 "worksheets": [
  {
   "cells": [
    {
     "cell_type": "markdown", 
     "source": [
      "Programming Environment", 
      "===", 
      "We use Ubuntu Linux as our main programming environment, for a number of reasons. This page covers a number of things we need to be aware of to help use and maintain a Linux computer."
     ]
    }, 
    {
     "cell_type": "markdown", 
     "source": [
      "Contents", 
      "===", 
      "- Updating Ubuntu", 
      "- Terminal Shortcuts"
     ]
    }, 
    {
     "cell_type": "markdown", 
     "source": [
      "Updating Ubuntu", 
      "===", 
      "Running updates is a good idea; it keeps your computer functioning appropriately."
     ]
    }, 
    {
     "cell_type": "markdown", 
     "source": [
      "From the terminal", 
      "---", 
      "By taking this class, you have some interest in working with computers in a powerful way. The terminal is the most powerful way to use a linux computer, so let's jump in and use it whenever possible.", 
      "", 
      "Open a terminal using the keyboard shortcut Ctrl-Alt-T.", 
      "", 
      "Type the following command, and press enter:", 
      "", 
      "    sudo apt-get update", 
      "", 
      "You will have to enter your password. Do this, and watch the information scroll by. Your computer is looking to find out which packages can be updated.", 
      "", 
      "Type the following command, and press enter:", 
      "", 
      "    sudo apt-get dist-upgrade", 
      "", 
      "When you run this command, your computer downloads and installs all of the updates that were identified by the previous command.", 
      ""
     ]
    }, 
    {
     "cell_type": "markdown", 
     "source": [
      "Terminal Shortcuts", 
      "===", 
      "There are a few things that will help you become comfortable using the terminal.", 
      "", 
      "- Open a terminal: Ctrl-Alt-T", 
      "- Scroll through your previous terminal commands: up arrow, down arrow"
     ]
    }
   ]
  }
 ]
}