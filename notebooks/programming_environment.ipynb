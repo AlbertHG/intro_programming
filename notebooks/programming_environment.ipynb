{
 "metadata": {
  "name": "programming_environment"
 }, 
 "nbformat": 2, 
 "worksheets": [
  {
   "cells": [
    {
     "cell_type": "markdown", 
     "source": [
      "<a name='top'></a>Programming Environment", 
      "===", 
      "We use Ubuntu Linux as our main programming environment, for a number of reasons. This page covers a number of things we need to be aware of to help use and maintain a Linux computer."
     ]
    }, 
    {
     "cell_type": "markdown", 
     "source": [
      "[Introduction to Programming home page](http://nbviewer.ipython.org/urls/raw.github.com/ehmatthes/intro_programming/master/notebooks/intro_programming_index.ipynb)"
     ]
    }, 
    {
     "cell_type": "markdown", 
     "source": [
      "Contents", 
      "===", 
      "- [Updating Ubuntu](#updating)", 
      "- [Terminal Shortcuts](#terminal_shortcuts)", 
      "- [Installing Geany](#install_geany)"
     ]
    }, 
    {
     "cell_type": "markdown", 
     "source": [
      "<a name='updating'></a>Updating Ubuntu", 
      "===", 
      "Running updates is a good idea; it keeps your computer functioning appropriately."
     ]
    }, 
    {
     "cell_type": "markdown", 
     "source": [
      "From the terminal", 
      "---", 
      "By taking this class, you have some interest in working with computers in a powerful way. The terminal is the most powerful way to use a linux computer, so let's jump in and use it whenever possible.", 
      "", 
      "Open a terminal using the keyboard shortcut Ctrl-Alt-T.", 
      "", 
      "Type the following command, and press enter:", 
      "", 
      "    sudo apt-get update", 
      "", 
      "You will have to enter your password. Do this, and watch the information scroll by. Your computer is looking to find out which packages can be updated.", 
      "", 
      "Type the following command, and press enter:", 
      "", 
      "    sudo apt-get dist-upgrade", 
      "", 
      "When you run this command, your computer downloads and installs all of the updates that were identified by the previous command."
     ]
    }, 
    {
     "cell_type": "markdown", 
     "source": [
      "[top](#top)"
     ]
    }, 
    {
     "cell_type": "markdown", 
     "source": [
      "<a name='terminal_shortcuts'></a>Terminal Shortcuts", 
      "===", 
      "There are a few things that will help you become comfortable using the terminal.", 
      "", 
      "- Open a terminal: Ctrl-Alt-T", 
      "- Scroll through your previous terminal commands: up arrow, down arrow"
     ]
    }, 
    {
     "cell_type": "markdown", 
     "source": [
      "[top](#top)"
     ]
    }, 
    {
     "cell_type": "markdown", 
     "source": [
      "<a name='install_geany'></a>Installing Geany", 
      "===", 
      "Geany is one of the text editors we will use for writing programs. Geany is a simple editor, which makes it easy to run programs. Output is shown in a separate terminal window, which gets you used to working in terminals as well."
     ]
    }, 
    {
     "cell_type": "markdown", 
     "source": [
      "Open a terminal.", 
      "", 
      "    sudo apt-get install geany", 
      "", 
      "Press the windows button, and type 'geany'.", 
      "", 
      "Drag the geany icon to the task bar on the left side of the screen. This creates a shortcut you can use to start geany.", 
      "", 
      "Write a Hello World program, and save it as 'hello.py'.", 
      "", 
      "There are three ways you can run a program in Geany:", 
      "", 
      "- Build > Execute", 
      "- Press F5", 
      "- Click the icon with three gears on it", 
      "", 
      "You should see a terminal window pop up, with your output in it."
     ]
    }, 
    {
     "cell_type": "markdown", 
     "source": [
      "[top](#top)"
     ]
    }, 
    {
     "cell_type": "markdown", 
     "source": [
      "- - -", 
      "[Introduction to Programming home page](http://nbviewer.ipython.org/urls/raw.github.com/ehmatthes/intro_programming/master/notebooks/intro_programming_index.ipynb}"
     ]
    }
   ]
  }
 ]
}