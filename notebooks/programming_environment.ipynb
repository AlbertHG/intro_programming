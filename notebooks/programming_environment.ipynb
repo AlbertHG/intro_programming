{
 "metadata": {
  "name": "programming_environment"
 },
 "nbformat": 3,
 "nbformat_minor": 0,
 "worksheets": [
  {
   "cells": [
    {
     "cell_type": "markdown",
     "metadata": {},
     "source": [
      "<a name='top'></a>Programming Environment\n",
      "===\n",
      "We use Ubuntu Linux as our main programming environment, for a number of reasons. This page covers a number of things we need to be aware of to help use and maintain a Linux computer."
     ]
    },
    {
     "cell_type": "markdown",
     "metadata": {},
     "source": [
      "[Introduction to Programming home page](http://nbviewer.ipython.org/urls/raw.github.com/ehmatthes/intro_programming/master/notebooks/intro_programming_index.ipynb)"
     ]
    },
    {
     "cell_type": "markdown",
     "metadata": {},
     "source": [
      "Contents\n",
      "===\n",
      "- [Updating Ubuntu](#updating)\n",
      "- [Terminal Shortcuts](#terminal_shortcuts)\n",
      "- [Installing Python 3.3 on Ubuntu 12.04](python3.3_ubuntu12.04)\n",
      "- [Installing Geany](#install_geany)"
     ]
    },
    {
     "cell_type": "markdown",
     "metadata": {},
     "source": [
      "<a name='updating'></a>Updating Ubuntu\n",
      "===\n",
      "Running updates is a good idea; it keeps your computer functioning appropriately."
     ]
    },
    {
     "cell_type": "markdown",
     "metadata": {},
     "source": [
      "From the terminal\n",
      "---\n",
      "By taking this class, you have some interest in working with computers in a powerful way. The terminal is the most powerful way to use a linux computer, so let's jump in and use it whenever possible.\n",
      "\n",
      "Open a terminal using the keyboard shortcut Ctrl-Alt-T.\n",
      "\n",
      "Type the following command, and press enter:\n",
      "\n",
      "    sudo apt-get update\n",
      "\n",
      "You will have to enter your password. Do this, and watch the information scroll by. Your computer is looking to find out which packages can be updated.\n",
      "\n",
      "Type the following command, and press enter:\n",
      "\n",
      "    sudo apt-get dist-upgrade\n",
      "\n",
      "When you run this command, your computer downloads and installs all of the updates that were identified by the previous command."
     ]
    },
    {
     "cell_type": "markdown",
     "metadata": {},
     "source": [
      "[top](#top)"
     ]
    },
    {
     "cell_type": "markdown",
     "metadata": {},
     "source": [
      "<a name='terminal_shortcuts'></a>Terminal Shortcuts\n",
      "===\n",
      "There are a few things that will help you become comfortable using the terminal.\n",
      "\n",
      "- Open a terminal: Ctrl-Alt-T\n",
      "- Scroll through your previous terminal commands: up arrow, down arrow"
     ]
    },
    {
     "cell_type": "markdown",
     "metadata": {},
     "source": [
      "[top](#top)"
     ]
    },
    {
     "cell_type": "markdown",
     "metadata": {},
     "source": [
      "<a name='python3.3_ubuntu12.04'></a>Installing Python 3.3 on Ubuntu 12.04\n",
      "===\n",
      "Ubuntu is still using Python 2.7 by default. It is fairly easy to install Python 3.3, however, and then be able to choose the version of Python you want to use.\n",
      "\n",
      "Add the \"deadsnakes\" package archive (ppa) to your system. This archive has a number of older and newer versions of Python. Then install python3.3.\n",
      "\n",
      "    sudo apt-get install python-software-properties\n",
      "    sudo add-apt-repository ppa:fkrull/deadsnakes\n",
      "    sudo apt-get update\n",
      "    sudo apt-get install python3.3\n",
      "\n",
      "Now that Python 3.3 is installed on your system, you have two options. You can start a default Python 2.7 session by running the command 'python' in a terminal. You can start a Python 3.3 session by running the command 'python3.3' in a terminal."
     ]
    },
    {
     "cell_type": "markdown",
     "metadata": {},
     "source": [
      "[top](#top)"
     ]
    },
    {
     "cell_type": "markdown",
     "metadata": {},
     "source": [
      "<a name='install_geany'></a>Installing Geany\n",
      "===\n",
      "Geany is one of the text editors we will use for writing programs. Geany is a simple editor, which makes it easy to run programs. Output is shown in a separate terminal window, which gets you used to working in terminals as well."
     ]
    },
    {
     "cell_type": "markdown",
     "metadata": {},
     "source": [
      "Open a terminal.\n",
      "\n",
      "    sudo apt-get install geany\n",
      "\n",
      "Press the windows button, and type 'geany'.\n",
      "\n",
      "Drag the geany icon to the task bar on the left side of the screen. This creates a shortcut you can use to start geany.\n",
      "\n",
      "Write a Hello World program, and save it as 'hello.py'.\n",
      "\n",
      "There are three ways you can run a program in Geany:\n",
      "\n",
      "- Build > Execute\n",
      "- Press F5\n",
      "- Click the icon with three gears on it\n",
      "\n",
      "You should see a terminal window pop up, with your output in it."
     ]
    },
    {
     "cell_type": "markdown",
     "metadata": {},
     "source": [
      "Configuring Geany to use Python3.3\n",
      "---\n",
      "Open Geany, and go to Build >> Set Build Commands.\n",
      "\n",
      "Under 'Python commands', look for the 'Compile' line. Enter the following in the 'Command' box:\n",
      "\n",
      "    python3.3 -m py_compile \"%f\"\n",
      "\n",
      "Under 'Execute commands', look for the 'Execute' line. Enter the following in the 'Command' box:\n",
      "\n",
      "    python3.3 \"%f\"\n",
      "\n",
      "Test your setup with a hello.py file, using Python 3.3 syntax."
     ]
    },
    {
     "cell_type": "markdown",
     "metadata": {},
     "source": [
      "[top](#top)"
     ]
    },
    {
     "cell_type": "markdown",
     "metadata": {},
     "source": [
      "- - -\n",
      "[Introduction to Programming home page](http://nbviewer.ipython.org/urls/raw.github.com/ehmatthes/intro_programming/master/notebooks/intro_programming_index.ipynb}"
     ]
    }
   ],
   "metadata": {}
  }
 ]
}