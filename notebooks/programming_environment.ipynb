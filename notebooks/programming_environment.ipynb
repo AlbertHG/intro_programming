{
 "metadata": {
  "name": "programming_environment"
 },
 "nbformat": 3,
 "nbformat_minor": 0,
 "worksheets": [
  {
   "cells": [
    {
     "cell_type": "markdown",
     "metadata": {},
     "source": [
      "<a name='top'></a>Programming Environment\n",
      "===\n",
      "We use Ubuntu Linux as our main programming environment, for a number of reasons. This page covers a number of things we need to be aware of to help use and maintain a Linux computer."
     ]
    },
    {
     "cell_type": "markdown",
     "metadata": {},
     "source": [
      "[Home](http://nbviewer.ipython.org/urls/raw.github.com/ehmatthes/intro_programming/master/notebooks/index.ipynb)\n",
      "[Next: Hello World](http://nbviewer.ipython.org/urls/raw.github.com/ehmatthes/intro_programming/master/notebooks/hello_world.ipynb)"
     ]
    },
    {
     "cell_type": "markdown",
     "metadata": {},
     "source": [
      "Contents\n",
      "===\n",
      "- [Overview](#overview)"
     ]
    },
    {
     "cell_type": "markdown",
     "metadata": {},
     "source": [
      "<a name='overview'></a>Overview\n",
      "===\n",
      "Our goal is to help you get Python up and running on your computer, so that you can write and run your own programs. To do this, we want to:\n",
      "\n",
      "- Find out if Python is already installed on your computer.\n",
      "- Install Python, if it is not already installed.\n",
      "- Install Geany, a text editor that will make it easy to run your first programs.\n",
      "- Help you enter and run Hello World, your first Python program.\n",
      "- Congratulate you if it works, and give you some options for troubleshooting if it doesn't work."
     ]
    },
    {
     "cell_type": "markdown",
     "metadata": {},
     "source": [
      "[top](#top)"
     ]
    },
    {
     "cell_type": "markdown",
     "metadata": {},
     "source": [
      "- - -\n",
      "[Home](http://nbviewer.ipython.org/urls/raw.github.com/ehmatthes/intro_programming/master/notebooks/index.ipynb)\n",
      "[Next: Hello World](http://nbviewer.ipython.org/urls/raw.github.com/ehmatthes/intro_programming/master/notebooks/hello_world.ipynb)"
     ]
    }
   ],
   "metadata": {}
  }
 ]
}